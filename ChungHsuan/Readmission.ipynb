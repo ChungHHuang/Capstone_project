{
 "cells": [
  {
   "cell_type": "code",
   "execution_count": 1,
   "metadata": {},
   "outputs": [],
   "source": [
    "from Preprocess import *\n",
    "import pandas as pd\n",
    "import numpy as np\n",
    "from sklearn.metrics import roc_curve, auc\n",
    "from sklearn import model_selection as ms\n",
    "from sklearn.linear_model import LogisticRegression\n",
    "from sklearn.ensemble import RandomForestClassifier, GradientBoostingClassifier\n",
    "import xgboost as xgb\n",
    "from sklearn.preprocessing import OneHotEncoder,LabelEncoder\n",
    "from sklearn.metrics import confusion_matrix,roc_curve, roc_auc_score,precision_recall_fscore_support,classification_report\n",
    "from sklearn.utils import resample\n",
    "from imblearn.over_sampling import SMOTE\n",
    "from sklearn.model_selection import cross_val_score\n",
    "from matplotlib import pyplot as plt\n",
    "%matplotlib inline\n",
    "import warnings\n",
    "warnings.filterwarnings('ignore')"
   ]
  },
  {
   "cell_type": "markdown",
   "metadata": {},
   "source": [
    "# Logistic Regression\n",
    "\n",
    "### Get preprocessing dataframe"
   ]
  },
  {
   "cell_type": "code",
   "execution_count": 2,
   "metadata": {},
   "outputs": [
    {
     "name": "stdout",
     "output_type": "stream",
     "text": [
      "Original data shape (101766, 50)\n",
      "Process Missing data\n",
      "Delete multipule encounters\n",
      "Transform features\n",
      "Reduce skewness\n",
      "Dummify variables and drop the most frequent category\n",
      "Data shape after preprocessing: (69973, 214)\n"
     ]
    },
    {
     "data": {
      "text/html": [
       "<div>\n",
       "<style scoped>\n",
       "    .dataframe tbody tr th:only-of-type {\n",
       "        vertical-align: middle;\n",
       "    }\n",
       "\n",
       "    .dataframe tbody tr th {\n",
       "        vertical-align: top;\n",
       "    }\n",
       "\n",
       "    .dataframe thead th {\n",
       "        text-align: right;\n",
       "    }\n",
       "</style>\n",
       "<table border=\"1\" class=\"dataframe\">\n",
       "  <thead>\n",
       "    <tr style=\"text-align: right;\">\n",
       "      <th></th>\n",
       "      <th>time_in_hospital</th>\n",
       "      <th>num_lab_procedures</th>\n",
       "      <th>num_procedures</th>\n",
       "      <th>num_medications</th>\n",
       "      <th>number_outpatient</th>\n",
       "      <th>number_emergency</th>\n",
       "      <th>number_inpatient</th>\n",
       "      <th>number_diagnoses</th>\n",
       "      <th>race_AfricanAmerican</th>\n",
       "      <th>race_Asian</th>\n",
       "      <th>race_Hispanic</th>\n",
       "      <th>race_Missing</th>\n",
       "      <th>race_Other</th>\n",
       "      <th>gender_Male</th>\n",
       "      <th>gender_Unknown/Invalid</th>\n",
       "      <th>age_[0-10)</th>\n",
       "      <th>age_[10-20)</th>\n",
       "      <th>age_[20-30)</th>\n",
       "      <th>age_[30-40)</th>\n",
       "      <th>age_[40-50)</th>\n",
       "      <th>age_[50-60)</th>\n",
       "      <th>age_[60-70)</th>\n",
       "      <th>age_[80-90)</th>\n",
       "      <th>age_[90-100)</th>\n",
       "      <th>admission_type_id_2</th>\n",
       "      <th>...</th>\n",
       "      <th>diabetesMed_No</th>\n",
       "      <th>diag_1_group_Digestive</th>\n",
       "      <th>diag_1_group_Genitourinary</th>\n",
       "      <th>diag_1_group_Injury</th>\n",
       "      <th>diag_1_group_Missing</th>\n",
       "      <th>diag_1_group_Musculoskeletal</th>\n",
       "      <th>diag_1_group_Neoplasms</th>\n",
       "      <th>diag_1_group_Other</th>\n",
       "      <th>diag_1_group_Respiratory</th>\n",
       "      <th>diag_2_group_Digestive</th>\n",
       "      <th>diag_2_group_Genitourinary</th>\n",
       "      <th>diag_2_group_Injury</th>\n",
       "      <th>diag_2_group_Missing</th>\n",
       "      <th>diag_2_group_Musculoskeletal</th>\n",
       "      <th>diag_2_group_Neoplasms</th>\n",
       "      <th>diag_2_group_Other</th>\n",
       "      <th>diag_2_group_Respiratory</th>\n",
       "      <th>diag_3_group_Digestive</th>\n",
       "      <th>diag_3_group_Genitourinary</th>\n",
       "      <th>diag_3_group_Injury</th>\n",
       "      <th>diag_3_group_Missing</th>\n",
       "      <th>diag_3_group_Musculoskeletal</th>\n",
       "      <th>diag_3_group_Neoplasms</th>\n",
       "      <th>diag_3_group_Other</th>\n",
       "      <th>diag_3_group_Respiratory</th>\n",
       "    </tr>\n",
       "  </thead>\n",
       "  <tbody>\n",
       "    <tr>\n",
       "      <th>0</th>\n",
       "      <td>2.219537</td>\n",
       "      <td>77</td>\n",
       "      <td>2.186540</td>\n",
       "      <td>5.547870</td>\n",
       "      <td>0.0</td>\n",
       "      <td>0.0</td>\n",
       "      <td>0.0</td>\n",
       "      <td>8</td>\n",
       "      <td>0</td>\n",
       "      <td>0</td>\n",
       "      <td>0</td>\n",
       "      <td>0</td>\n",
       "      <td>0</td>\n",
       "      <td>0</td>\n",
       "      <td>0</td>\n",
       "      <td>0</td>\n",
       "      <td>0</td>\n",
       "      <td>0</td>\n",
       "      <td>0</td>\n",
       "      <td>0</td>\n",
       "      <td>1</td>\n",
       "      <td>0</td>\n",
       "      <td>0</td>\n",
       "      <td>0</td>\n",
       "      <td>1</td>\n",
       "      <td>...</td>\n",
       "      <td>0</td>\n",
       "      <td>0</td>\n",
       "      <td>0</td>\n",
       "      <td>0</td>\n",
       "      <td>0</td>\n",
       "      <td>0</td>\n",
       "      <td>0</td>\n",
       "      <td>0</td>\n",
       "      <td>0</td>\n",
       "      <td>0</td>\n",
       "      <td>0</td>\n",
       "      <td>1</td>\n",
       "      <td>0</td>\n",
       "      <td>0</td>\n",
       "      <td>0</td>\n",
       "      <td>0</td>\n",
       "      <td>0</td>\n",
       "      <td>1</td>\n",
       "      <td>0</td>\n",
       "      <td>0</td>\n",
       "      <td>0</td>\n",
       "      <td>0</td>\n",
       "      <td>0</td>\n",
       "      <td>0</td>\n",
       "      <td>0</td>\n",
       "    </tr>\n",
       "    <tr>\n",
       "      <th>1</th>\n",
       "      <td>1.104172</td>\n",
       "      <td>49</td>\n",
       "      <td>0.722179</td>\n",
       "      <td>3.398773</td>\n",
       "      <td>0.0</td>\n",
       "      <td>0.0</td>\n",
       "      <td>0.0</td>\n",
       "      <td>3</td>\n",
       "      <td>0</td>\n",
       "      <td>0</td>\n",
       "      <td>0</td>\n",
       "      <td>0</td>\n",
       "      <td>0</td>\n",
       "      <td>0</td>\n",
       "      <td>0</td>\n",
       "      <td>0</td>\n",
       "      <td>0</td>\n",
       "      <td>0</td>\n",
       "      <td>0</td>\n",
       "      <td>0</td>\n",
       "      <td>1</td>\n",
       "      <td>0</td>\n",
       "      <td>0</td>\n",
       "      <td>0</td>\n",
       "      <td>0</td>\n",
       "      <td>...</td>\n",
       "      <td>1</td>\n",
       "      <td>0</td>\n",
       "      <td>0</td>\n",
       "      <td>0</td>\n",
       "      <td>0</td>\n",
       "      <td>1</td>\n",
       "      <td>0</td>\n",
       "      <td>0</td>\n",
       "      <td>0</td>\n",
       "      <td>0</td>\n",
       "      <td>0</td>\n",
       "      <td>0</td>\n",
       "      <td>0</td>\n",
       "      <td>0</td>\n",
       "      <td>0</td>\n",
       "      <td>1</td>\n",
       "      <td>0</td>\n",
       "      <td>1</td>\n",
       "      <td>0</td>\n",
       "      <td>0</td>\n",
       "      <td>0</td>\n",
       "      <td>0</td>\n",
       "      <td>0</td>\n",
       "      <td>0</td>\n",
       "      <td>0</td>\n",
       "    </tr>\n",
       "    <tr>\n",
       "      <th>2</th>\n",
       "      <td>1.621388</td>\n",
       "      <td>68</td>\n",
       "      <td>1.172732</td>\n",
       "      <td>4.768542</td>\n",
       "      <td>0.0</td>\n",
       "      <td>0.0</td>\n",
       "      <td>0.0</td>\n",
       "      <td>9</td>\n",
       "      <td>0</td>\n",
       "      <td>0</td>\n",
       "      <td>0</td>\n",
       "      <td>0</td>\n",
       "      <td>0</td>\n",
       "      <td>0</td>\n",
       "      <td>0</td>\n",
       "      <td>0</td>\n",
       "      <td>0</td>\n",
       "      <td>0</td>\n",
       "      <td>0</td>\n",
       "      <td>0</td>\n",
       "      <td>0</td>\n",
       "      <td>0</td>\n",
       "      <td>1</td>\n",
       "      <td>0</td>\n",
       "      <td>0</td>\n",
       "      <td>...</td>\n",
       "      <td>0</td>\n",
       "      <td>0</td>\n",
       "      <td>0</td>\n",
       "      <td>1</td>\n",
       "      <td>0</td>\n",
       "      <td>0</td>\n",
       "      <td>0</td>\n",
       "      <td>0</td>\n",
       "      <td>0</td>\n",
       "      <td>0</td>\n",
       "      <td>0</td>\n",
       "      <td>0</td>\n",
       "      <td>0</td>\n",
       "      <td>0</td>\n",
       "      <td>0</td>\n",
       "      <td>0</td>\n",
       "      <td>1</td>\n",
       "      <td>0</td>\n",
       "      <td>0</td>\n",
       "      <td>0</td>\n",
       "      <td>0</td>\n",
       "      <td>0</td>\n",
       "      <td>0</td>\n",
       "      <td>1</td>\n",
       "      <td>0</td>\n",
       "    </tr>\n",
       "    <tr>\n",
       "      <th>3</th>\n",
       "      <td>1.395154</td>\n",
       "      <td>46</td>\n",
       "      <td>0.000000</td>\n",
       "      <td>4.486635</td>\n",
       "      <td>0.0</td>\n",
       "      <td>0.0</td>\n",
       "      <td>0.0</td>\n",
       "      <td>9</td>\n",
       "      <td>0</td>\n",
       "      <td>0</td>\n",
       "      <td>0</td>\n",
       "      <td>0</td>\n",
       "      <td>0</td>\n",
       "      <td>0</td>\n",
       "      <td>0</td>\n",
       "      <td>0</td>\n",
       "      <td>0</td>\n",
       "      <td>0</td>\n",
       "      <td>0</td>\n",
       "      <td>0</td>\n",
       "      <td>0</td>\n",
       "      <td>0</td>\n",
       "      <td>1</td>\n",
       "      <td>0</td>\n",
       "      <td>0</td>\n",
       "      <td>...</td>\n",
       "      <td>0</td>\n",
       "      <td>0</td>\n",
       "      <td>0</td>\n",
       "      <td>0</td>\n",
       "      <td>0</td>\n",
       "      <td>0</td>\n",
       "      <td>0</td>\n",
       "      <td>1</td>\n",
       "      <td>0</td>\n",
       "      <td>0</td>\n",
       "      <td>0</td>\n",
       "      <td>0</td>\n",
       "      <td>0</td>\n",
       "      <td>0</td>\n",
       "      <td>0</td>\n",
       "      <td>0</td>\n",
       "      <td>0</td>\n",
       "      <td>0</td>\n",
       "      <td>0</td>\n",
       "      <td>0</td>\n",
       "      <td>0</td>\n",
       "      <td>0</td>\n",
       "      <td>0</td>\n",
       "      <td>0</td>\n",
       "      <td>0</td>\n",
       "    </tr>\n",
       "    <tr>\n",
       "      <th>4</th>\n",
       "      <td>1.806578</td>\n",
       "      <td>49</td>\n",
       "      <td>0.000000</td>\n",
       "      <td>2.239054</td>\n",
       "      <td>0.0</td>\n",
       "      <td>0.0</td>\n",
       "      <td>0.0</td>\n",
       "      <td>3</td>\n",
       "      <td>1</td>\n",
       "      <td>0</td>\n",
       "      <td>0</td>\n",
       "      <td>0</td>\n",
       "      <td>0</td>\n",
       "      <td>0</td>\n",
       "      <td>0</td>\n",
       "      <td>0</td>\n",
       "      <td>0</td>\n",
       "      <td>0</td>\n",
       "      <td>1</td>\n",
       "      <td>0</td>\n",
       "      <td>0</td>\n",
       "      <td>0</td>\n",
       "      <td>0</td>\n",
       "      <td>0</td>\n",
       "      <td>0</td>\n",
       "      <td>...</td>\n",
       "      <td>0</td>\n",
       "      <td>0</td>\n",
       "      <td>1</td>\n",
       "      <td>0</td>\n",
       "      <td>0</td>\n",
       "      <td>0</td>\n",
       "      <td>0</td>\n",
       "      <td>0</td>\n",
       "      <td>0</td>\n",
       "      <td>0</td>\n",
       "      <td>0</td>\n",
       "      <td>0</td>\n",
       "      <td>0</td>\n",
       "      <td>0</td>\n",
       "      <td>1</td>\n",
       "      <td>0</td>\n",
       "      <td>0</td>\n",
       "      <td>1</td>\n",
       "      <td>0</td>\n",
       "      <td>0</td>\n",
       "      <td>0</td>\n",
       "      <td>0</td>\n",
       "      <td>0</td>\n",
       "      <td>0</td>\n",
       "      <td>0</td>\n",
       "    </tr>\n",
       "  </tbody>\n",
       "</table>\n",
       "<p>5 rows × 214 columns</p>\n",
       "</div>"
      ],
      "text/plain": [
       "   time_in_hospital  num_lab_procedures  num_procedures  num_medications  \\\n",
       "0          2.219537                  77        2.186540         5.547870   \n",
       "1          1.104172                  49        0.722179         3.398773   \n",
       "2          1.621388                  68        1.172732         4.768542   \n",
       "3          1.395154                  46        0.000000         4.486635   \n",
       "4          1.806578                  49        0.000000         2.239054   \n",
       "\n",
       "   number_outpatient  number_emergency  number_inpatient  number_diagnoses  \\\n",
       "0                0.0               0.0               0.0                 8   \n",
       "1                0.0               0.0               0.0                 3   \n",
       "2                0.0               0.0               0.0                 9   \n",
       "3                0.0               0.0               0.0                 9   \n",
       "4                0.0               0.0               0.0                 3   \n",
       "\n",
       "   race_AfricanAmerican  race_Asian  race_Hispanic  race_Missing  race_Other  \\\n",
       "0                     0           0              0             0           0   \n",
       "1                     0           0              0             0           0   \n",
       "2                     0           0              0             0           0   \n",
       "3                     0           0              0             0           0   \n",
       "4                     1           0              0             0           0   \n",
       "\n",
       "   gender_Male  gender_Unknown/Invalid  age_[0-10)  age_[10-20)  age_[20-30)  \\\n",
       "0            0                       0           0            0            0   \n",
       "1            0                       0           0            0            0   \n",
       "2            0                       0           0            0            0   \n",
       "3            0                       0           0            0            0   \n",
       "4            0                       0           0            0            0   \n",
       "\n",
       "   age_[30-40)  age_[40-50)  age_[50-60)  age_[60-70)  age_[80-90)  \\\n",
       "0            0            0            1            0            0   \n",
       "1            0            0            1            0            0   \n",
       "2            0            0            0            0            1   \n",
       "3            0            0            0            0            1   \n",
       "4            1            0            0            0            0   \n",
       "\n",
       "   age_[90-100)  admission_type_id_2  ...  diabetesMed_No  \\\n",
       "0             0                    1  ...               0   \n",
       "1             0                    0  ...               1   \n",
       "2             0                    0  ...               0   \n",
       "3             0                    0  ...               0   \n",
       "4             0                    0  ...               0   \n",
       "\n",
       "   diag_1_group_Digestive  diag_1_group_Genitourinary  diag_1_group_Injury  \\\n",
       "0                       0                           0                    0   \n",
       "1                       0                           0                    0   \n",
       "2                       0                           0                    1   \n",
       "3                       0                           0                    0   \n",
       "4                       0                           1                    0   \n",
       "\n",
       "   diag_1_group_Missing  diag_1_group_Musculoskeletal  diag_1_group_Neoplasms  \\\n",
       "0                     0                             0                       0   \n",
       "1                     0                             1                       0   \n",
       "2                     0                             0                       0   \n",
       "3                     0                             0                       0   \n",
       "4                     0                             0                       0   \n",
       "\n",
       "   diag_1_group_Other  diag_1_group_Respiratory  diag_2_group_Digestive  \\\n",
       "0                   0                         0                       0   \n",
       "1                   0                         0                       0   \n",
       "2                   0                         0                       0   \n",
       "3                   1                         0                       0   \n",
       "4                   0                         0                       0   \n",
       "\n",
       "   diag_2_group_Genitourinary  diag_2_group_Injury  diag_2_group_Missing  \\\n",
       "0                           0                    1                     0   \n",
       "1                           0                    0                     0   \n",
       "2                           0                    0                     0   \n",
       "3                           0                    0                     0   \n",
       "4                           0                    0                     0   \n",
       "\n",
       "   diag_2_group_Musculoskeletal  diag_2_group_Neoplasms  diag_2_group_Other  \\\n",
       "0                             0                       0                   0   \n",
       "1                             0                       0                   1   \n",
       "2                             0                       0                   0   \n",
       "3                             0                       0                   0   \n",
       "4                             0                       1                   0   \n",
       "\n",
       "   diag_2_group_Respiratory  diag_3_group_Digestive  \\\n",
       "0                         0                       1   \n",
       "1                         0                       1   \n",
       "2                         1                       0   \n",
       "3                         0                       0   \n",
       "4                         0                       1   \n",
       "\n",
       "   diag_3_group_Genitourinary  diag_3_group_Injury  diag_3_group_Missing  \\\n",
       "0                           0                    0                     0   \n",
       "1                           0                    0                     0   \n",
       "2                           0                    0                     0   \n",
       "3                           0                    0                     0   \n",
       "4                           0                    0                     0   \n",
       "\n",
       "   diag_3_group_Musculoskeletal  diag_3_group_Neoplasms  diag_3_group_Other  \\\n",
       "0                             0                       0                   0   \n",
       "1                             0                       0                   0   \n",
       "2                             0                       0                   1   \n",
       "3                             0                       0                   0   \n",
       "4                             0                       0                   0   \n",
       "\n",
       "   diag_3_group_Respiratory  \n",
       "0                         0  \n",
       "1                         0  \n",
       "2                         0  \n",
       "3                         0  \n",
       "4                         0  \n",
       "\n",
       "[5 rows x 214 columns]"
      ]
     },
     "execution_count": 2,
     "metadata": {},
     "output_type": "execute_result"
    }
   ],
   "source": [
    "X_lr, Y_lr = get_data('diabetic_data.csv',labelEncode=False,dummy=True,skewness=True,standardize=False,diag_group=True)\n",
    "pd.set_option('display.max_columns', 50)\n",
    "X_lr.head()"
   ]
  },
  {
   "cell_type": "markdown",
   "metadata": {},
   "source": [
    "### Train test split"
   ]
  },
  {
   "cell_type": "code",
   "execution_count": 3,
   "metadata": {},
   "outputs": [
    {
     "name": "stdout",
     "output_type": "stream",
     "text": [
      "Readmission ratio for processed data : 0.08970602946850928\n",
      "Readmission ratio for training data and data size: 0.08964235949837436, 55978\n",
      "Readmission ratio for test data and data size: 0.08996070025008931, 13995\n"
     ]
    }
   ],
   "source": [
    "x_train_lr, x_test_lr, y_train_lr, y_test_lr = ms.train_test_split(X_lr, Y_lr,test_size=0.2, random_state=0)\n",
    "print('Readmission ratio for processed data : {}'.format(len(Y_lr[Y_lr==1])/len(Y_lr)))\n",
    "print('Readmission ratio for training data and data size: {}, {}'\\\n",
    "      .format(len(y_train_lr[y_train_lr==1])/len(y_train_lr),len(y_train_lr)))\n",
    "print('Readmission ratio for test data and data size: {}, {}'\\\n",
    "      .format(len(y_test_lr[y_test_lr==1])/len(y_test_lr),len(y_test_lr)))"
   ]
  },
  {
   "cell_type": "markdown",
   "metadata": {},
   "source": [
    "### Resampling — Oversample minority class"
   ]
  },
  {
   "cell_type": "code",
   "execution_count": 4,
   "metadata": {},
   "outputs": [
    {
     "name": "stdout",
     "output_type": "stream",
     "text": [
      "1    50960\n",
      "0    50960\n",
      "Name: readmitted, dtype: int64\n"
     ]
    }
   ],
   "source": [
    "# Concatenate training data back together\n",
    "X_up = pd.concat([x_train_lr, y_train_lr], axis=1)\n",
    "\n",
    "# separate minority and majority classes\n",
    "not_readmitted = X_up[X_up.readmitted==0]\n",
    "readmitted = X_up[X_up.readmitted==1]\n",
    "\n",
    "# upsample minority\n",
    "readmit_upsampled = resample(readmitted,\n",
    "                             replace=True, # sample with replacement\n",
    "                             n_samples=int(1*len(not_readmitted)), # match number in majority class\n",
    "                             random_state=1) # reproducible results\n",
    "\n",
    "# combine majority and upsampled minority\n",
    "upsampled = pd.concat([not_readmitted, readmit_upsampled])\n",
    "\n",
    "# check new class counts\n",
    "print(upsampled.readmitted.value_counts())\n",
    "\n",
    "y_train_up = upsampled['readmitted']\n",
    "x_train_up = upsampled.drop('readmitted',1)"
   ]
  },
  {
   "cell_type": "markdown",
   "metadata": {},
   "source": [
    "### Synthetic Minority Oversampling Technique (SMOTE)"
   ]
  },
  {
   "cell_type": "code",
   "execution_count": 5,
   "metadata": {},
   "outputs": [
    {
     "name": "stdout",
     "output_type": "stream",
     "text": [
      "1    50960\n",
      "0    50960\n",
      "dtype: int64\n"
     ]
    }
   ],
   "source": [
    "smo = SMOTE(random_state=1, ratio=1)\n",
    "x_train_smo, y_train_smo = smo.fit_sample(x_train_lr, y_train_lr)\n",
    "\n",
    "# check new class counts\n",
    "print(pd.Series(y_train_smo).value_counts())"
   ]
  },
  {
   "cell_type": "code",
   "execution_count": 6,
   "metadata": {},
   "outputs": [
    {
     "name": "stdout",
     "output_type": "stream",
     "text": [
      "Train score use over-sampling: 0.6132358712715855\n",
      "Test score use over-sampling: 0.6563058235083958\n",
      "Train score use SMOTE: 0.636734693877551\n",
      "Test score use SMOTE: 0.6382993926402286\n"
     ]
    }
   ],
   "source": [
    "from sklearn.linear_model import LogisticRegression\n",
    "LR_up = LogisticRegression(class_weight='balanced')\n",
    "LR_smo = LogisticRegression(class_weight='balanced')\n",
    "LR_up.fit(x_train_up, y_train_up)\n",
    "y_predict_up = LR_up.predict(x_test_lr)\n",
    "LR_smo.fit(x_train_smo, y_train_smo)\n",
    "y_predict_smo = LR_smo.predict(x_test_lr)\n",
    "print('Train score use over-sampling: {}'.format(LR_up.score(x_train_up, y_train_up)))\n",
    "print('Test score use over-sampling: {}'.format(LR_up.score(x_test_lr, y_test_lr)))\n",
    "print('Train score use SMOTE: {}'.format(LR_smo.score(x_train_smo, y_train_smo)))\n",
    "print('Test score use SMOTE: {}'.format(LR_smo.score(x_test_lr, y_test_lr)))"
   ]
  },
  {
   "cell_type": "code",
   "execution_count": 7,
   "metadata": {},
   "outputs": [
    {
     "data": {
      "text/plain": [
       "array([[8485, 4251],\n",
       "       [ 559,  700]])"
      ]
     },
     "execution_count": 7,
     "metadata": {},
     "output_type": "execute_result"
    }
   ],
   "source": [
    "confusion_matrix(y_test_lr,y_predict_up)"
   ]
  },
  {
   "cell_type": "code",
   "execution_count": 8,
   "metadata": {},
   "outputs": [
    {
     "data": {
      "text/plain": [
       "array([[8242, 4494],\n",
       "       [ 568,  691]])"
      ]
     },
     "execution_count": 8,
     "metadata": {},
     "output_type": "execute_result"
    }
   ],
   "source": [
    "confusion_matrix(y_test_lr,y_predict_smo)"
   ]
  },
  {
   "cell_type": "code",
   "execution_count": 9,
   "metadata": {},
   "outputs": [
    {
     "name": "stdout",
     "output_type": "stream",
     "text": [
      "              precision    recall  f1-score   support\n",
      "\n",
      "           0       0.94      0.65      0.77     12736\n",
      "           1       0.13      0.55      0.21      1259\n",
      "\n",
      "    accuracy                           0.64     13995\n",
      "   macro avg       0.53      0.60      0.49     13995\n",
      "weighted avg       0.86      0.64      0.72     13995\n",
      "\n"
     ]
    }
   ],
   "source": [
    "print(classification_report(y_test_lr,y_predict_smo))"
   ]
  },
  {
   "cell_type": "markdown",
   "metadata": {},
   "source": [
    "### K-fold"
   ]
  },
  {
   "cell_type": "code",
   "execution_count": 10,
   "metadata": {},
   "outputs": [
    {
     "name": "stdout",
     "output_type": "stream",
     "text": [
      "Train score use over-sampling: 0.6099784144427002\n",
      "Train score use SMOTE: 0.6348214285714286\n"
     ]
    }
   ],
   "source": [
    "LR_up.set_params(C=1e1,penalty='l2')\n",
    "LR_smo.set_params(C=1e1,penalty='l2')\n",
    "stratify_divide = ms.StratifiedKFold(n_splits=5, random_state=0)\n",
    "scores_up = ms.cross_val_score(estimator=LR_up, X=x_train_up, y=y_train_up, cv=stratify_divide)\n",
    "scores_smo = ms.cross_val_score(estimator=LR_smo, X=x_train_smo, y=y_train_smo, cv=stratify_divide)\n",
    "print('Train score use over-sampling: {}'.format(scores_up.mean()))\n",
    "print('Train score use SMOTE: {}'.format(scores_smo.mean()))"
   ]
  },
  {
   "cell_type": "code",
   "execution_count": 11,
   "metadata": {},
   "outputs": [
    {
     "name": "stdout",
     "output_type": "stream",
     "text": [
      "Train score use over-sampling: 0.6108714179183978\n",
      "Train score use SMOTE: 0.6351654827497727\n"
     ]
    }
   ],
   "source": [
    "LR_up.set_params(C=1e1,penalty='l1')\n",
    "LR_smo.set_params(C=1e1,penalty='l1')\n",
    "stratify_divide = ms.StratifiedKFold(n_splits=9, random_state=0)\n",
    "scores_up = ms.cross_val_score(estimator=LR_up, X=x_train_up, y=y_train_up, cv=stratify_divide)\n",
    "scores_smo = ms.cross_val_score(estimator=LR_smo, X=x_train_smo, y=y_train_smo, cv=stratify_divide)\n",
    "print('Train score use over-sampling: {}'.format(scores_up.mean()))\n",
    "print('Train score use SMOTE: {}'.format(scores_smo.mean()))"
   ]
  },
  {
   "cell_type": "code",
   "execution_count": 12,
   "metadata": {},
   "outputs": [
    {
     "data": {
      "text/html": [
       "<div>\n",
       "<style scoped>\n",
       "    .dataframe tbody tr th:only-of-type {\n",
       "        vertical-align: middle;\n",
       "    }\n",
       "\n",
       "    .dataframe tbody tr th {\n",
       "        vertical-align: top;\n",
       "    }\n",
       "\n",
       "    .dataframe thead th {\n",
       "        text-align: right;\n",
       "    }\n",
       "</style>\n",
       "<table border=\"1\" class=\"dataframe\">\n",
       "  <thead>\n",
       "    <tr style=\"text-align: right;\">\n",
       "      <th></th>\n",
       "      <th>Coef_value</th>\n",
       "    </tr>\n",
       "  </thead>\n",
       "  <tbody>\n",
       "    <tr>\n",
       "      <th>discharge_disposition_id_15</th>\n",
       "      <td>2.516074</td>\n",
       "    </tr>\n",
       "    <tr>\n",
       "      <th>discharge_disposition_id_28</th>\n",
       "      <td>1.757489</td>\n",
       "    </tr>\n",
       "    <tr>\n",
       "      <th>discharge_disposition_id_22</th>\n",
       "      <td>1.631602</td>\n",
       "    </tr>\n",
       "    <tr>\n",
       "      <th>discharge_disposition_id_9</th>\n",
       "      <td>1.314041</td>\n",
       "    </tr>\n",
       "    <tr>\n",
       "      <th>discharge_disposition_id_5</th>\n",
       "      <td>1.255499</td>\n",
       "    </tr>\n",
       "  </tbody>\n",
       "</table>\n",
       "</div>"
      ],
      "text/plain": [
       "                             Coef_value\n",
       "discharge_disposition_id_15    2.516074\n",
       "discharge_disposition_id_28    1.757489\n",
       "discharge_disposition_id_22    1.631602\n",
       "discharge_disposition_id_9     1.314041\n",
       "discharge_disposition_id_5     1.255499"
      ]
     },
     "execution_count": 12,
     "metadata": {},
     "output_type": "execute_result"
    }
   ],
   "source": [
    "pd.DataFrame(LR_smo.coef_[0],index=x_train_lr.columns,columns=['Coef_value'])\\\n",
    "    .sort_values('Coef_value',ascending=False).head(5)"
   ]
  },
  {
   "cell_type": "code",
   "execution_count": 13,
   "metadata": {},
   "outputs": [
    {
     "data": {
      "text/html": [
       "<div>\n",
       "<style scoped>\n",
       "    .dataframe tbody tr th:only-of-type {\n",
       "        vertical-align: middle;\n",
       "    }\n",
       "\n",
       "    .dataframe tbody tr th {\n",
       "        vertical-align: top;\n",
       "    }\n",
       "\n",
       "    .dataframe thead th {\n",
       "        text-align: right;\n",
       "    }\n",
       "</style>\n",
       "<table border=\"1\" class=\"dataframe\">\n",
       "  <thead>\n",
       "    <tr style=\"text-align: right;\">\n",
       "      <th></th>\n",
       "      <th>Coef_value</th>\n",
       "    </tr>\n",
       "  </thead>\n",
       "  <tbody>\n",
       "    <tr>\n",
       "      <th>medical_specialty_Pediatrics-Endocrinology</th>\n",
       "      <td>-2.783026</td>\n",
       "    </tr>\n",
       "    <tr>\n",
       "      <th>medical_specialty_Gynecology</th>\n",
       "      <td>-2.217509</td>\n",
       "    </tr>\n",
       "    <tr>\n",
       "      <th>tolbutamide_Steady</th>\n",
       "      <td>-2.215466</td>\n",
       "    </tr>\n",
       "    <tr>\n",
       "      <th>admission_type_id_7</th>\n",
       "      <td>-1.968243</td>\n",
       "    </tr>\n",
       "    <tr>\n",
       "      <th>rosiglitazone_Down</th>\n",
       "      <td>-1.939586</td>\n",
       "    </tr>\n",
       "  </tbody>\n",
       "</table>\n",
       "</div>"
      ],
      "text/plain": [
       "                                            Coef_value\n",
       "medical_specialty_Pediatrics-Endocrinology   -2.783026\n",
       "medical_specialty_Gynecology                 -2.217509\n",
       "tolbutamide_Steady                           -2.215466\n",
       "admission_type_id_7                          -1.968243\n",
       "rosiglitazone_Down                           -1.939586"
      ]
     },
     "execution_count": 13,
     "metadata": {},
     "output_type": "execute_result"
    }
   ],
   "source": [
    "pd.DataFrame(LR_smo.coef_[0],index=x_train_lr.columns,columns=['Coef_value'])\\\n",
    "    .sort_values('Coef_value',ascending=True).head(5)"
   ]
  },
  {
   "cell_type": "code",
   "execution_count": 14,
   "metadata": {},
   "outputs": [
    {
     "data": {
      "text/html": [
       "<div>\n",
       "<style scoped>\n",
       "    .dataframe tbody tr th:only-of-type {\n",
       "        vertical-align: middle;\n",
       "    }\n",
       "\n",
       "    .dataframe tbody tr th {\n",
       "        vertical-align: top;\n",
       "    }\n",
       "\n",
       "    .dataframe thead th {\n",
       "        text-align: right;\n",
       "    }\n",
       "</style>\n",
       "<table border=\"1\" class=\"dataframe\">\n",
       "  <thead>\n",
       "    <tr style=\"text-align: right;\">\n",
       "      <th></th>\n",
       "      <th>quantile</th>\n",
       "      <th>amount</th>\n",
       "      <th>readmitted</th>\n",
       "      <th>min</th>\n",
       "      <th>max</th>\n",
       "      <th>pct_readmitted</th>\n",
       "      <th>lift</th>\n",
       "    </tr>\n",
       "  </thead>\n",
       "  <tbody>\n",
       "    <tr>\n",
       "      <th>9</th>\n",
       "      <td>10</td>\n",
       "      <td>1400</td>\n",
       "      <td>289</td>\n",
       "      <td>0.673576</td>\n",
       "      <td>0.976762</td>\n",
       "      <td>0.206429</td>\n",
       "      <td>2.294690</td>\n",
       "    </tr>\n",
       "    <tr>\n",
       "      <th>8</th>\n",
       "      <td>9</td>\n",
       "      <td>1399</td>\n",
       "      <td>175</td>\n",
       "      <td>0.592176</td>\n",
       "      <td>0.673559</td>\n",
       "      <td>0.125089</td>\n",
       "      <td>1.390511</td>\n",
       "    </tr>\n",
       "    <tr>\n",
       "      <th>7</th>\n",
       "      <td>8</td>\n",
       "      <td>1400</td>\n",
       "      <td>121</td>\n",
       "      <td>0.535185</td>\n",
       "      <td>0.592157</td>\n",
       "      <td>0.086429</td>\n",
       "      <td>0.960752</td>\n",
       "    </tr>\n",
       "    <tr>\n",
       "      <th>6</th>\n",
       "      <td>7</td>\n",
       "      <td>1399</td>\n",
       "      <td>140</td>\n",
       "      <td>0.487212</td>\n",
       "      <td>0.535166</td>\n",
       "      <td>0.100071</td>\n",
       "      <td>1.112409</td>\n",
       "    </tr>\n",
       "    <tr>\n",
       "      <th>5</th>\n",
       "      <td>6</td>\n",
       "      <td>1399</td>\n",
       "      <td>110</td>\n",
       "      <td>0.443232</td>\n",
       "      <td>0.487202</td>\n",
       "      <td>0.078628</td>\n",
       "      <td>0.874036</td>\n",
       "    </tr>\n",
       "    <tr>\n",
       "      <th>4</th>\n",
       "      <td>5</td>\n",
       "      <td>1400</td>\n",
       "      <td>97</td>\n",
       "      <td>0.402397</td>\n",
       "      <td>0.443213</td>\n",
       "      <td>0.069286</td>\n",
       "      <td>0.770190</td>\n",
       "    </tr>\n",
       "    <tr>\n",
       "      <th>3</th>\n",
       "      <td>4</td>\n",
       "      <td>1399</td>\n",
       "      <td>102</td>\n",
       "      <td>0.360360</td>\n",
       "      <td>0.402354</td>\n",
       "      <td>0.072909</td>\n",
       "      <td>0.810469</td>\n",
       "    </tr>\n",
       "    <tr>\n",
       "      <th>2</th>\n",
       "      <td>3</td>\n",
       "      <td>1400</td>\n",
       "      <td>91</td>\n",
       "      <td>0.313149</td>\n",
       "      <td>0.360359</td>\n",
       "      <td>0.065000</td>\n",
       "      <td>0.722549</td>\n",
       "    </tr>\n",
       "    <tr>\n",
       "      <th>1</th>\n",
       "      <td>2</td>\n",
       "      <td>1399</td>\n",
       "      <td>74</td>\n",
       "      <td>0.252303</td>\n",
       "      <td>0.313123</td>\n",
       "      <td>0.052895</td>\n",
       "      <td>0.587988</td>\n",
       "    </tr>\n",
       "    <tr>\n",
       "      <th>0</th>\n",
       "      <td>1</td>\n",
       "      <td>1400</td>\n",
       "      <td>60</td>\n",
       "      <td>0.011852</td>\n",
       "      <td>0.252247</td>\n",
       "      <td>0.042857</td>\n",
       "      <td>0.476406</td>\n",
       "    </tr>\n",
       "  </tbody>\n",
       "</table>\n",
       "</div>"
      ],
      "text/plain": [
       "  quantile  amount  readmitted       min       max  pct_readmitted      lift\n",
       "9       10    1400         289  0.673576  0.976762        0.206429  2.294690\n",
       "8        9    1399         175  0.592176  0.673559        0.125089  1.390511\n",
       "7        8    1400         121  0.535185  0.592157        0.086429  0.960752\n",
       "6        7    1399         140  0.487212  0.535166        0.100071  1.112409\n",
       "5        6    1399         110  0.443232  0.487202        0.078628  0.874036\n",
       "4        5    1400          97  0.402397  0.443213        0.069286  0.770190\n",
       "3        4    1399         102  0.360360  0.402354        0.072909  0.810469\n",
       "2        3    1400          91  0.313149  0.360359        0.065000  0.722549\n",
       "1        2    1399          74  0.252303  0.313123        0.052895  0.587988\n",
       "0        1    1400          60  0.011852  0.252247        0.042857  0.476406"
      ]
     },
     "execution_count": 14,
     "metadata": {},
     "output_type": "execute_result"
    }
   ],
   "source": [
    "quan_table_lr = quan_tab(LR_smo,x_test_lr,y_test_lr)\n",
    "quan_table_lr.sort_values('quantile',ascending=False)"
   ]
  },
  {
   "cell_type": "code",
   "execution_count": 15,
   "metadata": {},
   "outputs": [
    {
     "data": {
      "image/png": "[encoded data removed]",
      "text/plain": [
       "<Figure size 432x288 with 1 Axes>"
      ]
     },
     "metadata": {
      "needs_background": "light"
     },
     "output_type": "display_data"
    }
   ],
   "source": [
    "y_probs_lr = pd.DataFrame(LR_smo.predict_proba(x_test_lr))[1]\n",
    "fpr_lr, tpr_lr, thresholds_lr = roc_curve(y_test_lr, y_probs_lr)\n",
    "auc_lr = roc_auc_score(y_test_lr, y_probs_lr)\n",
    "plt.figure()\n",
    "lw = 2\n",
    "plt.plot(fpr_lr, tpr_lr, color='darkorange', lw=lw, label='ROC curve (area = %0.2f)' % auc_lr)\n",
    "plt.plot([0, 1], [0, 1], color='navy', lw=lw, linestyle='--')\n",
    "plt.xlim([0.0, 1.0])\n",
    "plt.ylim([0.0, 1.05])\n",
    "plt.xlabel('False Positive Rate')\n",
    "plt.ylabel('True Positive Rate')\n",
    "plt.title('Receiver operating characteristic example')\n",
    "plt.legend(loc=\"lower right\")\n",
    "plt.show()"
   ]
  },
  {
   "cell_type": "markdown",
   "metadata": {},
   "source": [
    "# Random forest and XGBoost\n",
    "\n",
    "### Get preprocessing dataframe for Random Forest and XGBoost"
   ]
  },
  {
   "cell_type": "code",
   "execution_count": 16,
   "metadata": {},
   "outputs": [
    {
     "name": "stdout",
     "output_type": "stream",
     "text": [
      "Original data shape (101766, 50)\n",
      "Process Missing data\n",
      "Delete multipule encounters\n",
      "Transform features\n",
      "Standardize numeric columns\n",
      "Conduce label encoding\n",
      "Data shape after preprocessing: (69973, 43)\n"
     ]
    }
   ],
   "source": [
    "# Random forest & XGB\n",
    "X, Y = get_data('diabetic_data.csv',labelEncode=True,dummy=False,skewness=False, standardize = True,diag_group=False)"
   ]
  },
  {
   "cell_type": "code",
   "execution_count": 17,
   "metadata": {},
   "outputs": [
    {
     "name": "stdout",
     "output_type": "stream",
     "text": [
      "Readmission ratio for processed data : 0.08970602946850928\n",
      "Readmission ratio for training data and data size: 0.08964235949837436, 55978\n",
      "Readmission ratio for test data and data size: 0.08996070025008931, 13995\n"
     ]
    }
   ],
   "source": [
    "x_train, x_test, y_train, y_test = ms.train_test_split(X, Y,test_size=0.2, random_state=0)\n",
    "print('Readmission ratio for processed data : {}'.format(len(Y[Y==1])/len(Y)))\n",
    "print('Readmission ratio for training data and data size: {}, {}'\\\n",
    "      .format(len(y_train[y_train==1])/len(y_train),len(y_train)))\n",
    "print('Readmission ratio for test data and data size: {}, {}'\\\n",
    "      .format(len(y_test[y_test==1])/len(y_test),len(y_test)))\n",
    "x_train_o = x_train\n",
    "x_test_o = x_test\n",
    "y_train_o = y_train\n",
    "y_test_o = y_test"
   ]
  },
  {
   "cell_type": "markdown",
   "metadata": {},
   "source": [
    "### Resampling techniques — Undersample majority class"
   ]
  },
  {
   "cell_type": "code",
   "execution_count": 18,
   "metadata": {},
   "outputs": [
    {
     "name": "stdout",
     "output_type": "stream",
     "text": [
      "1    5018\n",
      "0    5018\n",
      "Name: readmitted, dtype: int64\n"
     ]
    }
   ],
   "source": [
    "# Concatenate training data back together\n",
    "X_down = pd.concat([x_train, y_train], axis=1)\n",
    "\n",
    "# separate minority and majority classes\n",
    "not_readmitted = X_down[X_down.readmitted==0]\n",
    "readmitted = X_down[X_down.readmitted==1]\n",
    "\n",
    "# downsample majority\n",
    "not_readmit_downsampled = resample(not_readmitted,\n",
    "                                     replace = False, # sample without replacement\n",
    "                                     n_samples = int(1*len(readmitted)), # match minority n\n",
    "                                     random_state = 1) # reproducible results\n",
    "\n",
    "# combine minority and downsampled majority\n",
    "downsampled = pd.concat([not_readmit_downsampled, readmitted])\n",
    "\n",
    "# checking counts\n",
    "print(downsampled.readmitted.value_counts())\n",
    "\n",
    "y_train_down = downsampled['readmitted']\n",
    "x_train_down = downsampled.drop('readmitted',1)"
   ]
  },
  {
   "cell_type": "markdown",
   "metadata": {},
   "source": [
    "# Random Forest"
   ]
  },
  {
   "cell_type": "code",
   "execution_count": 19,
   "metadata": {},
   "outputs": [],
   "source": [
    "X_train = x_train_down\n",
    "y_train = y_train_down\n",
    "X_test = x_test\n",
    "func, para = rfc_optimization(X_train,y_train,5)"
   ]
  },
  {
   "cell_type": "code",
   "execution_count": 20,
   "metadata": {},
   "outputs": [
    {
     "name": "stdout",
     "output_type": "stream",
     "text": [
      "|   iter    |  target   | max_depth | min_sa... | n_esti... |\n",
      "-------------------------------------------------------------\n",
      "| \u001b[0m 1       \u001b[0m | \u001b[0m 0.6376  \u001b[0m | \u001b[0m 8.577   \u001b[0m | \u001b[0m 7.187   \u001b[0m | \u001b[0m 794.8   \u001b[0m |\n",
      "| \u001b[0m 2       \u001b[0m | \u001b[0m 0.6359  \u001b[0m | \u001b[0m 106.4   \u001b[0m | \u001b[0m 7.939   \u001b[0m | \u001b[0m 724.6   \u001b[0m |\n",
      "| \u001b[95m 3       \u001b[0m | \u001b[95m 0.638   \u001b[0m | \u001b[95m 19.72   \u001b[0m | \u001b[95m 6.808   \u001b[0m | \u001b[95m 503.3   \u001b[0m |\n",
      "| \u001b[0m 4       \u001b[0m | \u001b[0m 0.6362  \u001b[0m | \u001b[0m 126.3   \u001b[0m | \u001b[0m 7.045   \u001b[0m | \u001b[0m 967.4   \u001b[0m |\n",
      "| \u001b[0m 5       \u001b[0m | \u001b[0m 0.6332  \u001b[0m | \u001b[0m 98.24   \u001b[0m | \u001b[0m 6.873   \u001b[0m | \u001b[0m 148.7   \u001b[0m |\n",
      "| \u001b[0m 6       \u001b[0m | \u001b[0m 0.6053  \u001b[0m | \u001b[0m 1.05    \u001b[0m | \u001b[0m 9.949   \u001b[0m | \u001b[0m 10.47   \u001b[0m |\n",
      "| \u001b[0m 7       \u001b[0m | \u001b[0m 0.6331  \u001b[0m | \u001b[0m 147.4   \u001b[0m | \u001b[0m 2.293   \u001b[0m | \u001b[0m 998.7   \u001b[0m |\n",
      "| \u001b[0m 8       \u001b[0m | \u001b[0m 0.621   \u001b[0m | \u001b[0m 1.792   \u001b[0m | \u001b[0m 5.356   \u001b[0m | \u001b[0m 999.8   \u001b[0m |\n",
      "| \u001b[0m 9       \u001b[0m | \u001b[0m 0.6374  \u001b[0m | \u001b[0m 147.0   \u001b[0m | \u001b[0m 9.97    \u001b[0m | \u001b[0m 999.8   \u001b[0m |\n",
      "| \u001b[0m 10      \u001b[0m | \u001b[0m 0.6361  \u001b[0m | \u001b[0m 146.0   \u001b[0m | \u001b[0m 7.655   \u001b[0m | \u001b[0m 1e+03   \u001b[0m |\n",
      "=============================================================\n"
     ]
    }
   ],
   "source": [
    "rf_opt = rfc_train(X_train, y_train, X_test, y_test, func, para)"
   ]
  },
  {
   "cell_type": "code",
   "execution_count": 21,
   "metadata": {},
   "outputs": [
    {
     "name": "stdout",
     "output_type": "stream",
     "text": [
      "Train score: 0.9810681546432842\n",
      "Test score: 0.6003572704537334\n"
     ]
    }
   ],
   "source": [
    "y_pr_rf = rf_opt.predict(x_test)\n",
    "print('Train score: {}'.format(rf_opt.score(X_train, y_train)))\n",
    "print('Test score: {}'.format(rf_opt.score(x_test, y_test)))"
   ]
  },
  {
   "cell_type": "code",
   "execution_count": 22,
   "metadata": {},
   "outputs": [
    {
     "data": {
      "text/plain": [
       "array([[7597, 5139],\n",
       "       [ 454,  805]])"
      ]
     },
     "execution_count": 22,
     "metadata": {},
     "output_type": "execute_result"
    }
   ],
   "source": [
    "confusion_matrix(y_test,y_pr_rf)"
   ]
  },
  {
   "cell_type": "code",
   "execution_count": 23,
   "metadata": {},
   "outputs": [
    {
     "data": {
      "text/plain": [
       "<Figure size 720x576 with 0 Axes>"
      ]
     },
     "execution_count": 23,
     "metadata": {},
     "output_type": "execute_result"
    },
    {
     "data": {
      "image/png": "[encoded data removed]",
      "text/plain": [
       "<Figure size 432x288 with 1 Axes>"
      ]
     },
     "metadata": {
      "needs_background": "light"
     },
     "output_type": "display_data"
    },
    {
     "data": {
      "text/plain": [
       "<Figure size 720x576 with 0 Axes>"
      ]
     },
     "metadata": {},
     "output_type": "display_data"
    }
   ],
   "source": [
    "sorted_importance_rf = sorted(zip(x_test.columns, rf_opt.feature_importances_), key=lambda t:t[1], reverse=True)\n",
    "plt.barh([x[0] for x in sorted_importance_rf[:10]][::-1],[x[1] for x in sorted_importance_rf[:10]][::-1])\n",
    "plt.title('RF Top 10 Feature Importance', fontsize=18)\n",
    "plt.figure(figsize=(10,8))"
   ]
  },
  {
   "cell_type": "code",
   "execution_count": 24,
   "metadata": {},
   "outputs": [
    {
     "data": {
      "text/plain": [
       "(array([0.94360949, 0.13543069]),\n",
       " array([0.59649812, 0.63939635]),\n",
       " array([0.73093761, 0.22351798]),\n",
       " array([12736,  1259]))"
      ]
     },
     "execution_count": 24,
     "metadata": {},
     "output_type": "execute_result"
    }
   ],
   "source": [
    "precision_recall_fscore_support(y_test,y_pr_rf)\n",
    "# Output is:\n",
    "# [Precision of class 0, Precision of class 1]\n",
    "# [Recall of class 0   , Recall of class 1]\n",
    "# [F1 Score of class 0 , F1 Score of class 1]\n",
    "# [Instances of class 0, Instances of class 1]"
   ]
  },
  {
   "cell_type": "code",
   "execution_count": 25,
   "metadata": {},
   "outputs": [
    {
     "data": {
      "text/html": [
       "<div>\n",
       "<style scoped>\n",
       "    .dataframe tbody tr th:only-of-type {\n",
       "        vertical-align: middle;\n",
       "    }\n",
       "\n",
       "    .dataframe tbody tr th {\n",
       "        vertical-align: top;\n",
       "    }\n",
       "\n",
       "    .dataframe thead th {\n",
       "        text-align: right;\n",
       "    }\n",
       "</style>\n",
       "<table border=\"1\" class=\"dataframe\">\n",
       "  <thead>\n",
       "    <tr style=\"text-align: right;\">\n",
       "      <th></th>\n",
       "      <th>quantile</th>\n",
       "      <th>amount</th>\n",
       "      <th>readmitted</th>\n",
       "      <th>min</th>\n",
       "      <th>max</th>\n",
       "      <th>pct_readmitted</th>\n",
       "      <th>lift</th>\n",
       "    </tr>\n",
       "  </thead>\n",
       "  <tbody>\n",
       "    <tr>\n",
       "      <th>0</th>\n",
       "      <td>1</td>\n",
       "      <td>1400</td>\n",
       "      <td>49</td>\n",
       "      <td>0.084376</td>\n",
       "      <td>0.338649</td>\n",
       "      <td>0.035000</td>\n",
       "      <td>0.389063</td>\n",
       "    </tr>\n",
       "    <tr>\n",
       "      <th>1</th>\n",
       "      <td>2</td>\n",
       "      <td>1399</td>\n",
       "      <td>57</td>\n",
       "      <td>0.338714</td>\n",
       "      <td>0.382255</td>\n",
       "      <td>0.040743</td>\n",
       "      <td>0.452907</td>\n",
       "    </tr>\n",
       "    <tr>\n",
       "      <th>2</th>\n",
       "      <td>3</td>\n",
       "      <td>1400</td>\n",
       "      <td>77</td>\n",
       "      <td>0.382259</td>\n",
       "      <td>0.415823</td>\n",
       "      <td>0.055000</td>\n",
       "      <td>0.611384</td>\n",
       "    </tr>\n",
       "    <tr>\n",
       "      <th>3</th>\n",
       "      <td>4</td>\n",
       "      <td>1399</td>\n",
       "      <td>102</td>\n",
       "      <td>0.415900</td>\n",
       "      <td>0.446824</td>\n",
       "      <td>0.072909</td>\n",
       "      <td>0.810465</td>\n",
       "    </tr>\n",
       "    <tr>\n",
       "      <th>4</th>\n",
       "      <td>5</td>\n",
       "      <td>1400</td>\n",
       "      <td>80</td>\n",
       "      <td>0.446830</td>\n",
       "      <td>0.476334</td>\n",
       "      <td>0.057143</td>\n",
       "      <td>0.635205</td>\n",
       "    </tr>\n",
       "    <tr>\n",
       "      <th>5</th>\n",
       "      <td>6</td>\n",
       "      <td>1399</td>\n",
       "      <td>127</td>\n",
       "      <td>0.476375</td>\n",
       "      <td>0.506939</td>\n",
       "      <td>0.090779</td>\n",
       "      <td>1.009108</td>\n",
       "    </tr>\n",
       "    <tr>\n",
       "      <th>6</th>\n",
       "      <td>7</td>\n",
       "      <td>1399</td>\n",
       "      <td>142</td>\n",
       "      <td>0.506952</td>\n",
       "      <td>0.538496</td>\n",
       "      <td>0.101501</td>\n",
       "      <td>1.128294</td>\n",
       "    </tr>\n",
       "    <tr>\n",
       "      <th>7</th>\n",
       "      <td>8</td>\n",
       "      <td>1400</td>\n",
       "      <td>167</td>\n",
       "      <td>0.538529</td>\n",
       "      <td>0.573337</td>\n",
       "      <td>0.119286</td>\n",
       "      <td>1.325990</td>\n",
       "    </tr>\n",
       "    <tr>\n",
       "      <th>8</th>\n",
       "      <td>9</td>\n",
       "      <td>1399</td>\n",
       "      <td>183</td>\n",
       "      <td>0.573400</td>\n",
       "      <td>0.616820</td>\n",
       "      <td>0.130808</td>\n",
       "      <td>1.454069</td>\n",
       "    </tr>\n",
       "    <tr>\n",
       "      <th>9</th>\n",
       "      <td>10</td>\n",
       "      <td>1400</td>\n",
       "      <td>275</td>\n",
       "      <td>0.616838</td>\n",
       "      <td>0.850367</td>\n",
       "      <td>0.196429</td>\n",
       "      <td>2.183516</td>\n",
       "    </tr>\n",
       "  </tbody>\n",
       "</table>\n",
       "</div>"
      ],
      "text/plain": [
       "  quantile  amount  readmitted       min       max  pct_readmitted      lift\n",
       "0        1    1400          49  0.084376  0.338649        0.035000  0.389063\n",
       "1        2    1399          57  0.338714  0.382255        0.040743  0.452907\n",
       "2        3    1400          77  0.382259  0.415823        0.055000  0.611384\n",
       "3        4    1399         102  0.415900  0.446824        0.072909  0.810465\n",
       "4        5    1400          80  0.446830  0.476334        0.057143  0.635205\n",
       "5        6    1399         127  0.476375  0.506939        0.090779  1.009108\n",
       "6        7    1399         142  0.506952  0.538496        0.101501  1.128294\n",
       "7        8    1400         167  0.538529  0.573337        0.119286  1.325990\n",
       "8        9    1399         183  0.573400  0.616820        0.130808  1.454069\n",
       "9       10    1400         275  0.616838  0.850367        0.196429  2.183516"
      ]
     },
     "execution_count": 25,
     "metadata": {},
     "output_type": "execute_result"
    }
   ],
   "source": [
    "quantile_table_RF = quan_tab(rf_opt,x_test,y_test)\n",
    "quantile_table_RF"
   ]
  },
  {
   "cell_type": "code",
   "execution_count": 26,
   "metadata": {},
   "outputs": [
    {
     "name": "stdout",
     "output_type": "stream",
     "text": [
      "              precision    recall  f1-score   support\n",
      "\n",
      "           0       0.94      0.60      0.73     12736\n",
      "           1       0.14      0.64      0.22      1259\n",
      "\n",
      "    accuracy                           0.60     13995\n",
      "   macro avg       0.54      0.62      0.48     13995\n",
      "weighted avg       0.87      0.60      0.69     13995\n",
      "\n"
     ]
    }
   ],
   "source": [
    "print(classification_report(y_test,y_pr_rf))"
   ]
  },
  {
   "cell_type": "code",
   "execution_count": 27,
   "metadata": {},
   "outputs": [
    {
     "data": {
      "image/png": "[encoded data removed]",
      "text/plain": [
       "<Figure size 432x288 with 1 Axes>"
      ]
     },
     "metadata": {
      "needs_background": "light"
     },
     "output_type": "display_data"
    }
   ],
   "source": [
    "y_probs_rf = pd.DataFrame(rf_opt.predict_proba(x_test))[1]\n",
    "fpr_rf, tpr_rf, thresholds_rf = roc_curve(y_test, y_probs_rf)\n",
    "auc_rf = roc_auc_score(y_test, y_probs_rf)\n",
    "plt.figure()\n",
    "lw = 2\n",
    "plt.plot(fpr_rf, tpr_rf, color='blue', lw=lw, label='ROC curve (area = %0.2f)' % auc_rf)\n",
    "plt.plot([0, 1], [0, 1], color='navy', lw=lw, linestyle='--')\n",
    "plt.xlim([0.0, 1.0])\n",
    "plt.ylim([0.0, 1.05])\n",
    "plt.xlabel('False Positive Rate')\n",
    "plt.ylabel('True Positive Rate')\n",
    "plt.title('Receiver operating characteristic example')\n",
    "plt.legend(loc=\"lower right\")\n",
    "plt.show()"
   ]
  },
  {
   "cell_type": "markdown",
   "metadata": {},
   "source": [
    "# XGB"
   ]
  },
  {
   "cell_type": "code",
   "execution_count": 28,
   "metadata": {},
   "outputs": [],
   "source": [
    "X_train = x_train_down\n",
    "y_train = y_train_down\n",
    "X_train, val_x, y_train, val_y = ms.train_test_split(X_train, y_train, test_size = 0.05, random_state=1)\n",
    "X_train = x_train_down\n",
    "y_train = y_train_down\n",
    "X_test = x_test\n",
    "func, para = xgb_optimization(X_train,y_train,5,[[val_x, val_y]])\n",
    "dataset = (X_train, y_train, X_test, y_test)\n",
    "cv_splits = 5"
   ]
  },
  {
   "cell_type": "code",
   "execution_count": 29,
   "metadata": {},
   "outputs": [
    {
     "name": "stdout",
     "output_type": "stream",
     "text": [
      "|   iter    |  target   |    eta    |   gamma   | max_depth |\n",
      "-------------------------------------------------------------\n",
      "| \u001b[0m 1       \u001b[0m | \u001b[0m 0.6111  \u001b[0m | \u001b[0m 0.3437  \u001b[0m | \u001b[0m 6.146   \u001b[0m | \u001b[0m 1.924e+0\u001b[0m |\n",
      "| \u001b[95m 2       \u001b[0m | \u001b[95m 0.6378  \u001b[0m | \u001b[95m 0.03228 \u001b[0m | \u001b[95m 5.89    \u001b[0m | \u001b[95m 757.8   \u001b[0m |\n",
      "| \u001b[0m 3       \u001b[0m | \u001b[0m 0.632   \u001b[0m | \u001b[0m 0.1111  \u001b[0m | \u001b[0m 12.04   \u001b[0m | \u001b[0m 1.674e+0\u001b[0m |\n",
      "| \u001b[0m 4       \u001b[0m | \u001b[0m 0.6361  \u001b[0m | \u001b[0m 0.1973  \u001b[0m | \u001b[0m 10.18   \u001b[0m | \u001b[0m 1.201e+0\u001b[0m |\n",
      "| \u001b[0m 5       \u001b[0m | \u001b[0m 0.6317  \u001b[0m | \u001b[0m 0.09432 \u001b[0m | \u001b[0m 12.92   \u001b[0m | \u001b[0m 1.864e+0\u001b[0m |\n",
      "| \u001b[0m 6       \u001b[0m | \u001b[0m 0.6212  \u001b[0m | \u001b[0m 0.2173  \u001b[0m | \u001b[0m 14.47   \u001b[0m | \u001b[0m 1.005   \u001b[0m |\n",
      "| \u001b[0m 7       \u001b[0m | \u001b[0m 0.6214  \u001b[0m | \u001b[0m 0.1996  \u001b[0m | \u001b[0m 0.3068  \u001b[0m | \u001b[0m 1.02    \u001b[0m |\n",
      "| \u001b[0m 8       \u001b[0m | \u001b[0m 0.6262  \u001b[0m | \u001b[0m 0.2426  \u001b[0m | \u001b[0m 19.32   \u001b[0m | \u001b[0m 2e+03   \u001b[0m |\n",
      "| \u001b[0m 9       \u001b[0m | \u001b[0m 0.6025  \u001b[0m | \u001b[0m 0.05769 \u001b[0m | \u001b[0m 19.88   \u001b[0m | \u001b[0m 1.103   \u001b[0m |\n",
      "| \u001b[0m 10      \u001b[0m | \u001b[0m 0.607   \u001b[0m | \u001b[0m 0.2025  \u001b[0m | \u001b[0m 0.2639  \u001b[0m | \u001b[0m 2e+03   \u001b[0m |\n",
      "=============================================================\n"
     ]
    }
   ],
   "source": [
    "best_solution = bayesian_optimization(dataset, func, para)      \n",
    "params = best_solution[\"params\"]"
   ]
  },
  {
   "cell_type": "code",
   "execution_count": 30,
   "metadata": {},
   "outputs": [],
   "source": [
    "xgb_opt = xgb.XGBClassifier(\n",
    "             eta=max(params[\"eta\"], 0),\n",
    "             gamma=max(params[\"gamma\"], 0),\n",
    "             max_depth=int(max(params[\"max_depth\"], 2)), \n",
    "             n_jobs=-1, \n",
    "             random_state=42,   \n",
    "             class_weight=\"balanced\")"
   ]
  },
  {
   "cell_type": "code",
   "execution_count": 31,
   "metadata": {},
   "outputs": [
    {
     "data": {
      "text/plain": [
       "XGBClassifier(base_score=0.5, booster='gbtree', class_weight='balanced',\n",
       "              colsample_bylevel=1, colsample_bynode=1, colsample_bytree=1,\n",
       "              eta=0.03227885153143598, gamma=5.890057380522387,\n",
       "              learning_rate=0.1, max_delta_step=0, max_depth=757,\n",
       "              min_child_weight=1, missing=None, n_estimators=100, n_jobs=-1,\n",
       "              nthread=None, objective='binary:logistic', random_state=42,\n",
       "              reg_alpha=0, reg_lambda=1, scale_pos_weight=1, seed=None,\n",
       "              silent=None, subsample=1, verbosity=1)"
      ]
     },
     "execution_count": 31,
     "metadata": {},
     "output_type": "execute_result"
    }
   ],
   "source": [
    "X_train = x_train_down\n",
    "y_train = y_train_down\n",
    "xgb_opt.fit(x_train_down, y_train_down)"
   ]
  },
  {
   "cell_type": "code",
   "execution_count": 32,
   "metadata": {
    "scrolled": true
   },
   "outputs": [
    {
     "name": "stdout",
     "output_type": "stream",
     "text": [
      "Train score: 0.6569545178462968\n",
      "Test score use: 0.6095033940693104\n"
     ]
    }
   ],
   "source": [
    "y_pr_xgb = xgb_opt.predict(x_test)\n",
    "print('Train score: {}'.format(xgb_opt.score(x_train_o, y_train_o)))\n",
    "print('Test score use: {}'.format(xgb_opt.score(x_test_o, y_test_o)))"
   ]
  },
  {
   "cell_type": "code",
   "execution_count": 33,
   "metadata": {},
   "outputs": [
    {
     "data": {
      "text/plain": [
       "array([[7758, 4978],\n",
       "       [ 487,  772]])"
      ]
     },
     "execution_count": 33,
     "metadata": {},
     "output_type": "execute_result"
    }
   ],
   "source": [
    "confusion_matrix(y_test,y_pr_xgb)"
   ]
  },
  {
   "cell_type": "code",
   "execution_count": 34,
   "metadata": {},
   "outputs": [
    {
     "data": {
      "text/plain": [
       "<Figure size 720x576 with 0 Axes>"
      ]
     },
     "execution_count": 34,
     "metadata": {},
     "output_type": "execute_result"
    },
    {
     "data": {
      "image/png": "[encoded data removed]",
      "text/plain": [
       "<Figure size 432x288 with 1 Axes>"
      ]
     },
     "metadata": {
      "needs_background": "light"
     },
     "output_type": "display_data"
    },
    {
     "data": {
      "text/plain": [
       "<Figure size 720x576 with 0 Axes>"
      ]
     },
     "metadata": {},
     "output_type": "display_data"
    }
   ],
   "source": [
    "sorted_importance_xgb = sorted(zip(x_test.columns, xgb_opt.feature_importances_), key=lambda t:t[1], reverse=True)\n",
    "plt.barh([x[0] for x in sorted_importance_xgb[:10]][::-1],[x[1] for x in sorted_importance_xgb[:10]][::-1])\n",
    "plt.title('XGB Top 10 Feature Importance', fontsize=20)\n",
    "plt.figure(figsize=(10,8))"
   ]
  },
  {
   "cell_type": "code",
   "execution_count": 35,
   "metadata": {},
   "outputs": [
    {
     "data": {
      "text/plain": [
       "(array([0.9409339 , 0.13426087]),\n",
       " array([0.60913945, 0.61318507]),\n",
       " array([0.73952624, 0.2202882 ]),\n",
       " array([12736,  1259]))"
      ]
     },
     "execution_count": 35,
     "metadata": {},
     "output_type": "execute_result"
    }
   ],
   "source": [
    "precision_recall_fscore_support(y_test,y_pr_xgb)\n",
    "# Output is:\n",
    "# [Precision of class 0, Precision of class 1]\n",
    "# [Recall of class 0   , Recall of class 1]\n",
    "# [F1 Score of class 0 , F1 Score of class 1]\n",
    "# [Instances of class 0, Instances of class 1]"
   ]
  },
  {
   "cell_type": "code",
   "execution_count": 36,
   "metadata": {},
   "outputs": [
    {
     "data": {
      "text/html": [
       "<div>\n",
       "<style scoped>\n",
       "    .dataframe tbody tr th:only-of-type {\n",
       "        vertical-align: middle;\n",
       "    }\n",
       "\n",
       "    .dataframe tbody tr th {\n",
       "        vertical-align: top;\n",
       "    }\n",
       "\n",
       "    .dataframe thead th {\n",
       "        text-align: right;\n",
       "    }\n",
       "</style>\n",
       "<table border=\"1\" class=\"dataframe\">\n",
       "  <thead>\n",
       "    <tr style=\"text-align: right;\">\n",
       "      <th></th>\n",
       "      <th>quantile</th>\n",
       "      <th>amount</th>\n",
       "      <th>readmitted</th>\n",
       "      <th>min</th>\n",
       "      <th>max</th>\n",
       "      <th>pct_readmitted</th>\n",
       "      <th>lift</th>\n",
       "    </tr>\n",
       "  </thead>\n",
       "  <tbody>\n",
       "    <tr>\n",
       "      <th>0</th>\n",
       "      <td>1</td>\n",
       "      <td>1400</td>\n",
       "      <td>42</td>\n",
       "      <td>0.056830</td>\n",
       "      <td>0.237567</td>\n",
       "      <td>0.030000</td>\n",
       "      <td>0.333481</td>\n",
       "    </tr>\n",
       "    <tr>\n",
       "      <th>1</th>\n",
       "      <td>2</td>\n",
       "      <td>1399</td>\n",
       "      <td>73</td>\n",
       "      <td>0.237604</td>\n",
       "      <td>0.302694</td>\n",
       "      <td>0.052180</td>\n",
       "      <td>0.580036</td>\n",
       "    </tr>\n",
       "    <tr>\n",
       "      <th>2</th>\n",
       "      <td>3</td>\n",
       "      <td>1400</td>\n",
       "      <td>73</td>\n",
       "      <td>0.302742</td>\n",
       "      <td>0.356721</td>\n",
       "      <td>0.052143</td>\n",
       "      <td>0.579622</td>\n",
       "    </tr>\n",
       "    <tr>\n",
       "      <th>3</th>\n",
       "      <td>4</td>\n",
       "      <td>1399</td>\n",
       "      <td>87</td>\n",
       "      <td>0.356728</td>\n",
       "      <td>0.405701</td>\n",
       "      <td>0.062187</td>\n",
       "      <td>0.691276</td>\n",
       "    </tr>\n",
       "    <tr>\n",
       "      <th>4</th>\n",
       "      <td>5</td>\n",
       "      <td>1400</td>\n",
       "      <td>108</td>\n",
       "      <td>0.405733</td>\n",
       "      <td>0.454590</td>\n",
       "      <td>0.077143</td>\n",
       "      <td>0.857522</td>\n",
       "    </tr>\n",
       "    <tr>\n",
       "      <th>5</th>\n",
       "      <td>6</td>\n",
       "      <td>1399</td>\n",
       "      <td>123</td>\n",
       "      <td>0.454629</td>\n",
       "      <td>0.505243</td>\n",
       "      <td>0.087920</td>\n",
       "      <td>0.977321</td>\n",
       "    </tr>\n",
       "    <tr>\n",
       "      <th>6</th>\n",
       "      <td>7</td>\n",
       "      <td>1399</td>\n",
       "      <td>151</td>\n",
       "      <td>0.505243</td>\n",
       "      <td>0.559841</td>\n",
       "      <td>0.107934</td>\n",
       "      <td>1.199800</td>\n",
       "    </tr>\n",
       "    <tr>\n",
       "      <th>7</th>\n",
       "      <td>8</td>\n",
       "      <td>1400</td>\n",
       "      <td>139</td>\n",
       "      <td>0.559857</td>\n",
       "      <td>0.621307</td>\n",
       "      <td>0.099286</td>\n",
       "      <td>1.103663</td>\n",
       "    </tr>\n",
       "    <tr>\n",
       "      <th>8</th>\n",
       "      <td>9</td>\n",
       "      <td>1399</td>\n",
       "      <td>185</td>\n",
       "      <td>0.621322</td>\n",
       "      <td>0.704851</td>\n",
       "      <td>0.132237</td>\n",
       "      <td>1.469954</td>\n",
       "    </tr>\n",
       "    <tr>\n",
       "      <th>9</th>\n",
       "      <td>10</td>\n",
       "      <td>1400</td>\n",
       "      <td>278</td>\n",
       "      <td>0.704860</td>\n",
       "      <td>0.966880</td>\n",
       "      <td>0.198571</td>\n",
       "      <td>2.207326</td>\n",
       "    </tr>\n",
       "  </tbody>\n",
       "</table>\n",
       "</div>"
      ],
      "text/plain": [
       "  quantile  amount  readmitted       min       max  pct_readmitted      lift\n",
       "0        1    1400          42  0.056830  0.237567        0.030000  0.333481\n",
       "1        2    1399          73  0.237604  0.302694        0.052180  0.580036\n",
       "2        3    1400          73  0.302742  0.356721        0.052143  0.579622\n",
       "3        4    1399          87  0.356728  0.405701        0.062187  0.691276\n",
       "4        5    1400         108  0.405733  0.454590        0.077143  0.857522\n",
       "5        6    1399         123  0.454629  0.505243        0.087920  0.977321\n",
       "6        7    1399         151  0.505243  0.559841        0.107934  1.199800\n",
       "7        8    1400         139  0.559857  0.621307        0.099286  1.103663\n",
       "8        9    1399         185  0.621322  0.704851        0.132237  1.469954\n",
       "9       10    1400         278  0.704860  0.966880        0.198571  2.207326"
      ]
     },
     "execution_count": 36,
     "metadata": {},
     "output_type": "execute_result"
    }
   ],
   "source": [
    "quantile_table_xgb = quan_tab(xgb_opt,x_test,y_test)\n",
    "quantile_table_xgb"
   ]
  },
  {
   "cell_type": "code",
   "execution_count": 37,
   "metadata": {},
   "outputs": [
    {
     "name": "stdout",
     "output_type": "stream",
     "text": [
      "              precision    recall  f1-score   support\n",
      "\n",
      "           0       0.94      0.61      0.74     12736\n",
      "           1       0.13      0.61      0.22      1259\n",
      "\n",
      "    accuracy                           0.61     13995\n",
      "   macro avg       0.54      0.61      0.48     13995\n",
      "weighted avg       0.87      0.61      0.69     13995\n",
      "\n"
     ]
    }
   ],
   "source": [
    "print(classification_report(y_test,y_pr_xgb))"
   ]
  },
  {
   "cell_type": "code",
   "execution_count": 38,
   "metadata": {
    "scrolled": true
   },
   "outputs": [
    {
     "data": {
      "image/png": "[encoded data removed]",
      "text/plain": [
       "<Figure size 432x288 with 1 Axes>"
      ]
     },
     "metadata": {
      "needs_background": "light"
     },
     "output_type": "display_data"
    }
   ],
   "source": [
    "y_probs_xgb = pd.DataFrame(xgb_opt.predict_proba(x_test))[1]\n",
    "fpr_xgb, tpr_xgb, thresholds_xgb = roc_curve(y_test, y_probs_xgb)\n",
    "auc_xgb = roc_auc_score(y_test, y_probs_xgb)\n",
    "plt.figure()\n",
    "lw = 2\n",
    "plt.plot(fpr_xgb, tpr_xgb, color='darkorange', lw=lw, label='ROC curve (area = %0.2f)' % auc_xgb)\n",
    "plt.plot([0, 1], [0, 1], color='navy', lw=lw, linestyle='--')\n",
    "plt.xlim([0.0, 1.0])\n",
    "plt.ylim([0.0, 1.05])\n",
    "plt.xlabel('False Positive Rate')\n",
    "plt.ylabel('True Positive Rate')\n",
    "#plt.title('Receiver operating characteristic example')\n",
    "plt.legend(loc=\"lower right\")\n",
    "plt.show()"
   ]
  },
  {
   "cell_type": "markdown",
   "metadata": {},
   "source": [
    "# ROC Curve"
   ]
  },
  {
   "cell_type": "code",
   "execution_count": 39,
   "metadata": {},
   "outputs": [],
   "source": [
    "lbl = LabelEncoder() \n",
    "lbl.fit(list(y_test.values)) \n",
    "y_test = lbl.transform(list(y_test.values))"
   ]
  },
  {
   "cell_type": "code",
   "execution_count": 40,
   "metadata": {
    "scrolled": true
   },
   "outputs": [
    {
     "data": {
      "image/png": "[encoded data removed]",
      "text/plain": [
       "<Figure size 432x288 with 1 Axes>"
      ]
     },
     "metadata": {
      "needs_background": "light"
     },
     "output_type": "display_data"
    }
   ],
   "source": [
    "# y_probs = pd.DataFrame(LR_up.predict_proba(x_test))[1]\n",
    "# fpr, tpr, thresholds = roc_curve(y_test, y_probs)\n",
    "# auc = roc_auc_score(y_test, y_probs)\n",
    "plt.figure()\n",
    "lw = 2\n",
    "plt.plot(fpr_lr, tpr_lr, color='green', lw=lw, label='LR AUC = %0.2f' % auc_lr)\n",
    "plt.plot(fpr_rf, tpr_rf, color='blue', lw=lw, label='RF AUC = %0.2f' % auc_rf)\n",
    "plt.plot(fpr_xgb, tpr_xgb, color='darkorange', lw=lw, label='XGB AUC = %0.2f' % auc_xgb)\n",
    "plt.plot([0, 1], [0, 1], color='navy', lw=lw, linestyle='--')\n",
    "plt.xlim([0.0, 1.0])\n",
    "plt.ylim([0.0, 1.05])\n",
    "plt.xlabel('False Positive Rate')\n",
    "plt.ylabel('True Positive Rate')\n",
    "plt.title('Roc curve')\n",
    "plt.legend(loc=\"lower right\")\n",
    "plt.show()"
   ]
  },
  {
   "cell_type": "code",
   "execution_count": null,
   "metadata": {},
   "outputs": [],
   "source": []
  }
 ],
 "metadata": {
  "kernelspec": {
   "display_name": "Python 3",
   "language": "python",
   "name": "python3"
  },
  "language_info": {
   "codemirror_mode": {
    "name": "ipython",
    "version": 3
   },
   "file_extension": ".py",
   "mimetype": "text/x-python",
   "name": "python",
   "nbconvert_exporter": "python",
   "pygments_lexer": "ipython3",
   "version": "3.7.4"
  }
 },
 "nbformat": 4,
 "nbformat_minor": 2
}
