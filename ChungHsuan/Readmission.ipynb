{
 "cells": [
  {
   "cell_type": "code",
   "execution_count": 2,
   "metadata": {},
   "outputs": [],
   "source": [
    "from Preprocess import *\n",
    "import pandas as pd\n",
    "import numpy as np\n",
    "from sklearn.metrics import roc_curve, auc\n",
    "from sklearn import model_selection as ms\n",
    "from sklearn.linear_model import LogisticRegression\n",
    "from sklearn.ensemble import RandomForestClassifier, GradientBoostingClassifier\n",
    "import xgboost as xgb\n",
    "from sklearn.pipeline import make_pipeline\n",
    "from sklearn.preprocessing import OneHotEncoder,LabelEncoder\n",
    "from sklearn.metrics import confusion_matrix,roc_curve, roc_auc_score,precision_recall_fscore_support,classification_report\n",
    "from sklearn.utils import resample\n",
    "from imblearn.over_sampling import SMOTE\n",
    "from sklearn.model_selection import cross_val_score\n",
    "from matplotlib import pyplot as plt\n",
    "%matplotlib inline\n",
    "import warnings\n",
    "warnings.filterwarnings('ignore')"
   ]
  },
  {
   "cell_type": "code",
   "execution_count": 57,
   "metadata": {},
   "outputs": [
    {
     "name": "stdout",
     "output_type": "stream",
     "text": [
      "Original data shape (101766, 50)\n",
      "Process Missing data\n",
      "Delete multipule encounters\n",
      "Transform features\n",
      "Reduce skewness\n",
      "Conduce one-hot encoding\n",
      "Data shape after preprocessing: (69973, 214)\n"
     ]
    }
   ],
   "source": [
    "# Logistic regression\n",
    "# X, Y = get_data('diabetic_data.csv',labelEncode=False,hotEncode=True, skewness=True, standardize = False)\n",
    "# Random forest & XGB\n",
    "X, Y = get_data('diabetic_data.csv',labelEncode=True,hotEncode=False, skewness=False, standardize = True)"
   ]
  },
  {
   "cell_type": "code",
   "execution_count": 58,
   "metadata": {},
   "outputs": [
    {
     "data": {
      "text/html": [
       "<div>\n",
       "<style scoped>\n",
       "    .dataframe tbody tr th:only-of-type {\n",
       "        vertical-align: middle;\n",
       "    }\n",
       "\n",
       "    .dataframe tbody tr th {\n",
       "        vertical-align: top;\n",
       "    }\n",
       "\n",
       "    .dataframe thead th {\n",
       "        text-align: right;\n",
       "    }\n",
       "</style>\n",
       "<table border=\"1\" class=\"dataframe\">\n",
       "  <thead>\n",
       "    <tr style=\"text-align: right;\">\n",
       "      <th></th>\n",
       "      <th>time_in_hospital</th>\n",
       "      <th>num_lab_procedures</th>\n",
       "      <th>num_procedures</th>\n",
       "      <th>num_medications</th>\n",
       "      <th>number_outpatient</th>\n",
       "      <th>number_emergency</th>\n",
       "      <th>number_inpatient</th>\n",
       "      <th>number_diagnoses</th>\n",
       "      <th>race_AfricanAmerican</th>\n",
       "      <th>race_Asian</th>\n",
       "      <th>race_Hispanic</th>\n",
       "      <th>race_Missing</th>\n",
       "      <th>race_Other</th>\n",
       "      <th>gender_Male</th>\n",
       "      <th>gender_Unknown/Invalid</th>\n",
       "      <th>age_[0-10)</th>\n",
       "      <th>age_[10-20)</th>\n",
       "      <th>age_[20-30)</th>\n",
       "      <th>age_[30-40)</th>\n",
       "      <th>age_[40-50)</th>\n",
       "      <th>age_[50-60)</th>\n",
       "      <th>age_[60-70)</th>\n",
       "      <th>age_[80-90)</th>\n",
       "      <th>age_[90-100)</th>\n",
       "      <th>admission_type_id_2</th>\n",
       "      <th>...</th>\n",
       "      <th>diabetesMed_No</th>\n",
       "      <th>diag_1_group_Digestive</th>\n",
       "      <th>diag_1_group_Genitourinary</th>\n",
       "      <th>diag_1_group_Injury</th>\n",
       "      <th>diag_1_group_Missing</th>\n",
       "      <th>diag_1_group_Musculoskeletal</th>\n",
       "      <th>diag_1_group_Neoplasms</th>\n",
       "      <th>diag_1_group_Other</th>\n",
       "      <th>diag_1_group_Respiratory</th>\n",
       "      <th>diag_2_group_Digestive</th>\n",
       "      <th>diag_2_group_Genitourinary</th>\n",
       "      <th>diag_2_group_Injury</th>\n",
       "      <th>diag_2_group_Missing</th>\n",
       "      <th>diag_2_group_Musculoskeletal</th>\n",
       "      <th>diag_2_group_Neoplasms</th>\n",
       "      <th>diag_2_group_Other</th>\n",
       "      <th>diag_2_group_Respiratory</th>\n",
       "      <th>diag_3_group_Digestive</th>\n",
       "      <th>diag_3_group_Genitourinary</th>\n",
       "      <th>diag_3_group_Injury</th>\n",
       "      <th>diag_3_group_Missing</th>\n",
       "      <th>diag_3_group_Musculoskeletal</th>\n",
       "      <th>diag_3_group_Neoplasms</th>\n",
       "      <th>diag_3_group_Other</th>\n",
       "      <th>diag_3_group_Respiratory</th>\n",
       "    </tr>\n",
       "  </thead>\n",
       "  <tbody>\n",
       "    <tr>\n",
       "      <th>0</th>\n",
       "      <td>2.219537</td>\n",
       "      <td>77</td>\n",
       "      <td>2.186540</td>\n",
       "      <td>5.547870</td>\n",
       "      <td>0.0</td>\n",
       "      <td>0.0</td>\n",
       "      <td>0.0</td>\n",
       "      <td>8</td>\n",
       "      <td>0</td>\n",
       "      <td>0</td>\n",
       "      <td>0</td>\n",
       "      <td>0</td>\n",
       "      <td>0</td>\n",
       "      <td>0</td>\n",
       "      <td>0</td>\n",
       "      <td>0</td>\n",
       "      <td>0</td>\n",
       "      <td>0</td>\n",
       "      <td>0</td>\n",
       "      <td>0</td>\n",
       "      <td>1</td>\n",
       "      <td>0</td>\n",
       "      <td>0</td>\n",
       "      <td>0</td>\n",
       "      <td>1</td>\n",
       "      <td>...</td>\n",
       "      <td>0</td>\n",
       "      <td>0</td>\n",
       "      <td>0</td>\n",
       "      <td>0</td>\n",
       "      <td>0</td>\n",
       "      <td>0</td>\n",
       "      <td>0</td>\n",
       "      <td>0</td>\n",
       "      <td>0</td>\n",
       "      <td>0</td>\n",
       "      <td>0</td>\n",
       "      <td>1</td>\n",
       "      <td>0</td>\n",
       "      <td>0</td>\n",
       "      <td>0</td>\n",
       "      <td>0</td>\n",
       "      <td>0</td>\n",
       "      <td>1</td>\n",
       "      <td>0</td>\n",
       "      <td>0</td>\n",
       "      <td>0</td>\n",
       "      <td>0</td>\n",
       "      <td>0</td>\n",
       "      <td>0</td>\n",
       "      <td>0</td>\n",
       "    </tr>\n",
       "    <tr>\n",
       "      <th>1</th>\n",
       "      <td>1.104172</td>\n",
       "      <td>49</td>\n",
       "      <td>0.722179</td>\n",
       "      <td>3.398773</td>\n",
       "      <td>0.0</td>\n",
       "      <td>0.0</td>\n",
       "      <td>0.0</td>\n",
       "      <td>3</td>\n",
       "      <td>0</td>\n",
       "      <td>0</td>\n",
       "      <td>0</td>\n",
       "      <td>0</td>\n",
       "      <td>0</td>\n",
       "      <td>0</td>\n",
       "      <td>0</td>\n",
       "      <td>0</td>\n",
       "      <td>0</td>\n",
       "      <td>0</td>\n",
       "      <td>0</td>\n",
       "      <td>0</td>\n",
       "      <td>1</td>\n",
       "      <td>0</td>\n",
       "      <td>0</td>\n",
       "      <td>0</td>\n",
       "      <td>0</td>\n",
       "      <td>...</td>\n",
       "      <td>1</td>\n",
       "      <td>0</td>\n",
       "      <td>0</td>\n",
       "      <td>0</td>\n",
       "      <td>0</td>\n",
       "      <td>1</td>\n",
       "      <td>0</td>\n",
       "      <td>0</td>\n",
       "      <td>0</td>\n",
       "      <td>0</td>\n",
       "      <td>0</td>\n",
       "      <td>0</td>\n",
       "      <td>0</td>\n",
       "      <td>0</td>\n",
       "      <td>0</td>\n",
       "      <td>1</td>\n",
       "      <td>0</td>\n",
       "      <td>1</td>\n",
       "      <td>0</td>\n",
       "      <td>0</td>\n",
       "      <td>0</td>\n",
       "      <td>0</td>\n",
       "      <td>0</td>\n",
       "      <td>0</td>\n",
       "      <td>0</td>\n",
       "    </tr>\n",
       "    <tr>\n",
       "      <th>2</th>\n",
       "      <td>1.621388</td>\n",
       "      <td>68</td>\n",
       "      <td>1.172732</td>\n",
       "      <td>4.768542</td>\n",
       "      <td>0.0</td>\n",
       "      <td>0.0</td>\n",
       "      <td>0.0</td>\n",
       "      <td>9</td>\n",
       "      <td>0</td>\n",
       "      <td>0</td>\n",
       "      <td>0</td>\n",
       "      <td>0</td>\n",
       "      <td>0</td>\n",
       "      <td>0</td>\n",
       "      <td>0</td>\n",
       "      <td>0</td>\n",
       "      <td>0</td>\n",
       "      <td>0</td>\n",
       "      <td>0</td>\n",
       "      <td>0</td>\n",
       "      <td>0</td>\n",
       "      <td>0</td>\n",
       "      <td>1</td>\n",
       "      <td>0</td>\n",
       "      <td>0</td>\n",
       "      <td>...</td>\n",
       "      <td>0</td>\n",
       "      <td>0</td>\n",
       "      <td>0</td>\n",
       "      <td>1</td>\n",
       "      <td>0</td>\n",
       "      <td>0</td>\n",
       "      <td>0</td>\n",
       "      <td>0</td>\n",
       "      <td>0</td>\n",
       "      <td>0</td>\n",
       "      <td>0</td>\n",
       "      <td>0</td>\n",
       "      <td>0</td>\n",
       "      <td>0</td>\n",
       "      <td>0</td>\n",
       "      <td>0</td>\n",
       "      <td>1</td>\n",
       "      <td>0</td>\n",
       "      <td>0</td>\n",
       "      <td>0</td>\n",
       "      <td>0</td>\n",
       "      <td>0</td>\n",
       "      <td>0</td>\n",
       "      <td>1</td>\n",
       "      <td>0</td>\n",
       "    </tr>\n",
       "    <tr>\n",
       "      <th>3</th>\n",
       "      <td>1.395154</td>\n",
       "      <td>46</td>\n",
       "      <td>0.000000</td>\n",
       "      <td>4.486635</td>\n",
       "      <td>0.0</td>\n",
       "      <td>0.0</td>\n",
       "      <td>0.0</td>\n",
       "      <td>9</td>\n",
       "      <td>0</td>\n",
       "      <td>0</td>\n",
       "      <td>0</td>\n",
       "      <td>0</td>\n",
       "      <td>0</td>\n",
       "      <td>0</td>\n",
       "      <td>0</td>\n",
       "      <td>0</td>\n",
       "      <td>0</td>\n",
       "      <td>0</td>\n",
       "      <td>0</td>\n",
       "      <td>0</td>\n",
       "      <td>0</td>\n",
       "      <td>0</td>\n",
       "      <td>1</td>\n",
       "      <td>0</td>\n",
       "      <td>0</td>\n",
       "      <td>...</td>\n",
       "      <td>0</td>\n",
       "      <td>0</td>\n",
       "      <td>0</td>\n",
       "      <td>0</td>\n",
       "      <td>0</td>\n",
       "      <td>0</td>\n",
       "      <td>0</td>\n",
       "      <td>1</td>\n",
       "      <td>0</td>\n",
       "      <td>0</td>\n",
       "      <td>0</td>\n",
       "      <td>0</td>\n",
       "      <td>0</td>\n",
       "      <td>0</td>\n",
       "      <td>0</td>\n",
       "      <td>0</td>\n",
       "      <td>0</td>\n",
       "      <td>0</td>\n",
       "      <td>0</td>\n",
       "      <td>0</td>\n",
       "      <td>0</td>\n",
       "      <td>0</td>\n",
       "      <td>0</td>\n",
       "      <td>0</td>\n",
       "      <td>0</td>\n",
       "    </tr>\n",
       "    <tr>\n",
       "      <th>4</th>\n",
       "      <td>1.806578</td>\n",
       "      <td>49</td>\n",
       "      <td>0.000000</td>\n",
       "      <td>2.239054</td>\n",
       "      <td>0.0</td>\n",
       "      <td>0.0</td>\n",
       "      <td>0.0</td>\n",
       "      <td>3</td>\n",
       "      <td>1</td>\n",
       "      <td>0</td>\n",
       "      <td>0</td>\n",
       "      <td>0</td>\n",
       "      <td>0</td>\n",
       "      <td>0</td>\n",
       "      <td>0</td>\n",
       "      <td>0</td>\n",
       "      <td>0</td>\n",
       "      <td>0</td>\n",
       "      <td>1</td>\n",
       "      <td>0</td>\n",
       "      <td>0</td>\n",
       "      <td>0</td>\n",
       "      <td>0</td>\n",
       "      <td>0</td>\n",
       "      <td>0</td>\n",
       "      <td>...</td>\n",
       "      <td>0</td>\n",
       "      <td>0</td>\n",
       "      <td>1</td>\n",
       "      <td>0</td>\n",
       "      <td>0</td>\n",
       "      <td>0</td>\n",
       "      <td>0</td>\n",
       "      <td>0</td>\n",
       "      <td>0</td>\n",
       "      <td>0</td>\n",
       "      <td>0</td>\n",
       "      <td>0</td>\n",
       "      <td>0</td>\n",
       "      <td>0</td>\n",
       "      <td>1</td>\n",
       "      <td>0</td>\n",
       "      <td>0</td>\n",
       "      <td>1</td>\n",
       "      <td>0</td>\n",
       "      <td>0</td>\n",
       "      <td>0</td>\n",
       "      <td>0</td>\n",
       "      <td>0</td>\n",
       "      <td>0</td>\n",
       "      <td>0</td>\n",
       "    </tr>\n",
       "  </tbody>\n",
       "</table>\n",
       "<p>5 rows × 214 columns</p>\n",
       "</div>"
      ],
      "text/plain": [
       "   time_in_hospital  num_lab_procedures  num_procedures  num_medications  \\\n",
       "0          2.219537                  77        2.186540         5.547870   \n",
       "1          1.104172                  49        0.722179         3.398773   \n",
       "2          1.621388                  68        1.172732         4.768542   \n",
       "3          1.395154                  46        0.000000         4.486635   \n",
       "4          1.806578                  49        0.000000         2.239054   \n",
       "\n",
       "   number_outpatient  number_emergency  number_inpatient  number_diagnoses  \\\n",
       "0                0.0               0.0               0.0                 8   \n",
       "1                0.0               0.0               0.0                 3   \n",
       "2                0.0               0.0               0.0                 9   \n",
       "3                0.0               0.0               0.0                 9   \n",
       "4                0.0               0.0               0.0                 3   \n",
       "\n",
       "   race_AfricanAmerican  race_Asian  race_Hispanic  race_Missing  race_Other  \\\n",
       "0                     0           0              0             0           0   \n",
       "1                     0           0              0             0           0   \n",
       "2                     0           0              0             0           0   \n",
       "3                     0           0              0             0           0   \n",
       "4                     1           0              0             0           0   \n",
       "\n",
       "   gender_Male  gender_Unknown/Invalid  age_[0-10)  age_[10-20)  age_[20-30)  \\\n",
       "0            0                       0           0            0            0   \n",
       "1            0                       0           0            0            0   \n",
       "2            0                       0           0            0            0   \n",
       "3            0                       0           0            0            0   \n",
       "4            0                       0           0            0            0   \n",
       "\n",
       "   age_[30-40)  age_[40-50)  age_[50-60)  age_[60-70)  age_[80-90)  \\\n",
       "0            0            0            1            0            0   \n",
       "1            0            0            1            0            0   \n",
       "2            0            0            0            0            1   \n",
       "3            0            0            0            0            1   \n",
       "4            1            0            0            0            0   \n",
       "\n",
       "   age_[90-100)  admission_type_id_2  ...  diabetesMed_No  \\\n",
       "0             0                    1  ...               0   \n",
       "1             0                    0  ...               1   \n",
       "2             0                    0  ...               0   \n",
       "3             0                    0  ...               0   \n",
       "4             0                    0  ...               0   \n",
       "\n",
       "   diag_1_group_Digestive  diag_1_group_Genitourinary  diag_1_group_Injury  \\\n",
       "0                       0                           0                    0   \n",
       "1                       0                           0                    0   \n",
       "2                       0                           0                    1   \n",
       "3                       0                           0                    0   \n",
       "4                       0                           1                    0   \n",
       "\n",
       "   diag_1_group_Missing  diag_1_group_Musculoskeletal  diag_1_group_Neoplasms  \\\n",
       "0                     0                             0                       0   \n",
       "1                     0                             1                       0   \n",
       "2                     0                             0                       0   \n",
       "3                     0                             0                       0   \n",
       "4                     0                             0                       0   \n",
       "\n",
       "   diag_1_group_Other  diag_1_group_Respiratory  diag_2_group_Digestive  \\\n",
       "0                   0                         0                       0   \n",
       "1                   0                         0                       0   \n",
       "2                   0                         0                       0   \n",
       "3                   1                         0                       0   \n",
       "4                   0                         0                       0   \n",
       "\n",
       "   diag_2_group_Genitourinary  diag_2_group_Injury  diag_2_group_Missing  \\\n",
       "0                           0                    1                     0   \n",
       "1                           0                    0                     0   \n",
       "2                           0                    0                     0   \n",
       "3                           0                    0                     0   \n",
       "4                           0                    0                     0   \n",
       "\n",
       "   diag_2_group_Musculoskeletal  diag_2_group_Neoplasms  diag_2_group_Other  \\\n",
       "0                             0                       0                   0   \n",
       "1                             0                       0                   1   \n",
       "2                             0                       0                   0   \n",
       "3                             0                       0                   0   \n",
       "4                             0                       1                   0   \n",
       "\n",
       "   diag_2_group_Respiratory  diag_3_group_Digestive  \\\n",
       "0                         0                       1   \n",
       "1                         0                       1   \n",
       "2                         1                       0   \n",
       "3                         0                       0   \n",
       "4                         0                       1   \n",
       "\n",
       "   diag_3_group_Genitourinary  diag_3_group_Injury  diag_3_group_Missing  \\\n",
       "0                           0                    0                     0   \n",
       "1                           0                    0                     0   \n",
       "2                           0                    0                     0   \n",
       "3                           0                    0                     0   \n",
       "4                           0                    0                     0   \n",
       "\n",
       "   diag_3_group_Musculoskeletal  diag_3_group_Neoplasms  diag_3_group_Other  \\\n",
       "0                             0                       0                   0   \n",
       "1                             0                       0                   0   \n",
       "2                             0                       0                   1   \n",
       "3                             0                       0                   0   \n",
       "4                             0                       0                   0   \n",
       "\n",
       "   diag_3_group_Respiratory  \n",
       "0                         0  \n",
       "1                         0  \n",
       "2                         0  \n",
       "3                         0  \n",
       "4                         0  \n",
       "\n",
       "[5 rows x 214 columns]"
      ]
     },
     "execution_count": 58,
     "metadata": {},
     "output_type": "execute_result"
    }
   ],
   "source": [
    "pd.set_option('display.max_columns', 50)\n",
    "X.head()"
   ]
  },
  {
   "cell_type": "markdown",
   "metadata": {},
   "source": [
    "# Train test split"
   ]
  },
  {
   "cell_type": "code",
   "execution_count": 59,
   "metadata": {},
   "outputs": [
    {
     "name": "stdout",
     "output_type": "stream",
     "text": [
      "Readmission ratio for processed data : 0.08970602946850928\n",
      "Readmission ratio for training data and data size: 0.08964235949837436, 55978\n",
      "Readmission ratio for test data and data size: 0.08996070025008931, 13995\n"
     ]
    }
   ],
   "source": [
    "x_train, x_test, y_train, y_test = ms.train_test_split(X, Y,test_size=0.2, random_state=0)\n",
    "print('Readmission ratio for processed data : {}'.format(len(Y[Y==1])/len(Y)))\n",
    "print('Readmission ratio for training data and data size: {}, {}'.format(len(y_train[y_train==1])/len(y_train),len(y_train)))\n",
    "print('Readmission ratio for test data and data size: {}, {}'.format(len(y_test[y_test==1])/len(y_test),len(y_test)))\n",
    "x_train_o = x_train\n",
    "x_test_o = x_test\n",
    "y_train_o = y_train\n",
    "y_test_o = y_test"
   ]
  },
  {
   "cell_type": "markdown",
   "metadata": {},
   "source": [
    "# Resampling — Oversample minority class"
   ]
  },
  {
   "cell_type": "code",
   "execution_count": 60,
   "metadata": {
    "scrolled": true
   },
   "outputs": [
    {
     "name": "stdout",
     "output_type": "stream",
     "text": [
      "1    50960\n",
      "0    50960\n",
      "Name: readmitted, dtype: int64\n"
     ]
    }
   ],
   "source": [
    "# Concatenate training data back together\n",
    "X_up = pd.concat([x_train, y_train], axis=1)\n",
    "\n",
    "# separate minority and majority classes\n",
    "not_readmitted = X_up[X_up.readmitted==0]\n",
    "readmitted = X_up[X_up.readmitted==1]\n",
    "\n",
    "# upsample minority\n",
    "readmit_upsampled = resample(readmitted,\n",
    "                             replace=True, # sample with replacement\n",
    "                             n_samples=int(1*len(not_readmitted)), # match number in majority class\n",
    "                             random_state=1) # reproducible results\n",
    "\n",
    "# combine majority and upsampled minority\n",
    "upsampled = pd.concat([not_readmitted, readmit_upsampled])\n",
    "\n",
    "# check new class counts\n",
    "print(upsampled.readmitted.value_counts())\n",
    "\n",
    "y_train_up = upsampled['readmitted']\n",
    "x_train_up = upsampled.drop('readmitted',1)"
   ]
  },
  {
   "cell_type": "markdown",
   "metadata": {},
   "source": [
    "# Resampling techniques — Undersample majority class"
   ]
  },
  {
   "cell_type": "code",
   "execution_count": 61,
   "metadata": {},
   "outputs": [
    {
     "name": "stdout",
     "output_type": "stream",
     "text": [
      "1    5018\n",
      "0    5018\n",
      "Name: readmitted, dtype: int64\n"
     ]
    }
   ],
   "source": [
    "# Concatenate training data back together\n",
    "X_down = pd.concat([x_train, y_train], axis=1)\n",
    "\n",
    "# separate minority and majority classes\n",
    "not_readmitted = X_down[X_down.readmitted==0]\n",
    "readmitted = X_down[X_down.readmitted==1]\n",
    "\n",
    "# downsample majority\n",
    "not_readmit_downsampled = resample(not_readmitted,\n",
    "                                     replace = False, # sample without replacement\n",
    "                                     n_samples = int(1*len(readmitted)), # match minority n\n",
    "                                     random_state = 1) # reproducible results\n",
    "\n",
    "# combine minority and downsampled majority\n",
    "downsampled = pd.concat([not_readmit_downsampled, readmitted])\n",
    "\n",
    "# checking counts\n",
    "print(downsampled.readmitted.value_counts())\n",
    "\n",
    "y_train_down = downsampled['readmitted']\n",
    "x_train_down = downsampled.drop('readmitted',1)"
   ]
  },
  {
   "cell_type": "markdown",
   "metadata": {},
   "source": [
    "# Synthetic Minority Oversampling Technique (SMOTE)"
   ]
  },
  {
   "cell_type": "code",
   "execution_count": 62,
   "metadata": {},
   "outputs": [
    {
     "name": "stdout",
     "output_type": "stream",
     "text": [
      "1    50960\n",
      "0    50960\n",
      "dtype: int64\n"
     ]
    }
   ],
   "source": [
    "smo = SMOTE(random_state=1, ratio=1)\n",
    "x_train_smo, y_train_smo = smo.fit_sample(x_train, y_train)\n",
    "\n",
    "# check new class counts\n",
    "print(pd.Series(y_train_smo).value_counts())"
   ]
  },
  {
   "cell_type": "markdown",
   "metadata": {},
   "source": [
    "# Logistic Regression"
   ]
  },
  {
   "cell_type": "code",
   "execution_count": 63,
   "metadata": {},
   "outputs": [
    {
     "name": "stdout",
     "output_type": "stream",
     "text": [
      "Train score use over-sampling: 0.6132358712715855\n",
      "Test score use over-sampling: 0.6563058235083958\n",
      "Train score use SMOTE: 0.636734693877551\n",
      "Test score use SMOTE: 0.6382993926402286\n"
     ]
    }
   ],
   "source": [
    "from sklearn.linear_model import LogisticRegression\n",
    "LR_up = LogisticRegression(class_weight='balanced')\n",
    "LR_smo = LogisticRegression(class_weight='balanced')\n",
    "LR_up.fit(x_train_up, y_train_up)\n",
    "y_predict_up = LR_up.predict(x_test)\n",
    "LR_smo.fit(x_train_smo, y_train_smo)\n",
    "y_predict_smo = LR_smo.predict(x_test)\n",
    "print('Train score use over-sampling: {}'.format(LR_up.score(x_train_up, y_train_up)))\n",
    "print('Test score use over-sampling: {}'.format(LR_up.score(x_test, y_test)))\n",
    "print('Train score use SMOTE: {}'.format(LR_smo.score(x_train_smo, y_train_smo)))\n",
    "print('Test score use SMOTE: {}'.format(LR_smo.score(x_test, y_test)))"
   ]
  },
  {
   "cell_type": "code",
   "execution_count": 64,
   "metadata": {},
   "outputs": [
    {
     "data": {
      "text/plain": [
       "array([[8485, 4251],\n",
       "       [ 559,  700]])"
      ]
     },
     "execution_count": 64,
     "metadata": {},
     "output_type": "execute_result"
    }
   ],
   "source": [
    "confusion_matrix(y_test,y_predict_up)"
   ]
  },
  {
   "cell_type": "code",
   "execution_count": 65,
   "metadata": {},
   "outputs": [
    {
     "data": {
      "text/plain": [
       "array([[8242, 4494],\n",
       "       [ 568,  691]])"
      ]
     },
     "execution_count": 65,
     "metadata": {},
     "output_type": "execute_result"
    }
   ],
   "source": [
    "confusion_matrix(y_test,y_predict_smo)"
   ]
  },
  {
   "cell_type": "code",
   "execution_count": 66,
   "metadata": {},
   "outputs": [
    {
     "name": "stdout",
     "output_type": "stream",
     "text": [
      "              precision    recall  f1-score   support\n",
      "\n",
      "           0       0.94      0.65      0.77     12736\n",
      "           1       0.13      0.55      0.21      1259\n",
      "\n",
      "    accuracy                           0.64     13995\n",
      "   macro avg       0.53      0.60      0.49     13995\n",
      "weighted avg       0.86      0.64      0.72     13995\n",
      "\n"
     ]
    }
   ],
   "source": [
    "print(classification_report(y_test,y_predict_smo))"
   ]
  },
  {
   "cell_type": "markdown",
   "metadata": {},
   "source": [
    "### K-fold"
   ]
  },
  {
   "cell_type": "code",
   "execution_count": 67,
   "metadata": {},
   "outputs": [
    {
     "name": "stdout",
     "output_type": "stream",
     "text": [
      "Train score use over-sampling: 0.6099784144427002\n",
      "Train score use SMOTE: 0.6348214285714286\n"
     ]
    }
   ],
   "source": [
    "LR_up.set_params(C=1e1,penalty='l2')\n",
    "LR_smo.set_params(C=1e1,penalty='l2')\n",
    "stratify_divide = ms.StratifiedKFold(n_splits=5, random_state=0)\n",
    "scores_up = ms.cross_val_score(estimator=LR_up, X=x_train_up, y=y_train_up, cv=stratify_divide)\n",
    "scores_smo = ms.cross_val_score(estimator=LR_smo, X=x_train_smo, y=y_train_smo, cv=stratify_divide)\n",
    "print('Train score use over-sampling: {}'.format(scores_up.mean()))\n",
    "print('Train score use SMOTE: {}'.format(scores_smo.mean()))"
   ]
  },
  {
   "cell_type": "code",
   "execution_count": 68,
   "metadata": {},
   "outputs": [
    {
     "name": "stdout",
     "output_type": "stream",
     "text": [
      "Train score use over-sampling: 0.6108812299204387\n",
      "Train score use SMOTE: 0.6351752930191626\n"
     ]
    }
   ],
   "source": [
    "LR_up.set_params(C=1e1,penalty='l1')\n",
    "LR_smo.set_params(C=1e1,penalty='l1')\n",
    "stratify_divide = ms.StratifiedKFold(n_splits=9, random_state=0)\n",
    "scores_up = ms.cross_val_score(estimator=LR_up, X=x_train_up, y=y_train_up, cv=stratify_divide)\n",
    "scores_smo = ms.cross_val_score(estimator=LR_smo, X=x_train_smo, y=y_train_smo, cv=stratify_divide)\n",
    "print('Train score use over-sampling: {}'.format(scores_up.mean()))\n",
    "print('Train score use SMOTE: {}'.format(scores_smo.mean()))"
   ]
  },
  {
   "cell_type": "code",
   "execution_count": 72,
   "metadata": {},
   "outputs": [
    {
     "data": {
      "text/html": [
       "<div>\n",
       "<style scoped>\n",
       "    .dataframe tbody tr th:only-of-type {\n",
       "        vertical-align: middle;\n",
       "    }\n",
       "\n",
       "    .dataframe tbody tr th {\n",
       "        vertical-align: top;\n",
       "    }\n",
       "\n",
       "    .dataframe thead th {\n",
       "        text-align: right;\n",
       "    }\n",
       "</style>\n",
       "<table border=\"1\" class=\"dataframe\">\n",
       "  <thead>\n",
       "    <tr style=\"text-align: right;\">\n",
       "      <th></th>\n",
       "      <th>Coef_value</th>\n",
       "    </tr>\n",
       "  </thead>\n",
       "  <tbody>\n",
       "    <tr>\n",
       "      <th>discharge_disposition_id_15</th>\n",
       "      <td>2.516074</td>\n",
       "    </tr>\n",
       "    <tr>\n",
       "      <th>discharge_disposition_id_28</th>\n",
       "      <td>1.757489</td>\n",
       "    </tr>\n",
       "    <tr>\n",
       "      <th>discharge_disposition_id_22</th>\n",
       "      <td>1.631602</td>\n",
       "    </tr>\n",
       "    <tr>\n",
       "      <th>discharge_disposition_id_9</th>\n",
       "      <td>1.314041</td>\n",
       "    </tr>\n",
       "    <tr>\n",
       "      <th>discharge_disposition_id_5</th>\n",
       "      <td>1.255499</td>\n",
       "    </tr>\n",
       "  </tbody>\n",
       "</table>\n",
       "</div>"
      ],
      "text/plain": [
       "                             Coef_value\n",
       "discharge_disposition_id_15    2.516074\n",
       "discharge_disposition_id_28    1.757489\n",
       "discharge_disposition_id_22    1.631602\n",
       "discharge_disposition_id_9     1.314041\n",
       "discharge_disposition_id_5     1.255499"
      ]
     },
     "execution_count": 72,
     "metadata": {},
     "output_type": "execute_result"
    }
   ],
   "source": [
    "pd.DataFrame(LR_smo.coef_[0],index=x_train.columns,columns=['Coef_value'])\\\n",
    "    .sort_values('Coef_value',ascending=False).head(5)"
   ]
  },
  {
   "cell_type": "code",
   "execution_count": 73,
   "metadata": {},
   "outputs": [
    {
     "data": {
      "text/html": [
       "<div>\n",
       "<style scoped>\n",
       "    .dataframe tbody tr th:only-of-type {\n",
       "        vertical-align: middle;\n",
       "    }\n",
       "\n",
       "    .dataframe tbody tr th {\n",
       "        vertical-align: top;\n",
       "    }\n",
       "\n",
       "    .dataframe thead th {\n",
       "        text-align: right;\n",
       "    }\n",
       "</style>\n",
       "<table border=\"1\" class=\"dataframe\">\n",
       "  <thead>\n",
       "    <tr style=\"text-align: right;\">\n",
       "      <th></th>\n",
       "      <th>Coef_value</th>\n",
       "    </tr>\n",
       "  </thead>\n",
       "  <tbody>\n",
       "    <tr>\n",
       "      <th>medical_specialty_Pediatrics-Endocrinology</th>\n",
       "      <td>-2.783026</td>\n",
       "    </tr>\n",
       "    <tr>\n",
       "      <th>medical_specialty_Gynecology</th>\n",
       "      <td>-2.217509</td>\n",
       "    </tr>\n",
       "    <tr>\n",
       "      <th>tolbutamide_Steady</th>\n",
       "      <td>-2.215466</td>\n",
       "    </tr>\n",
       "    <tr>\n",
       "      <th>admission_type_id_7</th>\n",
       "      <td>-1.968243</td>\n",
       "    </tr>\n",
       "    <tr>\n",
       "      <th>rosiglitazone_Down</th>\n",
       "      <td>-1.939586</td>\n",
       "    </tr>\n",
       "  </tbody>\n",
       "</table>\n",
       "</div>"
      ],
      "text/plain": [
       "                                            Coef_value\n",
       "medical_specialty_Pediatrics-Endocrinology   -2.783026\n",
       "medical_specialty_Gynecology                 -2.217509\n",
       "tolbutamide_Steady                           -2.215466\n",
       "admission_type_id_7                          -1.968243\n",
       "rosiglitazone_Down                           -1.939586"
      ]
     },
     "execution_count": 73,
     "metadata": {},
     "output_type": "execute_result"
    }
   ],
   "source": [
    "pd.DataFrame(LR_smo.coef_[0],index=x_train.columns,columns=['Coef_value'])\\\n",
    "    .sort_values('Coef_value',ascending=True).head(5)"
   ]
  },
  {
   "cell_type": "code",
   "execution_count": 13,
   "metadata": {},
   "outputs": [],
   "source": [
    "# Create quantile table\n",
    "def quan_tab(model,x,y,cut=10):\n",
    "    readmit_prob = [i[1] for i in model.predict_proba(x)]\n",
    "    quantile_ = pd.qcut(readmit_prob,cut,labels=np.arange(1,cut+1))\n",
    "    temp_dict = {'quantile':quantile_,'prob':readmit_prob,'Readmitted':y}\n",
    "    quan_table = pd.DataFrame(temp_dict).sort_values('quantile')\n",
    "    temp1 = quan_table.groupby('quantile')['prob'].agg(['count','min','max']).reset_index()\n",
    "    temp2 = quan_table.groupby(['quantile','Readmitted']).count().reset_index()\n",
    "    temp2 = temp2[temp2.Readmitted==1]\n",
    "    quan_table = pd.merge(temp2, temp1, how='inner',on ='quantile').drop('Readmitted',1).\\\n",
    "                    rename({'prob': 'readmitted','count':'amount'}, axis=1)\n",
    "    quan_table = quan_table[quan_table.columns[[0,2,1,3,4]]]\n",
    "    quan_table['pct_readmitted'] = quan_table.readmitted/quan_table.amount\n",
    "    quan_table['lift'] = quan_table.pct_readmitted.apply(lambda x:10*x/quan_table.pct_readmitted.sum())\n",
    "    return quan_table"
   ]
  },
  {
   "cell_type": "code",
   "execution_count": 376,
   "metadata": {},
   "outputs": [],
   "source": [
    "quan_table = quan_tab(LR_smo,x_test,y_test)"
   ]
  },
  {
   "cell_type": "code",
   "execution_count": 377,
   "metadata": {},
   "outputs": [
    {
     "data": {
      "text/html": [
       "<div>\n",
       "<style scoped>\n",
       "    .dataframe tbody tr th:only-of-type {\n",
       "        vertical-align: middle;\n",
       "    }\n",
       "\n",
       "    .dataframe tbody tr th {\n",
       "        vertical-align: top;\n",
       "    }\n",
       "\n",
       "    .dataframe thead th {\n",
       "        text-align: right;\n",
       "    }\n",
       "</style>\n",
       "<table border=\"1\" class=\"dataframe\">\n",
       "  <thead>\n",
       "    <tr style=\"text-align: right;\">\n",
       "      <th></th>\n",
       "      <th>quantile</th>\n",
       "      <th>amount</th>\n",
       "      <th>readmitted</th>\n",
       "      <th>min</th>\n",
       "      <th>max</th>\n",
       "      <th>pct_readmitted</th>\n",
       "      <th>lift</th>\n",
       "    </tr>\n",
       "  </thead>\n",
       "  <tbody>\n",
       "    <tr>\n",
       "      <th>0</th>\n",
       "      <td>1</td>\n",
       "      <td>1400</td>\n",
       "      <td>59</td>\n",
       "      <td>0.020515</td>\n",
       "      <td>0.266838</td>\n",
       "      <td>0.042143</td>\n",
       "      <td>0.468467</td>\n",
       "    </tr>\n",
       "    <tr>\n",
       "      <th>1</th>\n",
       "      <td>2</td>\n",
       "      <td>1399</td>\n",
       "      <td>85</td>\n",
       "      <td>0.266981</td>\n",
       "      <td>0.321460</td>\n",
       "      <td>0.060758</td>\n",
       "      <td>0.675392</td>\n",
       "    </tr>\n",
       "    <tr>\n",
       "      <th>2</th>\n",
       "      <td>3</td>\n",
       "      <td>1400</td>\n",
       "      <td>80</td>\n",
       "      <td>0.321589</td>\n",
       "      <td>0.364460</td>\n",
       "      <td>0.057143</td>\n",
       "      <td>0.635209</td>\n",
       "    </tr>\n",
       "    <tr>\n",
       "      <th>3</th>\n",
       "      <td>4</td>\n",
       "      <td>1399</td>\n",
       "      <td>99</td>\n",
       "      <td>0.364552</td>\n",
       "      <td>0.404255</td>\n",
       "      <td>0.070765</td>\n",
       "      <td>0.786633</td>\n",
       "    </tr>\n",
       "    <tr>\n",
       "      <th>4</th>\n",
       "      <td>5</td>\n",
       "      <td>1400</td>\n",
       "      <td>107</td>\n",
       "      <td>0.404276</td>\n",
       "      <td>0.444452</td>\n",
       "      <td>0.076429</td>\n",
       "      <td>0.849592</td>\n",
       "    </tr>\n",
       "    <tr>\n",
       "      <th>5</th>\n",
       "      <td>6</td>\n",
       "      <td>1399</td>\n",
       "      <td>114</td>\n",
       "      <td>0.444538</td>\n",
       "      <td>0.485632</td>\n",
       "      <td>0.081487</td>\n",
       "      <td>0.905820</td>\n",
       "    </tr>\n",
       "    <tr>\n",
       "      <th>6</th>\n",
       "      <td>7</td>\n",
       "      <td>1399</td>\n",
       "      <td>133</td>\n",
       "      <td>0.485659</td>\n",
       "      <td>0.531294</td>\n",
       "      <td>0.095068</td>\n",
       "      <td>1.056790</td>\n",
       "    </tr>\n",
       "    <tr>\n",
       "      <th>7</th>\n",
       "      <td>8</td>\n",
       "      <td>1400</td>\n",
       "      <td>125</td>\n",
       "      <td>0.531315</td>\n",
       "      <td>0.590009</td>\n",
       "      <td>0.089286</td>\n",
       "      <td>0.992514</td>\n",
       "    </tr>\n",
       "    <tr>\n",
       "      <th>8</th>\n",
       "      <td>9</td>\n",
       "      <td>1399</td>\n",
       "      <td>168</td>\n",
       "      <td>0.590103</td>\n",
       "      <td>0.672170</td>\n",
       "      <td>0.120086</td>\n",
       "      <td>1.334892</td>\n",
       "    </tr>\n",
       "    <tr>\n",
       "      <th>9</th>\n",
       "      <td>10</td>\n",
       "      <td>1400</td>\n",
       "      <td>289</td>\n",
       "      <td>0.672222</td>\n",
       "      <td>0.971260</td>\n",
       "      <td>0.206429</td>\n",
       "      <td>2.294692</td>\n",
       "    </tr>\n",
       "  </tbody>\n",
       "</table>\n",
       "</div>"
      ],
      "text/plain": [
       "  quantile  amount  readmitted       min       max  pct_readmitted      lift\n",
       "0        1    1400          59  0.020515  0.266838        0.042143  0.468467\n",
       "1        2    1399          85  0.266981  0.321460        0.060758  0.675392\n",
       "2        3    1400          80  0.321589  0.364460        0.057143  0.635209\n",
       "3        4    1399          99  0.364552  0.404255        0.070765  0.786633\n",
       "4        5    1400         107  0.404276  0.444452        0.076429  0.849592\n",
       "5        6    1399         114  0.444538  0.485632        0.081487  0.905820\n",
       "6        7    1399         133  0.485659  0.531294        0.095068  1.056790\n",
       "7        8    1400         125  0.531315  0.590009        0.089286  0.992514\n",
       "8        9    1399         168  0.590103  0.672170        0.120086  1.334892\n",
       "9       10    1400         289  0.672222  0.971260        0.206429  2.294692"
      ]
     },
     "execution_count": 377,
     "metadata": {},
     "output_type": "execute_result"
    }
   ],
   "source": [
    "quan_table"
   ]
  },
  {
   "cell_type": "markdown",
   "metadata": {},
   "source": [
    "# Random Forest"
   ]
  },
  {
   "cell_type": "code",
   "execution_count": null,
   "metadata": {},
   "outputs": [],
   "source": [
    "from bayes_opt import BayesianOptimization\n",
    "\n",
    "#Bayesian optimization\n",
    "def bayesian_optimization(dataset, function, parameters):\n",
    "    X_train, y_train, X_test, y_test = dataset\n",
    "    n_iterations = 5\n",
    "    gp_params = {\"alpha\": 1e-4}\n",
    "\n",
    "    BO = BayesianOptimization(function, parameters)\n",
    "    BO.maximize(n_iter=n_iterations, **gp_params)\n",
    "\n",
    "    return BO.max  "
   ]
  },
  {
   "cell_type": "code",
   "execution_count": 6,
   "metadata": {},
   "outputs": [],
   "source": [
    "def rfc_optimization(cv_splits):\n",
    "    def function(n_estimators, max_depth, min_samples_split):\n",
    "        return cross_val_score(\n",
    "               RandomForestClassifier(\n",
    "                   n_estimators=int(max(n_estimators,0)),                                                               \n",
    "                   max_depth=int(max(max_depth,1)),\n",
    "                   min_samples_split=int(max(min_samples_split,2)), \n",
    "                   n_jobs=-1, \n",
    "                   random_state=42,   \n",
    "                   class_weight=\"balanced\"),  \n",
    "               X=X_train, \n",
    "               y=y_train, \n",
    "               cv=cv_splits,\n",
    "               scoring=\"roc_auc\",\n",
    "               n_jobs=-1).mean()\n",
    "\n",
    "    parameters = {\"n_estimators\": (10, 1000),\n",
    "                  \"max_depth\": (1, 150),\n",
    "                  \"min_samples_split\": (2, 10)}\n",
    "    \n",
    "    return function, parameters  \n",
    "\n",
    "def train(X_train, y_train, X_test, y_test, function, parameters):\n",
    "    dataset = (X_train, y_train, X_test, y_test)\n",
    "    cv_splits = 4\n",
    "    \n",
    "    best_solution = bayesian_optimization(dataset, function, parameters)      \n",
    "    params = best_solution[\"params\"]\n",
    "\n",
    "    model = RandomForestClassifier(\n",
    "             n_estimators=int(max(params[\"n_estimators\"], 0)),\n",
    "             max_depth=int(max(params[\"max_depth\"], 1)),\n",
    "             min_samples_split=int(max(params[\"min_samples_split\"], 2)), \n",
    "             n_jobs=-1, \n",
    "             random_state=42,   \n",
    "             class_weight=\"balanced\")\n",
    "\n",
    "    model.fit(X_train, y_train)\n",
    "    \n",
    "    return model "
   ]
  },
  {
   "cell_type": "code",
   "execution_count": 7,
   "metadata": {},
   "outputs": [],
   "source": [
    "func, para = rfc_optimization(5)\n",
    "X_train = x_train_down\n",
    "y_train = y_train_down\n",
    "X_test = x_test"
   ]
  },
  {
   "cell_type": "code",
   "execution_count": 8,
   "metadata": {},
   "outputs": [
    {
     "name": "stdout",
     "output_type": "stream",
     "text": [
      "|   iter    |  target   | max_depth | min_sa... | n_esti... |\n",
      "-------------------------------------------------------------\n",
      "| \u001b[0m 1       \u001b[0m | \u001b[0m 0.6274  \u001b[0m | \u001b[0m 23.56   \u001b[0m | \u001b[0m 5.142   \u001b[0m | \u001b[0m 463.6   \u001b[0m |\n",
      "| \u001b[95m 2       \u001b[0m | \u001b[95m 0.6286  \u001b[0m | \u001b[95m 91.09   \u001b[0m | \u001b[95m 8.599   \u001b[0m | \u001b[95m 284.0   \u001b[0m |\n",
      "| \u001b[95m 3       \u001b[0m | \u001b[95m 0.6313  \u001b[0m | \u001b[95m 100.6   \u001b[0m | \u001b[95m 9.137   \u001b[0m | \u001b[95m 904.5   \u001b[0m |\n",
      "| \u001b[0m 4       \u001b[0m | \u001b[0m 0.6271  \u001b[0m | \u001b[0m 121.6   \u001b[0m | \u001b[0m 2.975   \u001b[0m | \u001b[0m 806.5   \u001b[0m |\n",
      "| \u001b[0m 5       \u001b[0m | \u001b[0m 0.63    \u001b[0m | \u001b[0m 5.812   \u001b[0m | \u001b[0m 4.491   \u001b[0m | \u001b[0m 698.6   \u001b[0m |\n",
      "| \u001b[0m 6       \u001b[0m | \u001b[0m 0.5843  \u001b[0m | \u001b[0m 148.7   \u001b[0m | \u001b[0m 3.561   \u001b[0m | \u001b[0m 10.47   \u001b[0m |\n",
      "| \u001b[0m 7       \u001b[0m | \u001b[0m 0.6204  \u001b[0m | \u001b[0m 1.304   \u001b[0m | \u001b[0m 7.074   \u001b[0m | \u001b[0m 998.7   \u001b[0m |\n",
      "| \u001b[0m 8       \u001b[0m | \u001b[0m 0.6204  \u001b[0m | \u001b[0m 1.819   \u001b[0m | \u001b[0m 5.822   \u001b[0m | \u001b[0m 999.1   \u001b[0m |\n",
      "| \u001b[0m 9       \u001b[0m | \u001b[0m 0.6295  \u001b[0m | \u001b[0m 148.6   \u001b[0m | \u001b[0m 7.597   \u001b[0m | \u001b[0m 999.5   \u001b[0m |\n",
      "| \u001b[0m 10      \u001b[0m | \u001b[0m 0.6303  \u001b[0m | \u001b[0m 149.7   \u001b[0m | \u001b[0m 6.222   \u001b[0m | \u001b[0m 1e+03   \u001b[0m |\n",
      "=============================================================\n"
     ]
    }
   ],
   "source": [
    "rf_opt = train(X_train, y_train, X_test, y_test, func, para)"
   ]
  },
  {
   "cell_type": "code",
   "execution_count": 9,
   "metadata": {},
   "outputs": [
    {
     "name": "stdout",
     "output_type": "stream",
     "text": [
      "Train score: 0.9929254683140694\n",
      "Test score: 0.5992140050017863\n"
     ]
    }
   ],
   "source": [
    "y_pr_rf = rf_opt.predict(x_test)\n",
    "print('Train score: {}'.format(rf_opt.score(X_train, y_train)))\n",
    "print('Test score: {}'.format(rf_opt.score(x_test, y_test)))"
   ]
  },
  {
   "cell_type": "code",
   "execution_count": 10,
   "metadata": {},
   "outputs": [
    {
     "data": {
      "text/plain": [
       "array([[7618, 5118],\n",
       "       [ 491,  768]])"
      ]
     },
     "execution_count": 10,
     "metadata": {},
     "output_type": "execute_result"
    }
   ],
   "source": [
    "confusion_matrix(y_test,y_pr_rf)"
   ]
  },
  {
   "cell_type": "code",
   "execution_count": 54,
   "metadata": {},
   "outputs": [
    {
     "data": {
      "text/plain": [
       "<Figure size 720x576 with 0 Axes>"
      ]
     },
     "execution_count": 54,
     "metadata": {},
     "output_type": "execute_result"
    },
    {
     "data": {
      "image/png": "[encoded data removed]",
      "text/plain": [
       "<Figure size 432x288 with 1 Axes>"
      ]
     },
     "metadata": {
      "needs_background": "light"
     },
     "output_type": "display_data"
    },
    {
     "data": {
      "text/plain": [
       "<Figure size 720x576 with 0 Axes>"
      ]
     },
     "metadata": {},
     "output_type": "display_data"
    }
   ],
   "source": [
    "sorted_importance_rf = sorted(zip(x_test.columns, rf_opt.feature_importances_), key=lambda t:t[1], reverse=True)\n",
    "plt.barh([x[0] for x in sorted_importance_rf[:10]][::-1],[x[1] for x in sorted_importance_rf[:10]][::-1])\n",
    "plt.title('RF Top 10 Feature Importance', fontsize=18)\n",
    "plt.figure(figsize=(10,8))"
   ]
  },
  {
   "cell_type": "code",
   "execution_count": 11,
   "metadata": {},
   "outputs": [
    {
     "data": {
      "text/plain": [
       "(array([0.93944999, 0.1304791 ]),\n",
       " array([0.59814698, 0.61000794]),\n",
       " array([0.73091869, 0.21497551]),\n",
       " array([12736,  1259]))"
      ]
     },
     "execution_count": 11,
     "metadata": {},
     "output_type": "execute_result"
    }
   ],
   "source": [
    "precision_recall_fscore_support(y_test,y_pr_rf)\n",
    "# Output is:\n",
    "# [Precision of class 0, Precision of class 1]\n",
    "# [Recall of class 0   , Recall of class 1]\n",
    "# [F1 Score of class 0 , F1 Score of class 1]\n",
    "# [Instances of class 0, Instances of class 1]"
   ]
  },
  {
   "cell_type": "code",
   "execution_count": 14,
   "metadata": {},
   "outputs": [
    {
     "data": {
      "text/html": [
       "<div>\n",
       "<style scoped>\n",
       "    .dataframe tbody tr th:only-of-type {\n",
       "        vertical-align: middle;\n",
       "    }\n",
       "\n",
       "    .dataframe tbody tr th {\n",
       "        vertical-align: top;\n",
       "    }\n",
       "\n",
       "    .dataframe thead th {\n",
       "        text-align: right;\n",
       "    }\n",
       "</style>\n",
       "<table border=\"1\" class=\"dataframe\">\n",
       "  <thead>\n",
       "    <tr style=\"text-align: right;\">\n",
       "      <th></th>\n",
       "      <th>quantile</th>\n",
       "      <th>amount</th>\n",
       "      <th>readmitted</th>\n",
       "      <th>min</th>\n",
       "      <th>max</th>\n",
       "      <th>pct_readmitted</th>\n",
       "      <th>lift</th>\n",
       "    </tr>\n",
       "  </thead>\n",
       "  <tbody>\n",
       "    <tr>\n",
       "      <th>0</th>\n",
       "      <td>1</td>\n",
       "      <td>1400</td>\n",
       "      <td>51</td>\n",
       "      <td>0.101228</td>\n",
       "      <td>0.337221</td>\n",
       "      <td>0.036429</td>\n",
       "      <td>0.404951</td>\n",
       "    </tr>\n",
       "    <tr>\n",
       "      <th>1</th>\n",
       "      <td>2</td>\n",
       "      <td>1399</td>\n",
       "      <td>67</td>\n",
       "      <td>0.337271</td>\n",
       "      <td>0.381814</td>\n",
       "      <td>0.047891</td>\n",
       "      <td>0.532374</td>\n",
       "    </tr>\n",
       "    <tr>\n",
       "      <th>2</th>\n",
       "      <td>3</td>\n",
       "      <td>1400</td>\n",
       "      <td>89</td>\n",
       "      <td>0.381821</td>\n",
       "      <td>0.415412</td>\n",
       "      <td>0.063571</td>\n",
       "      <td>0.706679</td>\n",
       "    </tr>\n",
       "    <tr>\n",
       "      <th>3</th>\n",
       "      <td>4</td>\n",
       "      <td>1399</td>\n",
       "      <td>88</td>\n",
       "      <td>0.415417</td>\n",
       "      <td>0.445722</td>\n",
       "      <td>0.062902</td>\n",
       "      <td>0.699238</td>\n",
       "    </tr>\n",
       "    <tr>\n",
       "      <th>4</th>\n",
       "      <td>5</td>\n",
       "      <td>1400</td>\n",
       "      <td>103</td>\n",
       "      <td>0.445726</td>\n",
       "      <td>0.476695</td>\n",
       "      <td>0.073571</td>\n",
       "      <td>0.817842</td>\n",
       "    </tr>\n",
       "    <tr>\n",
       "      <th>5</th>\n",
       "      <td>6</td>\n",
       "      <td>1399</td>\n",
       "      <td>114</td>\n",
       "      <td>0.476745</td>\n",
       "      <td>0.505696</td>\n",
       "      <td>0.081487</td>\n",
       "      <td>0.905831</td>\n",
       "    </tr>\n",
       "    <tr>\n",
       "      <th>6</th>\n",
       "      <td>7</td>\n",
       "      <td>1399</td>\n",
       "      <td>124</td>\n",
       "      <td>0.505704</td>\n",
       "      <td>0.536228</td>\n",
       "      <td>0.088635</td>\n",
       "      <td>0.985290</td>\n",
       "    </tr>\n",
       "    <tr>\n",
       "      <th>7</th>\n",
       "      <td>8</td>\n",
       "      <td>1400</td>\n",
       "      <td>163</td>\n",
       "      <td>0.536247</td>\n",
       "      <td>0.571302</td>\n",
       "      <td>0.116429</td>\n",
       "      <td>1.294254</td>\n",
       "    </tr>\n",
       "    <tr>\n",
       "      <th>8</th>\n",
       "      <td>9</td>\n",
       "      <td>1399</td>\n",
       "      <td>184</td>\n",
       "      <td>0.571312</td>\n",
       "      <td>0.617152</td>\n",
       "      <td>0.131523</td>\n",
       "      <td>1.462043</td>\n",
       "    </tr>\n",
       "    <tr>\n",
       "      <th>9</th>\n",
       "      <td>10</td>\n",
       "      <td>1400</td>\n",
       "      <td>276</td>\n",
       "      <td>0.617160</td>\n",
       "      <td>0.883116</td>\n",
       "      <td>0.197143</td>\n",
       "      <td>2.191498</td>\n",
       "    </tr>\n",
       "  </tbody>\n",
       "</table>\n",
       "</div>"
      ],
      "text/plain": [
       "  quantile  amount  readmitted       min       max  pct_readmitted      lift\n",
       "0        1    1400          51  0.101228  0.337221        0.036429  0.404951\n",
       "1        2    1399          67  0.337271  0.381814        0.047891  0.532374\n",
       "2        3    1400          89  0.381821  0.415412        0.063571  0.706679\n",
       "3        4    1399          88  0.415417  0.445722        0.062902  0.699238\n",
       "4        5    1400         103  0.445726  0.476695        0.073571  0.817842\n",
       "5        6    1399         114  0.476745  0.505696        0.081487  0.905831\n",
       "6        7    1399         124  0.505704  0.536228        0.088635  0.985290\n",
       "7        8    1400         163  0.536247  0.571302        0.116429  1.294254\n",
       "8        9    1399         184  0.571312  0.617152        0.131523  1.462043\n",
       "9       10    1400         276  0.617160  0.883116        0.197143  2.191498"
      ]
     },
     "execution_count": 14,
     "metadata": {},
     "output_type": "execute_result"
    }
   ],
   "source": [
    "quantile_table_RF = quan_tab(rf_opt,x_test,y_test)\n",
    "quantile_table_RF"
   ]
  },
  {
   "cell_type": "code",
   "execution_count": 15,
   "metadata": {},
   "outputs": [
    {
     "name": "stdout",
     "output_type": "stream",
     "text": [
      "              precision    recall  f1-score   support\n",
      "\n",
      "           0       0.94      0.60      0.73     12736\n",
      "           1       0.13      0.61      0.21      1259\n",
      "\n",
      "    accuracy                           0.60     13995\n",
      "   macro avg       0.53      0.60      0.47     13995\n",
      "weighted avg       0.87      0.60      0.68     13995\n",
      "\n"
     ]
    }
   ],
   "source": [
    "print(classification_report(y_test,y_pr_rf))"
   ]
  },
  {
   "cell_type": "markdown",
   "metadata": {},
   "source": [
    "# XGB"
   ]
  },
  {
   "cell_type": "code",
   "execution_count": 16,
   "metadata": {},
   "outputs": [],
   "source": [
    "def xgb_optimization(cv_splits, eval_set):\n",
    "    def function(eta, gamma, max_depth):\n",
    "            return cross_val_score(\n",
    "                   xgb.XGBClassifier(\n",
    "                       objective=\"binary:logistic\",\n",
    "                       learning_rate=max(eta, 0),\n",
    "                       gamma=max(gamma, 0),\n",
    "                       max_depth=int(max_depth),                                               \n",
    "                       seed=42,\n",
    "                       nthread=-1,\n",
    "                       scale_pos_weight = len(y_train[y_train == 0])/\n",
    "                                          len(y_train[y_train == 1])),  \n",
    "                   X=X_train, \n",
    "                   y=y_train, \n",
    "                   cv=cv_splits,\n",
    "                   scoring=\"roc_auc\",\n",
    "                   fit_params={\n",
    "                        \"early_stopping_rounds\": 10, \n",
    "                        \"eval_metric\": \"auc\", \n",
    "                        \"eval_set\": eval_set},\n",
    "                   n_jobs=-1).mean()\n",
    "\n",
    "    parameters = {\"eta\": (0.001, 0.4),\n",
    "                  \"gamma\": (0, 20),\n",
    "                  \"max_depth\": (1, 2000)}\n",
    "    \n",
    "    return function, parameters"
   ]
  },
  {
   "cell_type": "code",
   "execution_count": 18,
   "metadata": {},
   "outputs": [],
   "source": [
    "X_train = x_train_down\n",
    "y_train = y_train_down\n",
    "X_train, val_x, y_train, val_y = ms.train_test_split(X_train, y_train, test_size = 0.05, random_state=1)\n",
    "X_train = x_train_down\n",
    "y_train = y_train_down\n",
    "X_test = x_test\n",
    "func, para = xgb_optimization(5,[[val_x, val_y]])\n",
    "dataset = (X_train, y_train, X_test, y_test)\n",
    "cv_splits = 5"
   ]
  },
  {
   "cell_type": "code",
   "execution_count": 19,
   "metadata": {},
   "outputs": [
    {
     "name": "stdout",
     "output_type": "stream",
     "text": [
      "|   iter    |  target   |    eta    |   gamma   | max_depth |\n",
      "-------------------------------------------------------------\n",
      "| \u001b[0m 1       \u001b[0m | \u001b[0m 0.6337  \u001b[0m | \u001b[0m 0.2115  \u001b[0m | \u001b[0m 10.67   \u001b[0m | \u001b[0m 1.816e+0\u001b[0m |\n",
      "| \u001b[0m 2       \u001b[0m | \u001b[0m 0.6251  \u001b[0m | \u001b[0m 0.08734 \u001b[0m | \u001b[0m 19.54   \u001b[0m | \u001b[0m 16.15   \u001b[0m |\n",
      "| \u001b[95m 3       \u001b[0m | \u001b[95m 0.6357  \u001b[0m | \u001b[95m 0.1094  \u001b[0m | \u001b[95m 10.57   \u001b[0m | \u001b[95m 1.298e+0\u001b[0m |\n",
      "| \u001b[0m 4       \u001b[0m | \u001b[0m 0.6237  \u001b[0m | \u001b[0m 0.2814  \u001b[0m | \u001b[0m 18.94   \u001b[0m | \u001b[0m 1.817e+0\u001b[0m |\n",
      "| \u001b[0m 5       \u001b[0m | \u001b[0m 0.6323  \u001b[0m | \u001b[0m 0.2489  \u001b[0m | \u001b[0m 10.7    \u001b[0m | \u001b[0m 621.1   \u001b[0m |\n",
      "| \u001b[0m 6       \u001b[0m | \u001b[0m 0.5908  \u001b[0m | \u001b[0m 0.03854 \u001b[0m | \u001b[0m 0.6345  \u001b[0m | \u001b[0m 1.018   \u001b[0m |\n",
      "| \u001b[0m 7       \u001b[0m | \u001b[0m 0.6271  \u001b[0m | \u001b[0m 0.2959  \u001b[0m | \u001b[0m 18.79   \u001b[0m | \u001b[0m 2e+03   \u001b[0m |\n",
      "| \u001b[0m 8       \u001b[0m | \u001b[0m 0.6039  \u001b[0m | \u001b[0m 0.1374  \u001b[0m | \u001b[0m 1.375   \u001b[0m | \u001b[0m 2e+03   \u001b[0m |\n",
      "| \u001b[0m 9       \u001b[0m | \u001b[0m 0.6208  \u001b[0m | \u001b[0m 0.112   \u001b[0m | \u001b[0m 19.99   \u001b[0m | \u001b[0m 1.063e+0\u001b[0m |\n",
      "| \u001b[0m 10      \u001b[0m | \u001b[0m 0.6241  \u001b[0m | \u001b[0m 0.04613 \u001b[0m | \u001b[0m 17.51   \u001b[0m | \u001b[0m 2e+03   \u001b[0m |\n",
      "=============================================================\n"
     ]
    }
   ],
   "source": [
    "best_solution = bayesian_optimization(dataset, func, para)      \n",
    "params = best_solution[\"params\"]"
   ]
  },
  {
   "cell_type": "code",
   "execution_count": 21,
   "metadata": {},
   "outputs": [],
   "source": [
    "xgb_opt = xgb.XGBClassifier(\n",
    "             eta=max(params[\"eta\"], 0),\n",
    "             gamma=max(params[\"gamma\"], 0),\n",
    "             max_depth=int(max(params[\"max_depth\"], 2)), \n",
    "             n_jobs=-1, \n",
    "             random_state=42,   \n",
    "             class_weight=\"balanced\")"
   ]
  },
  {
   "cell_type": "code",
   "execution_count": 22,
   "metadata": {},
   "outputs": [
    {
     "data": {
      "text/plain": [
       "XGBClassifier(base_score=0.5, booster='gbtree', class_weight='balanced',\n",
       "              colsample_bylevel=1, colsample_bynode=1, colsample_bytree=1,\n",
       "              eta=0.10935935143868462, gamma=10.572258411021911,\n",
       "              learning_rate=0.1, max_delta_step=0, max_depth=1297,\n",
       "              min_child_weight=1, missing=None, n_estimators=100, n_jobs=-1,\n",
       "              nthread=None, objective='binary:logistic', random_state=42,\n",
       "              reg_alpha=0, reg_lambda=1, scale_pos_weight=1, seed=None,\n",
       "              silent=None, subsample=1, verbosity=1)"
      ]
     },
     "execution_count": 22,
     "metadata": {},
     "output_type": "execute_result"
    }
   ],
   "source": [
    "X_train = x_train_down\n",
    "y_train = y_train_down\n",
    "xgb_opt.fit(x_train_down, y_train_down)"
   ]
  },
  {
   "cell_type": "code",
   "execution_count": 23,
   "metadata": {
    "scrolled": true
   },
   "outputs": [
    {
     "name": "stdout",
     "output_type": "stream",
     "text": [
      "Train score: 0.6148308263960842\n",
      "Test score use: 0.6125044658806716\n"
     ]
    }
   ],
   "source": [
    "y_pr_xgb = xgb_opt.predict(x_test)\n",
    "print('Train score: {}'.format(xgb_opt.score(x_train_o, y_train_o)))\n",
    "print('Test score use: {}'.format(xgb_opt.score(x_test_o, y_test_o)))"
   ]
  },
  {
   "cell_type": "code",
   "execution_count": 24,
   "metadata": {},
   "outputs": [
    {
     "data": {
      "text/plain": [
       "array([[7806, 4930],\n",
       "       [ 493,  766]])"
      ]
     },
     "execution_count": 24,
     "metadata": {},
     "output_type": "execute_result"
    }
   ],
   "source": [
    "confusion_matrix(y_test,y_pr_xgb)"
   ]
  },
  {
   "cell_type": "code",
   "execution_count": 53,
   "metadata": {},
   "outputs": [
    {
     "data": {
      "text/plain": [
       "<Figure size 720x576 with 0 Axes>"
      ]
     },
     "execution_count": 53,
     "metadata": {},
     "output_type": "execute_result"
    },
    {
     "data": {
      "image/png": "[encoded data removed]",
      "text/plain": [
       "<Figure size 432x288 with 1 Axes>"
      ]
     },
     "metadata": {
      "needs_background": "light"
     },
     "output_type": "display_data"
    },
    {
     "data": {
      "text/plain": [
       "<Figure size 720x576 with 0 Axes>"
      ]
     },
     "metadata": {},
     "output_type": "display_data"
    }
   ],
   "source": [
    "sorted_importance_xgb = sorted(zip(x_test.columns, xgb_opt.feature_importances_), key=lambda t:t[1], reverse=True)\n",
    "plt.barh([x[0] for x in sorted_importance_xgb[:10]][::-1],[x[1] for x in sorted_importance_xgb[:10]][::-1])\n",
    "plt.title('XGB Top 10 Feature Importance', fontsize=20)\n",
    "plt.figure(figsize=(10,8))"
   ]
  },
  {
   "cell_type": "code",
   "execution_count": 25,
   "metadata": {},
   "outputs": [
    {
     "data": {
      "text/plain": [
       "(array([0.94059525, 0.13448034]),\n",
       " array([0.61290829, 0.60841938]),\n",
       " array([0.74219159, 0.22027318]),\n",
       " array([12736,  1259]))"
      ]
     },
     "execution_count": 25,
     "metadata": {},
     "output_type": "execute_result"
    }
   ],
   "source": [
    "precision_recall_fscore_support(y_test,y_pr_xgb)\n",
    "# Output is:\n",
    "# [Precision of class 0, Precision of class 1]\n",
    "# [Recall of class 0   , Recall of class 1]\n",
    "# [F1 Score of class 0 , F1 Score of class 1]\n",
    "# [Instances of class 0, Instances of class 1]"
   ]
  },
  {
   "cell_type": "code",
   "execution_count": 26,
   "metadata": {
    "scrolled": true
   },
   "outputs": [
    {
     "data": {
      "text/html": [
       "<div>\n",
       "<style scoped>\n",
       "    .dataframe tbody tr th:only-of-type {\n",
       "        vertical-align: middle;\n",
       "    }\n",
       "\n",
       "    .dataframe tbody tr th {\n",
       "        vertical-align: top;\n",
       "    }\n",
       "\n",
       "    .dataframe thead th {\n",
       "        text-align: right;\n",
       "    }\n",
       "</style>\n",
       "<table border=\"1\" class=\"dataframe\">\n",
       "  <thead>\n",
       "    <tr style=\"text-align: right;\">\n",
       "      <th></th>\n",
       "      <th>quantile</th>\n",
       "      <th>amount</th>\n",
       "      <th>readmitted</th>\n",
       "      <th>min</th>\n",
       "      <th>max</th>\n",
       "      <th>pct_readmitted</th>\n",
       "      <th>lift</th>\n",
       "    </tr>\n",
       "  </thead>\n",
       "  <tbody>\n",
       "    <tr>\n",
       "      <th>0</th>\n",
       "      <td>1</td>\n",
       "      <td>1400</td>\n",
       "      <td>48</td>\n",
       "      <td>0.248544</td>\n",
       "      <td>0.347366</td>\n",
       "      <td>0.034286</td>\n",
       "      <td>0.381130</td>\n",
       "    </tr>\n",
       "    <tr>\n",
       "      <th>1</th>\n",
       "      <td>2</td>\n",
       "      <td>1399</td>\n",
       "      <td>70</td>\n",
       "      <td>0.347399</td>\n",
       "      <td>0.381916</td>\n",
       "      <td>0.050036</td>\n",
       "      <td>0.556211</td>\n",
       "    </tr>\n",
       "    <tr>\n",
       "      <th>2</th>\n",
       "      <td>3</td>\n",
       "      <td>1400</td>\n",
       "      <td>90</td>\n",
       "      <td>0.381932</td>\n",
       "      <td>0.409440</td>\n",
       "      <td>0.064286</td>\n",
       "      <td>0.714618</td>\n",
       "    </tr>\n",
       "    <tr>\n",
       "      <th>3</th>\n",
       "      <td>4</td>\n",
       "      <td>1399</td>\n",
       "      <td>94</td>\n",
       "      <td>0.409448</td>\n",
       "      <td>0.438297</td>\n",
       "      <td>0.067191</td>\n",
       "      <td>0.746912</td>\n",
       "    </tr>\n",
       "    <tr>\n",
       "      <th>4</th>\n",
       "      <td>5</td>\n",
       "      <td>1400</td>\n",
       "      <td>86</td>\n",
       "      <td>0.438301</td>\n",
       "      <td>0.470048</td>\n",
       "      <td>0.061429</td>\n",
       "      <td>0.682857</td>\n",
       "    </tr>\n",
       "    <tr>\n",
       "      <th>5</th>\n",
       "      <td>6</td>\n",
       "      <td>1399</td>\n",
       "      <td>109</td>\n",
       "      <td>0.470066</td>\n",
       "      <td>0.502020</td>\n",
       "      <td>0.077913</td>\n",
       "      <td>0.866101</td>\n",
       "    </tr>\n",
       "    <tr>\n",
       "      <th>6</th>\n",
       "      <td>7</td>\n",
       "      <td>1399</td>\n",
       "      <td>122</td>\n",
       "      <td>0.502032</td>\n",
       "      <td>0.529843</td>\n",
       "      <td>0.087205</td>\n",
       "      <td>0.969397</td>\n",
       "    </tr>\n",
       "    <tr>\n",
       "      <th>7</th>\n",
       "      <td>8</td>\n",
       "      <td>1400</td>\n",
       "      <td>154</td>\n",
       "      <td>0.529865</td>\n",
       "      <td>0.561207</td>\n",
       "      <td>0.110000</td>\n",
       "      <td>1.222791</td>\n",
       "    </tr>\n",
       "    <tr>\n",
       "      <th>8</th>\n",
       "      <td>9</td>\n",
       "      <td>1399</td>\n",
       "      <td>184</td>\n",
       "      <td>0.561220</td>\n",
       "      <td>0.609670</td>\n",
       "      <td>0.131523</td>\n",
       "      <td>1.462041</td>\n",
       "    </tr>\n",
       "    <tr>\n",
       "      <th>9</th>\n",
       "      <td>10</td>\n",
       "      <td>1400</td>\n",
       "      <td>302</td>\n",
       "      <td>0.609720</td>\n",
       "      <td>0.845351</td>\n",
       "      <td>0.215714</td>\n",
       "      <td>2.397941</td>\n",
       "    </tr>\n",
       "  </tbody>\n",
       "</table>\n",
       "</div>"
      ],
      "text/plain": [
       "  quantile  amount  readmitted       min       max  pct_readmitted      lift\n",
       "0        1    1400          48  0.248544  0.347366        0.034286  0.381130\n",
       "1        2    1399          70  0.347399  0.381916        0.050036  0.556211\n",
       "2        3    1400          90  0.381932  0.409440        0.064286  0.714618\n",
       "3        4    1399          94  0.409448  0.438297        0.067191  0.746912\n",
       "4        5    1400          86  0.438301  0.470048        0.061429  0.682857\n",
       "5        6    1399         109  0.470066  0.502020        0.077913  0.866101\n",
       "6        7    1399         122  0.502032  0.529843        0.087205  0.969397\n",
       "7        8    1400         154  0.529865  0.561207        0.110000  1.222791\n",
       "8        9    1399         184  0.561220  0.609670        0.131523  1.462041\n",
       "9       10    1400         302  0.609720  0.845351        0.215714  2.397941"
      ]
     },
     "execution_count": 26,
     "metadata": {},
     "output_type": "execute_result"
    }
   ],
   "source": [
    "quantile_table_xgb = quan_tab(xgb_opt,x_test,y_test)\n",
    "quantile_table_xgb"
   ]
  },
  {
   "cell_type": "code",
   "execution_count": 379,
   "metadata": {},
   "outputs": [
    {
     "name": "stdout",
     "output_type": "stream",
     "text": [
      "              precision    recall  f1-score   support\n",
      "\n",
      "           0       0.94      0.62      0.74     12736\n",
      "           1       0.14      0.61      0.22      1259\n",
      "\n",
      "    accuracy                           0.62     13995\n",
      "   macro avg       0.54      0.61      0.48     13995\n",
      "weighted avg       0.87      0.62      0.70     13995\n",
      "\n"
     ]
    }
   ],
   "source": [
    "print(classification_report(y_test,y_pr_xgb))"
   ]
  },
  {
   "cell_type": "code",
   "execution_count": 55,
   "metadata": {
    "scrolled": true
   },
   "outputs": [
    {
     "data": {
      "image/png": "[encoded data removed]",
      "text/plain": [
       "<Figure size 432x288 with 1 Axes>"
      ]
     },
     "metadata": {
      "needs_background": "light"
     },
     "output_type": "display_data"
    }
   ],
   "source": [
    "y_probs_xgb = pd.DataFrame(xgb_opt.predict_proba(x_test))[1]\n",
    "fpr, tpr, thresholds = roc_curve(y_test, y_probs_xgb)\n",
    "auc = roc_auc_score(y_test, y_probs_xgb)\n",
    "plt.figure()\n",
    "lw = 2\n",
    "plt.plot(fpr, tpr, color='darkorange', lw=lw,\n",
    "        label='ROC curve (area = %0.2f)' % auc)\n",
    "plt.plot([0, 1], [0, 1], color='navy', lw=lw, linestyle='--')\n",
    "plt.xlim([0.0, 1.0])\n",
    "plt.ylim([0.0, 1.05])\n",
    "plt.xlabel('False Positive Rate')\n",
    "plt.ylabel('True Positive Rate')\n",
    "#plt.title('Receiver operating characteristic example')\n",
    "plt.legend(loc=\"lower right\")\n",
    "plt.show()"
   ]
  },
  {
   "cell_type": "markdown",
   "metadata": {},
   "source": [
    "# ROC Curve"
   ]
  },
  {
   "cell_type": "code",
   "execution_count": 91,
   "metadata": {},
   "outputs": [],
   "source": [
    "lbl = LabelEncoder() \n",
    "lbl.fit(list(y_test.values)) \n",
    "y_test = lbl.transform(list(y_test.values))"
   ]
  },
  {
   "cell_type": "code",
   "execution_count": 93,
   "metadata": {
    "scrolled": true
   },
   "outputs": [
    {
     "data": {
      "image/png": "[encoded data removed]",
      "text/plain": [
       "<Figure size 432x288 with 1 Axes>"
      ]
     },
     "metadata": {
      "needs_background": "light"
     },
     "output_type": "display_data"
    }
   ],
   "source": [
    "y_probs = pd.DataFrame(LR_up.predict_proba(x_test))[1]\n",
    "fpr, tpr, thresholds = roc_curve(y_test, y_probs)\n",
    "auc = roc_auc_score(y_test, y_probs)\n",
    "plt.figure()\n",
    "lw = 2\n",
    "plt.plot(fpr, tpr, color='darkorange', lw=lw,\n",
    "        label='ROC curve (area = %0.2f)' % auc)\n",
    "plt.plot([0, 1], [0, 1], color='navy', lw=lw, linestyle='--')\n",
    "plt.xlim([0.0, 1.0])\n",
    "plt.ylim([0.0, 1.05])\n",
    "plt.xlabel('False Positive Rate')\n",
    "plt.ylabel('True Positive Rate')\n",
    "plt.title('Receiver operating characteristic example')\n",
    "plt.legend(loc=\"lower right\")\n",
    "plt.show()"
   ]
  },
  {
   "cell_type": "code",
   "execution_count": 29,
   "metadata": {},
   "outputs": [
    {
     "data": {
      "text/plain": [
       "(array([0.93752745, 0.14119091]),\n",
       " array([0.67046168, 0.54805401]),\n",
       " array([0.78181652, 0.22453628]),\n",
       " array([12736,  1259]))"
      ]
     },
     "execution_count": 29,
     "metadata": {},
     "output_type": "execute_result"
    }
   ],
   "source": [
    "y_hat = LR_up.predict(x_test)\n",
    "precision_recall_fscore_support(y_test, y_hat)\n",
    "# Output is:\n",
    "# [Precision of class 0, Precision of class 1]\n",
    "# [Recall of class 0   , Recall of class 1]\n",
    "# [F1 Score of class 0 , F1 Score of class 1]\n",
    "# [Instances of class 0, Instances of class 1]"
   ]
  },
  {
   "cell_type": "code",
   "execution_count": null,
   "metadata": {},
   "outputs": [],
   "source": []
  }
 ],
 "metadata": {
  "kernelspec": {
   "display_name": "Python 3",
   "language": "python",
   "name": "python3"
  },
  "language_info": {
   "codemirror_mode": {
    "name": "ipython",
    "version": 3
   },
   "file_extension": ".py",
   "mimetype": "text/x-python",
   "name": "python",
   "nbconvert_exporter": "python",
   "pygments_lexer": "ipython3",
   "version": "3.7.4"
  }
 },
 "nbformat": 4,
 "nbformat_minor": 2
}
