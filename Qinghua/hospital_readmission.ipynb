{
 "cells": [
  {
   "cell_type": "code",
   "execution_count": 1,
   "metadata": {
    "scrolled": true
   },
   "outputs": [],
   "source": [
    "from myData import down_sampling, metrics_table\n",
    "from Preprocess import get_data\n",
    "import pandas as pd\n",
    "import numpy as np\n",
    "from sklearn.metrics import roc_curve, auc, classification_report\n",
    "from sklearn.preprocessing import LabelEncoder\n",
    "from sklearn import model_selection as ms\n",
    "from sklearn.linear_model import LogisticRegression\n",
    "from sklearn.ensemble import RandomForestClassifier, GradientBoostingClassifier\n",
    "from sklearn.pipeline import make_pipeline\n",
    "from sklearn.preprocessing import OneHotEncoder\n",
    "\n",
    "import warnings\n",
    "warnings.filterwarnings('ignore')\n",
    "from matplotlib import pyplot as plt\n",
    "%matplotlib inline\n"
   ]
  },
  {
   "cell_type": "code",
   "execution_count": 2,
   "metadata": {},
   "outputs": [
    {
     "name": "stdout",
     "output_type": "stream",
     "text": [
      "Original data shape (101766, 50)\n",
      "Process Missing data\n",
      "Delete multipule encounters\n",
      "Transform features\n",
      "Data shape after preprocessing: (69973, 42)\n"
     ]
    },
    {
     "data": {
      "text/plain": [
       "Index(['race', 'gender', 'age', 'admission_type_id',\n",
       "       'discharge_disposition_id', 'admission_source_id', 'time_in_hospital',\n",
       "       'num_lab_procedures', 'num_procedures', 'num_medications',\n",
       "       'number_outpatient', 'number_emergency', 'number_inpatient',\n",
       "       'number_diagnoses', 'max_glu_serum', 'A1Cresult', 'metformin',\n",
       "       'repaglinide', 'nateglinide', 'chlorpropamide', 'glimepiride',\n",
       "       'acetohexamide', 'glipizide', 'glyburide', 'tolbutamide',\n",
       "       'pioglitazone', 'rosiglitazone', 'acarbose', 'miglitol', 'troglitazone',\n",
       "       'tolazamide', 'insulin', 'glyburide-metformin', 'glipizide-metformin',\n",
       "       'glimepiride-pioglitazone', 'metformin-rosiglitazone',\n",
       "       'metformin-pioglitazone', 'change', 'diabetesMed', 'diag_1_group',\n",
       "       'diag_2_group', 'diag_3_group', 'readmitted'],\n",
       "      dtype='object')"
      ]
     },
     "execution_count": 2,
     "metadata": {},
     "output_type": "execute_result"
    }
   ],
   "source": [
    "X,y= get_data('diabetic_data.csv',labelEncode=False, skewness=False)\n",
    "df = pd.concat([X,y], axis=1)\n",
    "df.columns"
   ]
  },
  {
   "cell_type": "code",
   "execution_count": 3,
   "metadata": {},
   "outputs": [
    {
     "data": {
      "text/html": [
       "<div>\n",
       "<style scoped>\n",
       "    .dataframe tbody tr th:only-of-type {\n",
       "        vertical-align: middle;\n",
       "    }\n",
       "\n",
       "    .dataframe tbody tr th {\n",
       "        vertical-align: top;\n",
       "    }\n",
       "\n",
       "    .dataframe thead th {\n",
       "        text-align: right;\n",
       "    }\n",
       "</style>\n",
       "<table border=\"1\" class=\"dataframe\">\n",
       "  <thead>\n",
       "    <tr style=\"text-align: right;\">\n",
       "      <th></th>\n",
       "      <th>race</th>\n",
       "      <th>gender</th>\n",
       "      <th>age</th>\n",
       "      <th>admission_type_id</th>\n",
       "      <th>discharge_disposition_id</th>\n",
       "      <th>admission_source_id</th>\n",
       "      <th>time_in_hospital</th>\n",
       "      <th>num_lab_procedures</th>\n",
       "      <th>num_procedures</th>\n",
       "      <th>num_medications</th>\n",
       "      <th>number_outpatient</th>\n",
       "      <th>number_emergency</th>\n",
       "      <th>number_inpatient</th>\n",
       "      <th>number_diagnoses</th>\n",
       "      <th>max_glu_serum</th>\n",
       "      <th>A1Cresult</th>\n",
       "      <th>metformin</th>\n",
       "      <th>repaglinide</th>\n",
       "      <th>nateglinide</th>\n",
       "      <th>chlorpropamide</th>\n",
       "      <th>glimepiride</th>\n",
       "      <th>acetohexamide</th>\n",
       "      <th>glipizide</th>\n",
       "      <th>glyburide</th>\n",
       "      <th>tolbutamide</th>\n",
       "      <th>pioglitazone</th>\n",
       "      <th>rosiglitazone</th>\n",
       "      <th>acarbose</th>\n",
       "      <th>miglitol</th>\n",
       "      <th>troglitazone</th>\n",
       "      <th>tolazamide</th>\n",
       "      <th>insulin</th>\n",
       "      <th>glyburide-metformin</th>\n",
       "      <th>glipizide-metformin</th>\n",
       "      <th>glimepiride-pioglitazone</th>\n",
       "      <th>metformin-rosiglitazone</th>\n",
       "      <th>metformin-pioglitazone</th>\n",
       "      <th>change</th>\n",
       "      <th>diabetesMed</th>\n",
       "      <th>diag_1_group</th>\n",
       "      <th>diag_2_group</th>\n",
       "      <th>diag_3_group</th>\n",
       "      <th>readmitted</th>\n",
       "    </tr>\n",
       "  </thead>\n",
       "  <tbody>\n",
       "    <tr>\n",
       "      <th>0</th>\n",
       "      <td>Caucasian</td>\n",
       "      <td>Female</td>\n",
       "      <td>[50-60)</td>\n",
       "      <td>2</td>\n",
       "      <td>1</td>\n",
       "      <td>1</td>\n",
       "      <td>8</td>\n",
       "      <td>77</td>\n",
       "      <td>6</td>\n",
       "      <td>33</td>\n",
       "      <td>0</td>\n",
       "      <td>0</td>\n",
       "      <td>0</td>\n",
       "      <td>8</td>\n",
       "      <td>None</td>\n",
       "      <td>None</td>\n",
       "      <td>Steady</td>\n",
       "      <td>No</td>\n",
       "      <td>No</td>\n",
       "      <td>No</td>\n",
       "      <td>No</td>\n",
       "      <td>No</td>\n",
       "      <td>No</td>\n",
       "      <td>Down</td>\n",
       "      <td>No</td>\n",
       "      <td>No</td>\n",
       "      <td>No</td>\n",
       "      <td>No</td>\n",
       "      <td>No</td>\n",
       "      <td>No</td>\n",
       "      <td>No</td>\n",
       "      <td>Steady</td>\n",
       "      <td>No</td>\n",
       "      <td>No</td>\n",
       "      <td>No</td>\n",
       "      <td>No</td>\n",
       "      <td>No</td>\n",
       "      <td>Ch</td>\n",
       "      <td>Yes</td>\n",
       "      <td>Circulatory</td>\n",
       "      <td>Injury</td>\n",
       "      <td>Digestive</td>\n",
       "      <td>1</td>\n",
       "    </tr>\n",
       "    <tr>\n",
       "      <th>1</th>\n",
       "      <td>Caucasian</td>\n",
       "      <td>Female</td>\n",
       "      <td>[50-60)</td>\n",
       "      <td>3</td>\n",
       "      <td>1</td>\n",
       "      <td>1</td>\n",
       "      <td>2</td>\n",
       "      <td>49</td>\n",
       "      <td>1</td>\n",
       "      <td>11</td>\n",
       "      <td>0</td>\n",
       "      <td>0</td>\n",
       "      <td>0</td>\n",
       "      <td>3</td>\n",
       "      <td>None</td>\n",
       "      <td>None</td>\n",
       "      <td>No</td>\n",
       "      <td>No</td>\n",
       "      <td>No</td>\n",
       "      <td>No</td>\n",
       "      <td>No</td>\n",
       "      <td>No</td>\n",
       "      <td>No</td>\n",
       "      <td>No</td>\n",
       "      <td>No</td>\n",
       "      <td>No</td>\n",
       "      <td>No</td>\n",
       "      <td>No</td>\n",
       "      <td>No</td>\n",
       "      <td>No</td>\n",
       "      <td>No</td>\n",
       "      <td>No</td>\n",
       "      <td>No</td>\n",
       "      <td>No</td>\n",
       "      <td>No</td>\n",
       "      <td>No</td>\n",
       "      <td>No</td>\n",
       "      <td>No</td>\n",
       "      <td>No</td>\n",
       "      <td>Musculoskeletal</td>\n",
       "      <td>Other</td>\n",
       "      <td>Digestive</td>\n",
       "      <td>0</td>\n",
       "    </tr>\n",
       "    <tr>\n",
       "      <th>2</th>\n",
       "      <td>Caucasian</td>\n",
       "      <td>Female</td>\n",
       "      <td>[80-90)</td>\n",
       "      <td>1</td>\n",
       "      <td>3</td>\n",
       "      <td>7</td>\n",
       "      <td>4</td>\n",
       "      <td>68</td>\n",
       "      <td>2</td>\n",
       "      <td>23</td>\n",
       "      <td>0</td>\n",
       "      <td>0</td>\n",
       "      <td>0</td>\n",
       "      <td>9</td>\n",
       "      <td>None</td>\n",
       "      <td>&gt;7</td>\n",
       "      <td>Steady</td>\n",
       "      <td>No</td>\n",
       "      <td>No</td>\n",
       "      <td>No</td>\n",
       "      <td>No</td>\n",
       "      <td>No</td>\n",
       "      <td>No</td>\n",
       "      <td>No</td>\n",
       "      <td>No</td>\n",
       "      <td>No</td>\n",
       "      <td>No</td>\n",
       "      <td>No</td>\n",
       "      <td>No</td>\n",
       "      <td>No</td>\n",
       "      <td>No</td>\n",
       "      <td>No</td>\n",
       "      <td>No</td>\n",
       "      <td>No</td>\n",
       "      <td>No</td>\n",
       "      <td>No</td>\n",
       "      <td>No</td>\n",
       "      <td>No</td>\n",
       "      <td>Yes</td>\n",
       "      <td>Injury</td>\n",
       "      <td>Respiratory</td>\n",
       "      <td>Other</td>\n",
       "      <td>0</td>\n",
       "    </tr>\n",
       "    <tr>\n",
       "      <th>3</th>\n",
       "      <td>Caucasian</td>\n",
       "      <td>Female</td>\n",
       "      <td>[80-90)</td>\n",
       "      <td>1</td>\n",
       "      <td>1</td>\n",
       "      <td>7</td>\n",
       "      <td>3</td>\n",
       "      <td>46</td>\n",
       "      <td>0</td>\n",
       "      <td>20</td>\n",
       "      <td>0</td>\n",
       "      <td>0</td>\n",
       "      <td>0</td>\n",
       "      <td>9</td>\n",
       "      <td>None</td>\n",
       "      <td>&gt;8</td>\n",
       "      <td>Steady</td>\n",
       "      <td>No</td>\n",
       "      <td>No</td>\n",
       "      <td>No</td>\n",
       "      <td>No</td>\n",
       "      <td>No</td>\n",
       "      <td>No</td>\n",
       "      <td>Steady</td>\n",
       "      <td>No</td>\n",
       "      <td>No</td>\n",
       "      <td>No</td>\n",
       "      <td>No</td>\n",
       "      <td>No</td>\n",
       "      <td>No</td>\n",
       "      <td>No</td>\n",
       "      <td>No</td>\n",
       "      <td>No</td>\n",
       "      <td>No</td>\n",
       "      <td>No</td>\n",
       "      <td>No</td>\n",
       "      <td>No</td>\n",
       "      <td>Ch</td>\n",
       "      <td>Yes</td>\n",
       "      <td>Other</td>\n",
       "      <td>Circulatory</td>\n",
       "      <td>Circulatory</td>\n",
       "      <td>0</td>\n",
       "    </tr>\n",
       "    <tr>\n",
       "      <th>4</th>\n",
       "      <td>AfricanAmerican</td>\n",
       "      <td>Female</td>\n",
       "      <td>[30-40)</td>\n",
       "      <td>1</td>\n",
       "      <td>1</td>\n",
       "      <td>7</td>\n",
       "      <td>5</td>\n",
       "      <td>49</td>\n",
       "      <td>0</td>\n",
       "      <td>5</td>\n",
       "      <td>0</td>\n",
       "      <td>0</td>\n",
       "      <td>0</td>\n",
       "      <td>3</td>\n",
       "      <td>None</td>\n",
       "      <td>None</td>\n",
       "      <td>No</td>\n",
       "      <td>No</td>\n",
       "      <td>No</td>\n",
       "      <td>No</td>\n",
       "      <td>Steady</td>\n",
       "      <td>No</td>\n",
       "      <td>No</td>\n",
       "      <td>No</td>\n",
       "      <td>No</td>\n",
       "      <td>No</td>\n",
       "      <td>No</td>\n",
       "      <td>No</td>\n",
       "      <td>No</td>\n",
       "      <td>No</td>\n",
       "      <td>No</td>\n",
       "      <td>No</td>\n",
       "      <td>No</td>\n",
       "      <td>No</td>\n",
       "      <td>No</td>\n",
       "      <td>No</td>\n",
       "      <td>No</td>\n",
       "      <td>No</td>\n",
       "      <td>Yes</td>\n",
       "      <td>Genitourinary</td>\n",
       "      <td>Neoplasms</td>\n",
       "      <td>Digestive</td>\n",
       "      <td>0</td>\n",
       "    </tr>\n",
       "  </tbody>\n",
       "</table>\n",
       "</div>"
      ],
      "text/plain": [
       "              race  gender      age admission_type_id  \\\n",
       "0        Caucasian  Female  [50-60)                 2   \n",
       "1        Caucasian  Female  [50-60)                 3   \n",
       "2        Caucasian  Female  [80-90)                 1   \n",
       "3        Caucasian  Female  [80-90)                 1   \n",
       "4  AfricanAmerican  Female  [30-40)                 1   \n",
       "\n",
       "  discharge_disposition_id admission_source_id  time_in_hospital  \\\n",
       "0                        1                   1                 8   \n",
       "1                        1                   1                 2   \n",
       "2                        3                   7                 4   \n",
       "3                        1                   7                 3   \n",
       "4                        1                   7                 5   \n",
       "\n",
       "   num_lab_procedures  num_procedures  num_medications  number_outpatient  \\\n",
       "0                  77               6               33                  0   \n",
       "1                  49               1               11                  0   \n",
       "2                  68               2               23                  0   \n",
       "3                  46               0               20                  0   \n",
       "4                  49               0                5                  0   \n",
       "\n",
       "   number_emergency  number_inpatient  number_diagnoses max_glu_serum  \\\n",
       "0                 0                 0                 8          None   \n",
       "1                 0                 0                 3          None   \n",
       "2                 0                 0                 9          None   \n",
       "3                 0                 0                 9          None   \n",
       "4                 0                 0                 3          None   \n",
       "\n",
       "  A1Cresult metformin repaglinide nateglinide chlorpropamide glimepiride  \\\n",
       "0      None    Steady          No          No             No          No   \n",
       "1      None        No          No          No             No          No   \n",
       "2        >7    Steady          No          No             No          No   \n",
       "3        >8    Steady          No          No             No          No   \n",
       "4      None        No          No          No             No      Steady   \n",
       "\n",
       "  acetohexamide glipizide glyburide tolbutamide pioglitazone rosiglitazone  \\\n",
       "0            No        No      Down          No           No            No   \n",
       "1            No        No        No          No           No            No   \n",
       "2            No        No        No          No           No            No   \n",
       "3            No        No    Steady          No           No            No   \n",
       "4            No        No        No          No           No            No   \n",
       "\n",
       "  acarbose miglitol troglitazone tolazamide insulin glyburide-metformin  \\\n",
       "0       No       No           No         No  Steady                  No   \n",
       "1       No       No           No         No      No                  No   \n",
       "2       No       No           No         No      No                  No   \n",
       "3       No       No           No         No      No                  No   \n",
       "4       No       No           No         No      No                  No   \n",
       "\n",
       "  glipizide-metformin glimepiride-pioglitazone metformin-rosiglitazone  \\\n",
       "0                  No                       No                      No   \n",
       "1                  No                       No                      No   \n",
       "2                  No                       No                      No   \n",
       "3                  No                       No                      No   \n",
       "4                  No                       No                      No   \n",
       "\n",
       "  metformin-pioglitazone change diabetesMed     diag_1_group diag_2_group  \\\n",
       "0                     No     Ch         Yes      Circulatory       Injury   \n",
       "1                     No     No          No  Musculoskeletal        Other   \n",
       "2                     No     No         Yes           Injury  Respiratory   \n",
       "3                     No     Ch         Yes            Other  Circulatory   \n",
       "4                     No     No         Yes    Genitourinary    Neoplasms   \n",
       "\n",
       "  diag_3_group  readmitted  \n",
       "0    Digestive           1  \n",
       "1    Digestive           0  \n",
       "2        Other           0  \n",
       "3  Circulatory           0  \n",
       "4    Digestive           0  "
      ]
     },
     "execution_count": 3,
     "metadata": {},
     "output_type": "execute_result"
    }
   ],
   "source": [
    "pd.set_option('display.max_columns', 50)\n",
    "df.head()"
   ]
  },
  {
   "cell_type": "code",
   "execution_count": 4,
   "metadata": {},
   "outputs": [
    {
     "data": {
      "text/plain": [
       "Text(0.5, 1.0, 'Race')"
      ]
     },
     "execution_count": 4,
     "metadata": {},
     "output_type": "execute_result"
    },
    {
     "data": {
      "image/png": "[encoded data removed]",
      "text/plain": [
       "<Figure size 288x216 with 1 Axes>"
      ]
     },
     "metadata": {
      "needs_background": "light"
     },
     "output_type": "display_data"
    }
   ],
   "source": [
    "plt.rcParams['figure.figsize']= [4.0, 3.0]\n",
    "df.loc[df['readmitted'].isin(['1','Yes',1]),'race'].value_counts().plot(kind='bar')\n",
    "\n",
    "\n",
    "plt.title('Race')"
   ]
  },
  {
   "cell_type": "code",
   "execution_count": 5,
   "metadata": {},
   "outputs": [
    {
     "data": {
      "text/plain": [
       "Text(0.5, 1.0, 'gender')"
      ]
     },
     "execution_count": 5,
     "metadata": {},
     "output_type": "execute_result"
    },
    {
     "data": {
      "image/png": "[encoded data removed]",
      "text/plain": [
       "<Figure size 288x216 with 1 Axes>"
      ]
     },
     "metadata": {
      "needs_background": "light"
     },
     "output_type": "display_data"
    }
   ],
   "source": [
    "plt.rcParams['figure.figsize']= [4.0, 3.0]\n",
    "df.loc[df['readmitted'].isin(['1','Yes',1]),'gender'].value_counts().plot(kind='bar')\n",
    "plt.title('gender')"
   ]
  },
  {
   "cell_type": "code",
   "execution_count": 6,
   "metadata": {},
   "outputs": [
    {
     "data": {
      "text/plain": [
       "Text(0.5, 1.0, 'Age')"
      ]
     },
     "execution_count": 6,
     "metadata": {},
     "output_type": "execute_result"
    },
    {
     "data": {
      "image/png": "[encoded data removed]",
      "text/plain": [
       "<Figure size 288x216 with 1 Axes>"
      ]
     },
     "metadata": {
      "needs_background": "light"
     },
     "output_type": "display_data"
    }
   ],
   "source": [
    "df.loc[df['readmitted'].isin(['1','Yes',1]),'age'].value_counts().plot(kind='bar')\n",
    "plt.title(\"Age\")"
   ]
  },
  {
   "cell_type": "code",
   "execution_count": 8,
   "metadata": {},
   "outputs": [
    {
     "data": {
      "text/plain": [
       "Text(0.5, 1.0, 'discharge_disposition_id')"
      ]
     },
     "execution_count": 8,
     "metadata": {},
     "output_type": "execute_result"
    },
    {
     "data": {
      "image/png": "[encoded data removed]",
      "text/plain": [
       "<Figure size 504x216 with 1 Axes>"
      ]
     },
     "metadata": {
      "needs_background": "light"
     },
     "output_type": "display_data"
    }
   ],
   "source": [
    "plt.rcParams['figure.figsize']= [7.0, 3.0]\n",
    "df.loc[df['readmitted'].isin(['1','Yes',1]),'discharge_disposition_id'].value_counts().plot(kind='bar')\n",
    "plt.title(\"discharge_disposition_id\")"
   ]
  },
  {
   "cell_type": "code",
   "execution_count": 9,
   "metadata": {},
   "outputs": [
    {
     "data": {
      "text/plain": [
       "Text(0.5, 1.0, 'admission_source_id')"
      ]
     },
     "execution_count": 9,
     "metadata": {},
     "output_type": "execute_result"
    },
    {
     "data": {
      "image/png": "[encoded data removed]",
      "text/plain": [
       "<Figure size 432x216 with 1 Axes>"
      ]
     },
     "metadata": {
      "needs_background": "light"
     },
     "output_type": "display_data"
    }
   ],
   "source": [
    "plt.rcParams['figure.figsize']= [6.0, 3.0]\n",
    "df.loc[df['readmitted'].isin(['1','Yes',1]),'admission_source_id'].value_counts()[:25].plot(kind='bar')\n",
    "plt.title(\"admission_source_id\")"
   ]
  },
  {
   "cell_type": "code",
   "execution_count": 10,
   "metadata": {},
   "outputs": [
    {
     "data": {
      "text/plain": [
       "Text(0.5, 1.0, 'time_in_hospital')"
      ]
     },
     "execution_count": 10,
     "metadata": {},
     "output_type": "execute_result"
    },
    {
     "data": {
      "image/png": "[encoded data removed]",
      "text/plain": [
       "<Figure size 720x216 with 1 Axes>"
      ]
     },
     "metadata": {
      "needs_background": "light"
     },
     "output_type": "display_data"
    }
   ],
   "source": [
    "plt.rcParams['figure.figsize']= [10.0, 3.0]\n",
    "df.loc[df['readmitted'].isin(['1','Yes',1]),'time_in_hospital'].value_counts()[:25].plot(kind='bar')\n",
    "plt.title(\"time_in_hospital\")"
   ]
  },
  {
   "cell_type": "code",
   "execution_count": 11,
   "metadata": {},
   "outputs": [
    {
     "data": {
      "text/plain": [
       "Text(0.5, 1.0, 'num_lab_procedures')"
      ]
     },
     "execution_count": 11,
     "metadata": {},
     "output_type": "execute_result"
    },
    {
     "data": {
      "image/png": "[encoded data removed]",
      "text/plain": [
       "<Figure size 720x216 with 1 Axes>"
      ]
     },
     "metadata": {
      "needs_background": "light"
     },
     "output_type": "display_data"
    }
   ],
   "source": [
    "#plt.rcParams['figure.figsize']= [10.0, 3.0]\n",
    "df.loc[df['readmitted'].isin(['1','Yes',1]),'num_lab_procedures'].value_counts()[:50].plot(kind='bar')\n",
    "plt.title(\"num_lab_procedures\")"
   ]
  },
  {
   "cell_type": "code",
   "execution_count": 12,
   "metadata": {
    "scrolled": false
   },
   "outputs": [
    {
     "data": {
      "text/plain": [
       "Text(0.5, 1.0, 'num_procedures')"
      ]
     },
     "execution_count": 12,
     "metadata": {},
     "output_type": "execute_result"
    },
    {
     "data": {
      "image/png": "[encoded data removed]",
      "text/plain": [
       "<Figure size 720x216 with 1 Axes>"
      ]
     },
     "metadata": {
      "needs_background": "light"
     },
     "output_type": "display_data"
    }
   ],
   "source": [
    "#plt.rcParams['figure.figsize']= [6.0, 3.0]\n",
    "df.loc[df['readmitted'].isin(['1','Yes',1]),'num_procedures'].value_counts().plot(kind='bar')\n",
    "plt.title(\"num_procedures\")"
   ]
  },
  {
   "cell_type": "code",
   "execution_count": 13,
   "metadata": {
    "scrolled": false
   },
   "outputs": [
    {
     "data": {
      "text/plain": [
       "Text(0.5, 1.0, 'num_medications')"
      ]
     },
     "execution_count": 13,
     "metadata": {},
     "output_type": "execute_result"
    },
    {
     "data": {
      "image/png": "[encoded data removed]",
      "text/plain": [
       "<Figure size 720x216 with 1 Axes>"
      ]
     },
     "metadata": {
      "needs_background": "light"
     },
     "output_type": "display_data"
    }
   ],
   "source": [
    "plt.rcParams['figure.figsize']= [10.0, 3.0]\n",
    "df.loc[df['readmitted'].isin(['1','Yes',1]),'num_medications'].value_counts()[:40].plot(kind='bar')\n",
    "plt.title(\"num_medications\")"
   ]
  },
  {
   "cell_type": "code",
   "execution_count": 14,
   "metadata": {},
   "outputs": [
    {
     "data": {
      "text/plain": [
       "Text(0.5, 1.0, 'number_emergency')"
      ]
     },
     "execution_count": 14,
     "metadata": {},
     "output_type": "execute_result"
    },
    {
     "data": {
      "image/png": "[encoded data removed]",
      "text/plain": [
       "<Figure size 720x216 with 1 Axes>"
      ]
     },
     "metadata": {
      "needs_background": "light"
     },
     "output_type": "display_data"
    }
   ],
   "source": [
    "#plt.rcParams['figure.figsize']= [6.0, 4.0]\n",
    "df.loc[df['readmitted'].isin(['1','Yes',1]),'number_emergency'].value_counts().plot(kind='bar')\n",
    "plt.title(\"number_emergency\")"
   ]
  },
  {
   "cell_type": "code",
   "execution_count": 15,
   "metadata": {
    "scrolled": false
   },
   "outputs": [
    {
     "data": {
      "text/plain": [
       "Text(0.5, 1.0, 'number_inpatient')"
      ]
     },
     "execution_count": 15,
     "metadata": {},
     "output_type": "execute_result"
    },
    {
     "data": {
      "image/png": "[encoded data removed]",
      "text/plain": [
       "<Figure size 720x216 with 1 Axes>"
      ]
     },
     "metadata": {
      "needs_background": "light"
     },
     "output_type": "display_data"
    }
   ],
   "source": [
    "#plt.rcParams['figure.figsize']= [6.0, 4.0]\n",
    "df.loc[df['readmitted'].isin(['1','Yes',1]),'number_inpatient'].value_counts().plot(kind='bar')\n",
    "plt.title(\"number_inpatient\")"
   ]
  },
  {
   "cell_type": "code",
   "execution_count": 16,
   "metadata": {
    "scrolled": true
   },
   "outputs": [
    {
     "data": {
      "text/plain": [
       "Text(0.5, 1.0, 'number_outpatient')"
      ]
     },
     "execution_count": 16,
     "metadata": {},
     "output_type": "execute_result"
    },
    {
     "data": {
      "image/png": "[encoded data removed]",
      "text/plain": [
       "<Figure size 432x216 with 1 Axes>"
      ]
     },
     "metadata": {
      "needs_background": "light"
     },
     "output_type": "display_data"
    }
   ],
   "source": [
    "plt.rcParams['figure.figsize']= [6.0, 3.0]\n",
    "df.loc[df['readmitted'].isin(['1','Yes',1]),'number_outpatient'].value_counts().plot(kind='bar')\n",
    "plt.title(\"number_outpatient\")"
   ]
  },
  {
   "cell_type": "code",
   "execution_count": 17,
   "metadata": {
    "scrolled": false
   },
   "outputs": [
    {
     "data": {
      "text/plain": [
       "Text(0.5, 1.0, 'number_diagnoses')"
      ]
     },
     "execution_count": 17,
     "metadata": {},
     "output_type": "execute_result"
    },
    {
     "data": {
      "image/png": "[encoded data removed]",
      "text/plain": [
       "<Figure size 432x216 with 1 Axes>"
      ]
     },
     "metadata": {
      "needs_background": "light"
     },
     "output_type": "display_data"
    }
   ],
   "source": [
    "plt.rcParams['figure.figsize']= [6.0, 3.0]\n",
    "df.loc[df['readmitted'].isin(['1','Yes',1]),'number_diagnoses'].value_counts().plot(kind='bar')\n",
    "plt.title(\"number_diagnoses\")"
   ]
  },
  {
   "cell_type": "code",
   "execution_count": 18,
   "metadata": {
    "scrolled": false
   },
   "outputs": [
    {
     "data": {
      "text/plain": [
       "Text(0.5, 1.0, 'number_outpatient')"
      ]
     },
     "execution_count": 18,
     "metadata": {},
     "output_type": "execute_result"
    },
    {
     "data": {
      "image/png": "[encoded data removed]",
      "text/plain": [
       "<Figure size 432x216 with 1 Axes>"
      ]
     },
     "metadata": {
      "needs_background": "light"
     },
     "output_type": "display_data"
    }
   ],
   "source": [
    "plt.rcParams['figure.figsize']= [6.0, 3.0]\n",
    "df.loc[df['readmitted'].isin(['1','Yes',1]),'number_outpatient'].value_counts()[:10].plot(kind='bar')\n",
    "plt.title(\"number_outpatient\")"
   ]
  },
  {
   "cell_type": "markdown",
   "metadata": {
    "scrolled": false
   },
   "source": [
    "## Modeling"
   ]
  },
  {
   "cell_type": "code",
   "execution_count": 4,
   "metadata": {},
   "outputs": [
    {
     "name": "stdout",
     "output_type": "stream",
     "text": [
      "Original data shape (101766, 50)\n",
      "Process Missing data\n",
      "Delete multipule encounters\n",
      "Transform features\n",
      "Reduce skewness\n",
      "Conduce label encoding\n",
      "Data shape after preprocessing: (69973, 42)\n"
     ]
    }
   ],
   "source": [
    "X,Y= get_data('diabetic_data.csv',labelEncode=True, skewness=True)"
   ]
  },
  {
   "cell_type": "code",
   "execution_count": 5,
   "metadata": {
    "scrolled": false
   },
   "outputs": [
    {
     "data": {
      "image/png": "[encoded data removed]",
      "text/plain": [
       "<Figure size 432x216 with 1 Axes>"
      ]
     },
     "metadata": {
      "needs_background": "light"
     },
     "output_type": "display_data"
    }
   ],
   "source": [
    "plt.rcParams['figure.figsize']= [6.0, 3.0]\n",
    "Y.value_counts()[:10].plot(kind='bar')\n",
    "plt.title(\"Orginal Readmission Distribution\")\n",
    "plt.xticks([0,1], ['No', 'Yes'])\n",
    "plt.ylabel('Total Number')\n",
    "#plt.xlabel('Readmission')\n",
    "plt.savefig('readmission_dist.png')"
   ]
  },
  {
   "cell_type": "code",
   "execution_count": 6,
   "metadata": {},
   "outputs": [],
   "source": [
    "if Y.dtype=='object':\n",
    "    Y = Y.apply(lambda x: int(x=='Yes'))\n",
    "X_train, X_test, y_train, y_test = ms.train_test_split(X, Y,  test_size=0.2, random_state=0)"
   ]
  },
  {
   "cell_type": "code",
   "execution_count": 7,
   "metadata": {},
   "outputs": [],
   "source": [
    "X_train, y_train = down_sampling(X_train, y_train, sampling_ratio = 1)"
   ]
  },
  {
   "cell_type": "code",
   "execution_count": 8,
   "metadata": {
    "scrolled": false
   },
   "outputs": [
    {
     "data": {
      "image/png": "[encoded data removed]",
      "text/plain": [
       "<Figure size 432x216 with 1 Axes>"
      ]
     },
     "metadata": {
      "needs_background": "light"
     },
     "output_type": "display_data"
    }
   ],
   "source": [
    "plt.rcParams['figure.figsize']= [6.0, 3.0]\n",
    "y_train.value_counts()[:10].plot(kind='bar')\n",
    "plt.title(\"Under Sampling on Training Set\")\n",
    "plt.xticks([0,1], ['No', 'Yes'])\n",
    "\n",
    "#plt.xlabel('Readmission')\n",
    "plt.ylabel('Total Number')\n",
    "plt.savefig('readmission_down.png')\n"
   ]
  },
  {
   "cell_type": "code",
   "execution_count": 9,
   "metadata": {},
   "outputs": [
    {
     "name": "stdout",
     "output_type": "stream",
     "text": [
      "(5018, 42) (5018, 42) (13995, 42)\n"
     ]
    }
   ],
   "source": [
    "X_train, X_train_lr, y_train, y_train_lr = ms.train_test_split(\n",
    "    X_train, y_train, test_size=0.5)\n",
    "\n",
    "print(X_train.shape, X_train_lr.shape, X_test.shape)"
   ]
  },
  {
   "cell_type": "code",
   "execution_count": 10,
   "metadata": {},
   "outputs": [
    {
     "data": {
      "text/plain": [
       "0    0.502391\n",
       "1    0.497609\n",
       "Name: readmitted, dtype: float64"
      ]
     },
     "execution_count": 10,
     "metadata": {},
     "output_type": "execute_result"
    }
   ],
   "source": [
    "y_train.value_counts()/y_train.shape[0]"
   ]
  },
  {
   "cell_type": "code",
   "execution_count": 11,
   "metadata": {},
   "outputs": [
    {
     "data": {
      "text/plain": [
       "1    0.502391\n",
       "0    0.497609\n",
       "Name: readmitted, dtype: float64"
      ]
     },
     "execution_count": 11,
     "metadata": {},
     "output_type": "execute_result"
    }
   ],
   "source": [
    "y_train_lr.value_counts()/y_train_lr.shape[0]"
   ]
  },
  {
   "cell_type": "code",
   "execution_count": 12,
   "metadata": {},
   "outputs": [
    {
     "data": {
      "text/plain": [
       "0    0.910039\n",
       "1    0.089961\n",
       "Name: readmitted, dtype: float64"
      ]
     },
     "execution_count": 12,
     "metadata": {},
     "output_type": "execute_result"
    }
   ],
   "source": [
    "y_test.value_counts()/y_test.shape[0]"
   ]
  },
  {
   "cell_type": "code",
   "execution_count": 13,
   "metadata": {},
   "outputs": [],
   "source": [
    "plt.rcParams['figure.figsize']= [6.0, 4.0]"
   ]
  },
  {
   "cell_type": "markdown",
   "metadata": {},
   "source": [
    "## Random Forest + Logistic Regression"
   ]
  },
  {
   "cell_type": "code",
   "execution_count": 14,
   "metadata": {},
   "outputs": [
    {
     "data": {
      "text/plain": [
       "LogisticRegression(C=0.00298, class_weight=None, dual=False, fit_intercept=True,\n",
       "                   intercept_scaling=1, l1_ratio=None, max_iter=1000,\n",
       "                   multi_class='warn', n_jobs=None, penalty='l2',\n",
       "                   random_state=42, solver='saga', tol=0.0001, verbose=0,\n",
       "                   warm_start=False)"
      ]
     },
     "execution_count": 14,
     "metadata": {},
     "output_type": "execute_result"
    }
   ],
   "source": [
    "# Random Forest + Logistic Regression\n",
    "\n",
    "n_estimator = 42\n",
    "rf = RandomForestClassifier(max_depth=6, max_features=6, n_estimators=n_estimator,n_jobs=-1, random_state=42)\n",
    "rf_enc = OneHotEncoder(categories='auto',sparse=False, handle_unknown='ignore')\n",
    "rf_lm = LogisticRegression(solver='saga', max_iter=1000, C=0.00298, random_state=42)\n",
    "rf.fit(X_train, y_train)\n",
    "rf_enc.fit(rf.apply(X_train))\n",
    "rf_lm.fit(rf_enc.transform(rf.apply(X_train_lr)), y_train_lr)\n",
    "\n"
   ]
  },
  {
   "cell_type": "markdown",
   "metadata": {},
   "source": [
    "#### RF + LR Grid Search CV"
   ]
  },
  {
   "cell_type": "code",
   "execution_count": 15,
   "metadata": {},
   "outputs": [
    {
     "name": "stdout",
     "output_type": "stream",
     "text": [
      "RandomForestClassifier(bootstrap=True, class_weight=None, criterion='gini',\n",
      "                       max_depth=7, max_features=5, max_leaf_nodes=None,\n",
      "                       min_impurity_decrease=0.0, min_impurity_split=None,\n",
      "                       min_samples_leaf=1, min_samples_split=2,\n",
      "                       min_weight_fraction_leaf=0.0, n_estimators=36, n_jobs=-1,\n",
      "                       oob_score=False, random_state=42, verbose=0,\n",
      "                       warm_start=False)\n",
      "LogisticRegression(C=0.0029800000000000104, class_weight=None, dual=False,\n",
      "                   fit_intercept=True, intercept_scaling=1, l1_ratio=None,\n",
      "                   max_iter=1000, multi_class='warn', n_jobs=None, penalty='l2',\n",
      "                   random_state=42, solver='saga', tol=0.0001, verbose=0,\n",
      "                   warm_start=False)\n"
     ]
    }
   ],
   "source": [
    "grid_param = {'n_estimators':range(20,44,2), 'max_depth':range(4,8), \\\n",
    "                                  'max_features':range(4,8)}\n",
    "rf_grid_cv = ms.GridSearchCV(rf, cv=grid_param, n_jobs= -1, scoring='roc_auc',return_train_score=True)\n",
    "rf_grid_cv.fit(X_train, y_train)\n",
    "rf = rf_grid_cv.best_estimator_\n",
    "print(rf)\n",
    "\n",
    "rf_enc.fit(rf.apply(X_train))\n",
    "grid_param = {'C':np.linspace(0.1,0.001, 101)}\n",
    "rf_lm_grid_cv = ms.GridSearchCV(rf_lm, grid_param, n_jobs= -1, scoring='roc_auc',return_train_score=True)\n",
    "rf_lm_grid_cv.fit(rf_enc.transform(rf.apply(X_train_lr)), y_train_lr)\n",
    "rf_lm = rf_lm_grid_cv.best_estimator_\n",
    "print(rf_lm)"
   ]
  },
  {
   "cell_type": "code",
   "execution_count": 18,
   "metadata": {},
   "outputs": [
    {
     "name": "stdout",
     "output_type": "stream",
     "text": [
      "rf auc:  0.6228156644022336\n",
      "rf_lm auc:  0.6332580670429191\n"
     ]
    },
    {
     "data": {
      "text/plain": [
       "<matplotlib.axes._subplots.AxesSubplot at 0xb8dec70>"
      ]
     },
     "execution_count": 18,
     "metadata": {},
     "output_type": "execute_result"
    },
    {
     "data": {
      "image/png": "[encoded data removed]",
      "text/plain": [
       "<Figure size 432x288 with 1 Axes>"
      ]
     },
     "metadata": {
      "needs_background": "light"
     },
     "output_type": "display_data"
    }
   ],
   "source": [
    "y_pred_rf = rf.predict_proba(X_test)[:, 1]\n",
    "y_rf = rf.predict(X_test)\n",
    "fpr_rf, tpr_rf, _ = roc_curve(y_test, y_pred_rf)\n",
    "auc_rf = auc(fpr_rf, tpr_rf)\n",
    "print('rf auc: ', auc_rf)\n",
    "\n",
    "y_proba_rf_lm = rf_lm.predict_proba(rf_enc.transform(rf.apply(X_test)))[:, 1]\n",
    "y_rf_lm = rf_lm.predict(rf_enc.transform(rf.apply(X_test)))\n",
    "fpr_rf_lm, tpr_rf_lm, _ = roc_curve(y_test, y_proba_rf_lm)\n",
    "auc_rf_lm = auc(fpr_rf_lm, tpr_rf_lm)\n",
    "print('rf_lm auc: ', auc_rf_lm)\n",
    "\n",
    "pd.Series(rf.feature_importances_, index=X_train.columns).sort_values()[-8:].plot(kind='barh')\n"
   ]
  },
  {
   "cell_type": "code",
   "execution_count": 20,
   "metadata": {},
   "outputs": [
    {
     "name": "stdout",
     "output_type": "stream",
     "text": [
      "\n",
      "        Classification Report on All Quantile Groups        \n",
      "              precision    recall  f1-score   support\n",
      "\n",
      "           0       0.94      0.58      0.72     12736\n",
      "           1       0.13      0.62      0.21      1259\n",
      "\n",
      "    accuracy                           0.58     13995\n",
      "   macro avg       0.53      0.60      0.46     13995\n",
      "weighted avg       0.87      0.58      0.67     13995\n",
      "\n"
     ]
    },
    {
     "data": {
      "text/plain": [
       "<Figure size 432x288 with 0 Axes>"
      ]
     },
     "metadata": {},
     "output_type": "display_data"
    }
   ],
   "source": [
    "\n",
    "plt.savefig('feature_rf.png',bbox_inches='tight')\n",
    "print('\\n{:^60}\\n{}'.format('Classification Report on All Quantile Groups', \\\n",
    "                              classification_report(y_test, y_rf_lm)))"
   ]
  },
  {
   "cell_type": "code",
   "execution_count": 21,
   "metadata": {},
   "outputs": [
    {
     "name": "stdout",
     "output_type": "stream",
     "text": [
      "\n",
      "                                Gain/Lift Chart                                 \n",
      "  quantile  amount  readmitted       min       max  pct_readmitted      lift\n",
      "0        1    1400          64  0.281813  0.371527        0.045714  0.508160\n",
      "1        2    1399          70  0.371556  0.401975        0.050036  0.556197\n",
      "2        3    1400          72  0.401984  0.426922        0.051429  0.571680\n",
      "3        4    1399          94  0.426944  0.453770        0.067191  0.746893\n",
      "4        5    1400          99  0.453809  0.483253        0.070714  0.786059\n",
      "5        6    1399         125  0.483285  0.512184        0.089350  0.993209\n",
      "6        7    1399         140  0.512197  0.544359        0.100071  1.112394\n",
      "7        8    1400         174  0.544414  0.574252        0.124286  1.381559\n",
      "8        9    1399         196  0.574255  0.605110        0.140100  1.557351\n",
      "9       10    1400         225  0.605122  0.708441        0.160714  1.786499\n"
     ]
    }
   ],
   "source": [
    "result = metrics_table(y_test, y_proba_rf_lm)\n",
    "print('{}\\n{:^80}\\n{}'.format('','Gain/Lift Chart',result))\n"
   ]
  },
  {
   "cell_type": "markdown",
   "metadata": {},
   "source": [
    "## Logistic Regression with Feature Transform From Gradient Boosting Model"
   ]
  },
  {
   "cell_type": "code",
   "execution_count": 22,
   "metadata": {},
   "outputs": [
    {
     "data": {
      "text/plain": [
       "LogisticRegression(C=0.00595, class_weight=None, dual=False, fit_intercept=True,\n",
       "                   intercept_scaling=1, l1_ratio=None, max_iter=1000,\n",
       "                   multi_class='warn', n_jobs=None, penalty='l2',\n",
       "                   random_state=42, solver='saga', tol=0.0001, verbose=0,\n",
       "                   warm_start=False)"
      ]
     },
     "execution_count": 22,
     "metadata": {},
     "output_type": "execute_result"
    }
   ],
   "source": [
    "n_estimator = 40\n",
    "grd = GradientBoostingClassifier(n_estimators=n_estimator,random_state=42, learning_rate=0.07)\n",
    "grd_enc = OneHotEncoder(categories='auto', sparse=False, handle_unknown='ignore')\n",
    "grd_lm = LogisticRegression(solver='saga', max_iter=1000, C=0.00595, random_state=42)\n",
    "grd.fit(X_train, y_train)\n",
    "grd_enc.fit(grd.apply(X_train)[:, :, 0])\n",
    "grd_lm.fit(grd_enc.transform(grd.apply(X_train_lr)[:, :, 0]), y_train_lr)"
   ]
  },
  {
   "cell_type": "markdown",
   "metadata": {},
   "source": [
    "#### GB + LR Grid Search CV"
   ]
  },
  {
   "cell_type": "code",
   "execution_count": 17,
   "metadata": {},
   "outputs": [
    {
     "name": "stdout",
     "output_type": "stream",
     "text": [
      "GradientBoostingClassifier(criterion='friedman_mse', init=None,\n",
      "                           learning_rate=0.07, loss='deviance', max_depth=3,\n",
      "                           max_features=None, max_leaf_nodes=None,\n",
      "                           min_impurity_decrease=0.0, min_impurity_split=None,\n",
      "                           min_samples_leaf=1, min_samples_split=2,\n",
      "                           min_weight_fraction_leaf=0.0, n_estimators=40,\n",
      "                           n_iter_no_change=None, presort='auto',\n",
      "                           random_state=42, subsample=1.0, tol=0.0001,\n",
      "                           validation_fraction=0.1, verbose=0,\n",
      "                           warm_start=False)\n",
      "LogisticRegression(C=0.003970000000000001, class_weight=None, dual=False,\n",
      "                   fit_intercept=True, intercept_scaling=1, l1_ratio=None,\n",
      "                   max_iter=1000, multi_class='warn', n_jobs=None, penalty='l2',\n",
      "                   random_state=42, solver='saga', tol=0.0001, verbose=0,\n",
      "                   warm_start=False)\n"
     ]
    }
   ],
   "source": [
    "grid_param = {'n_estimators':range(40,150,10), 'learning_rate':np.linspace(.05, .25, 21)}\n",
    "grid_grid_cv = ms.GridSearchCV(grd, cv=5, grid_param, n_jobs=-1, scoring='roc_auc')\n",
    "grid_grid_cv.fit(X_train, y_train)\n",
    "grd = grid_grid_cv.best_estimator_\n",
    "print(grd)\n",
    "\n",
    "grd_enc.fit(grd.apply(X_train)[:, :, 0])\n",
    "grid_param = {'C':np.linspace(0.1,0.001, 101)}\n",
    "grd_lm_grid_cv = ms.GridSearchCV(grd_lm, cv=5,grid_param, n_jobs=-1, scoring='roc_auc')\n",
    "grd_lm_grid_cv.fit(grd_enc.transform(grd.apply(X_train_lr)[:, :, 0]), y_train_lr)\n",
    "grd_lm = grd_lm_grid_cv.best_estimator_\n",
    "print(grd_lm)"
   ]
  },
  {
   "cell_type": "markdown",
   "metadata": {},
   "source": [
    "#### GB +LR Best Model "
   ]
  },
  {
   "cell_type": "code",
   "execution_count": 23,
   "metadata": {
    "scrolled": false
   },
   "outputs": [
    {
     "name": "stdout",
     "output_type": "stream",
     "text": [
      "GB AUC:  0.6423648599430832\n",
      "GB + LR AUC:  0.650857980829485\n",
      "\n",
      "       Classification Report on the Whole Population        \n",
      "              precision    recall  f1-score   support\n",
      "\n",
      "           0       0.94      0.64      0.76     12736\n",
      "           1       0.14      0.58      0.22      1259\n",
      "\n",
      "    accuracy                           0.64     13995\n",
      "   macro avg       0.54      0.61      0.49     13995\n",
      "weighted avg       0.87      0.64      0.71     13995\n",
      "\n",
      "\n",
      "                                Gain/Lift Chart                                 \n",
      "  quantile  amount  readmitted       min       max  pct_readmitted      lift\n",
      "0        1    1404          58  0.312312  0.355351        0.041311  0.459151\n",
      "1        2    1403          58  0.355393  0.379151        0.041340  0.459478\n",
      "2        3    1392          88  0.379176  0.398146        0.063218  0.702648\n",
      "3        4    1399          83  0.398183  0.423211        0.059328  0.659409\n",
      "4        5    1400         113  0.423214  0.448858        0.080714  0.897108\n",
      "5        6    1399          96  0.448860  0.489679        0.068620  0.762690\n",
      "6        7    1400         125  0.489734  0.537363        0.089286  0.992377\n",
      "7        8    1399         163  0.537451  0.584964        0.116512  1.294984\n",
      "8        9    1399         198  0.585036  0.638541        0.141530  1.573048\n",
      "9       10    1400         277  0.638593  0.826453        0.197857  2.199107\n"
     ]
    },
    {
     "data": {
      "image/png": "[encoded data removed]",
      "text/plain": [
       "<Figure size 432x288 with 1 Axes>"
      ]
     },
     "metadata": {
      "needs_background": "light"
     },
     "output_type": "display_data"
    }
   ],
   "source": [
    "y_proba_grd = grd.predict_proba(X_test)[:, 1]\n",
    "fpr_grd, tpr_grd, _ = roc_curve(y_test, y_proba_grd)\n",
    "auc_grd = auc(fpr_grd, tpr_grd)\n",
    "y_pred_grd = grd.predict(X_test)\n",
    "\n",
    "y_proba_grd_lm = grd_lm.predict_proba(\n",
    "    grd_enc.transform(grd.apply(X_test)[:, :, 0]))[:, 1]\n",
    "fpr_grd_lm, tpr_grd_lm, _ = roc_curve(y_test, y_proba_grd_lm)\n",
    "auc_grd_lm = auc(fpr_grd_lm, tpr_grd_lm)\n",
    "y_grd_lm = grd_lm.predict(\n",
    "    grd_enc.transform(grd.apply(X_test)[:, :, 0]))\n",
    "\n",
    "print('GB AUC: ',auc_grd)\n",
    "print(\"GB + LR AUC: \", auc_grd_lm)\n",
    "pd.Series(grd.feature_importances_, index=X_train.columns).sort_values()[-8:].plot(kind='barh')\n",
    "\n",
    "plt.title('Feature Importance from Gradient Boosting Model')\n",
    "#plt.xlabel('Importance')\n",
    "#plt.ylabel('Features')\n",
    "plt.savefig('grd_features.png', bbox_inches='tight')\n",
    "\n",
    "print('\\n{:^60}\\n{}'.format('Classification Report on the Whole Population',\\\n",
    "                            classification_report(y_test, y_grd_lm)))\n",
    "\n",
    "result=metrics_table(y_test, y_proba_grd_lm)\n",
    "print('{}\\n{:^80}\\n{}'.format('','Gain/Lift Chart',result))\n",
    "#result.append(regroup_lift(result,5), ignore_index=True)"
   ]
  },
  {
   "cell_type": "code",
   "execution_count": 24,
   "metadata": {},
   "outputs": [],
   "source": [
    "total_yes = result['readmitted'].sum()\n",
    "total_no = result['amount'].sum() - result['readmitted'].sum()\n",
    "quan_yes = result.loc[8:9, 'readmitted'].sum()\n",
    "quan_no = result.loc[8:9, 'amount'].sum() - quan_yes\n",
    "conf = [[quan_yes, quan_no], [total_yes-quan_yes, total_no-quan_no]]"
   ]
  },
  {
   "cell_type": "code",
   "execution_count": 25,
   "metadata": {},
   "outputs": [
    {
     "name": "stdout",
     "output_type": "stream",
     "text": [
      "1259 12736 475 2324\n"
     ]
    },
    {
     "data": {
      "text/plain": [
       "matrix([[  475,  2324],\n",
       "        [  784, 10412]], dtype=int64)"
      ]
     },
     "execution_count": 25,
     "metadata": {},
     "output_type": "execute_result"
    }
   ],
   "source": [
    "print(total_yes, total_no, quan_yes, quan_no)\n",
    "np.matrix(conf)"
   ]
  },
  {
   "cell_type": "markdown",
   "metadata": {},
   "source": [
    "## Reduced Linear Model"
   ]
  },
  {
   "cell_type": "code",
   "execution_count": 26,
   "metadata": {},
   "outputs": [
    {
     "data": {
      "text/plain": [
       "(10036, 42)"
      ]
     },
     "execution_count": 26,
     "metadata": {},
     "output_type": "execute_result"
    }
   ],
   "source": [
    "# Linear model\n",
    "\n",
    "X_train = pd.concat([X_train,X_train_lr], axis=0)\n",
    "y_train = pd.concat([y_train, y_train_lr], axis =0)\n",
    "\n",
    "X_train.shape"
   ]
  },
  {
   "cell_type": "code",
   "execution_count": 27,
   "metadata": {},
   "outputs": [
    {
     "name": "stdout",
     "output_type": "stream",
     "text": [
      "(10036, 5) (13995, 5)\n"
     ]
    },
    {
     "data": {
      "text/plain": [
       "LogisticRegression(C=0.1, class_weight='balanced', dual=False,\n",
       "                   fit_intercept=True, intercept_scaling=1, l1_ratio=None,\n",
       "                   max_iter=1000, multi_class='warn', n_jobs=-1, penalty='l2',\n",
       "                   random_state=42, solver='saga', tol=0.0001, verbose=0,\n",
       "                   warm_start=False)"
      ]
     },
     "execution_count": 27,
     "metadata": {},
     "output_type": "execute_result"
    }
   ],
   "source": [
    "# Reduced model\n",
    "\n",
    "X_train = X_train[['discharge_disposition_id','number_inpatient','age','time_in_hospital','diag_1_group']]\n",
    "\n",
    "X_test = X_test[['discharge_disposition_id','number_inpatient','age','time_in_hospital','diag_1_group']]\n",
    "print(X_train.shape, X_test.shape)\n",
    "\n",
    "enc1 = OneHotEncoder(categories='auto', sparse=False, handle_unknown='ignore')\n",
    "enc1.fit(X_train)\n",
    "\n",
    "lm = LogisticRegression(solver='saga', class_weight='balanced',max_iter=1000, C=0.1, penalty='l2', n_jobs=-1, random_state=42)\n",
    "lm.fit(enc1.transform(X_train), y_train)"
   ]
  },
  {
   "cell_type": "code",
   "execution_count": 31,
   "metadata": {},
   "outputs": [
    {
     "name": "stdout",
     "output_type": "stream",
     "text": [
      "LogisticRegression(C=0.09802000000000001, class_weight='balanced', dual=False,\n",
      "                   fit_intercept=True, intercept_scaling=1, l1_ratio=None,\n",
      "                   max_iter=1000, multi_class='warn', n_jobs=-1, penalty='l2',\n",
      "                   random_state=42, solver='saga', tol=0.0001, verbose=0,\n",
      "                   warm_start=False)\n"
     ]
    }
   ],
   "source": [
    "grid_param = {'C':np.linspace(0.1,0.001, 101)}\n",
    "lm_grid_cv = ms.GridSearchCV(lm, cv=5, grid_param, n_jobs=-1, scoring='roc_auc')\n",
    "lm_grid_cv.fit(enc1.transform(X_train), y_train)\n",
    "lm = lm_grid_cv.best_estimator_\n",
    "print(lm)"
   ]
  },
  {
   "cell_type": "code",
   "execution_count": 28,
   "metadata": {},
   "outputs": [
    {
     "name": "stdout",
     "output_type": "stream",
     "text": [
      "0.6466320632152023\n",
      "\n",
      "       Classification Report on the Whole Population        \n",
      "              precision    recall  f1-score   support\n",
      "\n",
      "           0       0.94      0.68      0.79     12736\n",
      "           1       0.14      0.53      0.22      1259\n",
      "\n",
      "    accuracy                           0.67     13995\n",
      "   macro avg       0.54      0.61      0.51     13995\n",
      "weighted avg       0.86      0.67      0.74     13995\n",
      "\n"
     ]
    }
   ],
   "source": [
    "y_proba_lm = lm.predict_proba(\n",
    "    enc1.transform(X_test))[:, 1]\n",
    "\n",
    "y_lm = lm.predict(enc1.transform(X_test))\n",
    "\n",
    "fpr_lm, tpr_lm, _ = roc_curve(y_test, y_proba_lm)\n",
    "auc_lm = auc(fpr_lm, tpr_lm)\n",
    "print(auc_lm)\n",
    "print('\\n{:^60}\\n{}'.format('Classification Report on the Whole Population',\\\n",
    "    classification_report(y_test, y_lm)))"
   ]
  },
  {
   "cell_type": "code",
   "execution_count": 29,
   "metadata": {},
   "outputs": [
    {
     "name": "stdout",
     "output_type": "stream",
     "text": [
      "\n",
      "                                Gain/Lift Chart                                 \n",
      "  quantile  amount  readmitted       min       max  pct_readmitted      lift\n",
      "0        1    1402          59  0.290552  0.367706        0.042083  0.466684\n",
      "1        2    1398          81  0.368000  0.390374        0.057940  0.642535\n",
      "2        3    1405          83  0.390486  0.406832        0.059075  0.655120\n",
      "3        4    1529          95  0.406960  0.427165        0.062132  0.689025\n",
      "4        5    1383          85  0.427221  0.447004        0.061461  0.681578\n",
      "5        6    1280         102  0.447102  0.471438        0.079687  0.883709\n",
      "6        7    1399         139  0.471565  0.516251        0.099357  1.101834\n",
      "7        8    1400         142  0.516295  0.566393        0.101429  1.124811\n",
      "8        9    1408         169  0.566419  0.625503        0.120028  1.331077\n",
      "9       10    1391         304  0.625701  0.919281        0.218548  2.423626\n"
     ]
    }
   ],
   "source": [
    "result=metrics_table(y_test, y_proba_lm)\n",
    "print('{}\\n{:^80}\\n{}'.format('','Gain/Lift Chart',result))"
   ]
  },
  {
   "cell_type": "code",
   "execution_count": 30,
   "metadata": {},
   "outputs": [
    {
     "data": {
      "image/png": "[encoded data removed]",
      "text/plain": [
       "<Figure size 432x288 with 1 Axes>"
      ]
     },
     "metadata": {
      "needs_background": "light"
     },
     "output_type": "display_data"
    }
   ],
   "source": [
    "\n",
    "plt.plot([0, 1], [0, 1], 'k--')\n",
    "plt.plot(fpr_rf, tpr_rf, label='RF AUC={:.3f}'.format(auc_rf))\n",
    "plt.plot(fpr_grd, tpr_grd, label='GBT  AUC={:.3f}'.format(auc_grd))\n",
    "plt.plot(fpr_lm, tpr_lm, label='LR Reduced AUC={:.3f}'.format(auc_lm))\n",
    "#plt.plot(fpr_full_lm, tpr_full_lm, label='LR Full AUC={:.3f}'.format(auc_lm))\n",
    "plt.xlabel('False positive rate')\n",
    "plt.ylabel('True positive rate')\n",
    "plt.title('ROC curve')\n",
    "plt.legend(loc='best')\n",
    "\n",
    "plt.savefig('roc.png',bbox_inches='tight')\n"
   ]
  }
 ],
 "metadata": {
  "kernelspec": {
   "display_name": "Python 3",
   "language": "python",
   "name": "python3"
  },
  "language_info": {
   "codemirror_mode": {
    "name": "ipython",
    "version": 3
   },
   "file_extension": ".py",
   "mimetype": "text/x-python",
   "name": "python",
   "nbconvert_exporter": "python",
   "pygments_lexer": "ipython3",
   "version": "3.7.4"
  }
 },
 "nbformat": 4,
 "nbformat_minor": 2
}
